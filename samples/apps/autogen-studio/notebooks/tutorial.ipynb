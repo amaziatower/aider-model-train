{
 "cells": [
  {
   "cell_type": "code",
   "execution_count": 1,
   "metadata": {},
   "outputs": [
    {
     "name": "stderr",
     "output_type": "stream",
     "text": [
      "/opt/homebrew/Caskroom/miniconda/base/envs/autog/lib/python3.10/site-packages/tqdm/auto.py:21: TqdmWarning: IProgress not found. Please update jupyter and ipywidgets. See https://ipywidgets.readthedocs.io/en/stable/user_install.html\n",
      "  from .autonotebook import tqdm as notebook_tqdm\n"
     ]
    }
   ],
   "source": [
    "from autogenstudio import WorkflowManager"
   ]
  },
  {
   "cell_type": "markdown",
   "metadata": {},
   "source": [
    "## AutoGen Studio Agent Workflow API Example\n",
    "\n",
    "This notebook focuses on demonstrating capabilities of the autogen studio workflow python api.  \n",
    "\n",
    "- Declarative Specification of an Agent Workflow \n",
    "- Loading the specification and running the resulting agent\n",
    "\n",
    "\n",
    "> Note: The notebook currently demonstrates support for a two agent setup. Support for GroupChat is currently in development."
   ]
  },
  {
   "cell_type": "code",
   "execution_count": 2,
   "metadata": {},
   "outputs": [
    {
     "name": "stdout",
     "output_type": "stream",
     "text": [
      "\u001b[33muser_proxy\u001b[0m (to default_assistant):\n",
      "\n",
      "What is the height of the Eiffel Tower?. Dont write code, just respond to the question.\n"
     ]
    },
    {
     "name": "stdout",
     "output_type": "stream",
     "text": [
      "\n",
      "--------------------------------------------------------------------------------\n",
      "\u001b[33mdefault_assistant\u001b[0m (to user_proxy):\n",
      "\n",
      "The Eiffel Tower is approximately 300 meters (984 feet) tall, not including antennas. With antennas, it reaches a height of about 330 meters (1,083 feet).\n",
      "\n",
      "--------------------------------------------------------------------------------\n",
      "\u001b[33muser_proxy\u001b[0m (to default_assistant):\n",
      "\n",
      "TERMINATE\n",
      "\n",
      "--------------------------------------------------------------------------------\n"
     ]
    }
   ],
   "source": [
    "# load workflow from json file\n",
    "workflow_manager = WorkflowManager(workflow=\"two_agent.json\")\n",
    "\n",
    "# run the workflow on a task\n",
    "task_query = \"What is the height of the Eiffel Tower?. Dont write code, just respond to the question.\"\n",
    "workflow_manager.run(message=task_query)"
   ]
  },
  {
   "cell_type": "code",
   "execution_count": 3,
   "metadata": {},
   "outputs": [
    {
     "data": {
      "text/plain": [
       "[{'recipient': 'default_assistant',\n",
       "  'sender': 'user_proxy',\n",
       "  'message': {'content': 'What is the height of the Eiffel Tower?. Dont write code, just respond to the question.',\n",
       "   'role': 'user'},\n",
       "  'timestamp': '2024-05-14T16:20:29.048237',\n",
       "  'sender_type': 'agent',\n",
       "  'connection_id': None,\n",
       "  'message_type': 'agent_message'},\n",
       " {'recipient': 'user_proxy',\n",
       "  'sender': 'default_assistant',\n",
       "  'message': {'content': 'The Eiffel Tower is approximately 300 meters (984 feet) tall, not including antennas. With antennas, it reaches a height of about 330 meters (1,083 feet).',\n",
       "   'role': 'user'},\n",
       "  'timestamp': '2024-05-14T16:20:31.797875',\n",
       "  'sender_type': 'agent',\n",
       "  'connection_id': None,\n",
       "  'message_type': 'agent_message'},\n",
       " {'recipient': 'default_assistant',\n",
       "  'sender': 'user_proxy',\n",
       "  'message': {'content': 'TERMINATE', 'role': 'user'},\n",
       "  'timestamp': '2024-05-14T16:20:31.799830',\n",
       "  'sender_type': 'agent',\n",
       "  'connection_id': None,\n",
       "  'message_type': 'agent_message'}]"
      ]
     },
     "execution_count": 3,
     "metadata": {},
     "output_type": "execute_result"
    }
   ],
   "source": [
    "# print the agent history\n",
    "workflow_manager.agent_history"
   ]
  },
  {
   "cell_type": "markdown",
   "metadata": {},
   "source": [
    "## Group Chat Agent"
   ]
  },
  {
   "cell_type": "code",
   "execution_count": 4,
   "metadata": {},
   "outputs": [
    {
     "name": "stdout",
     "output_type": "stream",
     "text": [
      "\u001b[33muser_proxy\u001b[0m (to chat_manager):\n",
      "\n",
      "plan a two day trip to Maui hawaii\n",
      "\n",
      "--------------------------------------------------------------------------------\n",
      "\u001b[33mplanner_assistant\u001b[0m (to chat_manager):\n",
      "\n",
      "To plan a two-day trip to Maui, Hawaii, we'll need to consider several aspects such as accommodation, transportation, activities, and dining options. Here's a preliminary outline for your trip:\n",
      "\n",
      "**Day 1: Arrival and Exploration**\n",
      "\n",
      "- **Morning:**\n",
      "  - Arrive at Kahului Airport (OGG).\n",
      "  - Pick up a rental car (consider booking in advance).\n",
      "  - Check into your hotel or accommodation. (I'll need to know your preferences to suggest options.)\n",
      "\n",
      "- **Afternoon:**\n",
      "  - Lunch at a local restaurant (I'll get suggestions from the local_assistant).\n",
      "  - Visit the Iao Valley State Park to see the Iao Needle and take a short hike.\n",
      "\n",
      "- **Evening:**\n",
      "  - Dinner at a recommended restaurant (local_assistant will provide options).\n",
      "  - Relax at the hotel or explore local shops and the beach.\n",
      "\n",
      "**Day 2: Adventure and Relaxation**\n",
      "\n",
      "- **Morning:**\n",
      "  - Drive to Haleakalā National Park to witness the sunrise (requires early reservation).\n",
      "  - Breakfast at a café near the park (suggestions to come from local_assistant).\n",
      "\n",
      "- **Afternoon:**\n",
      "  - Visit the Maui Ocean Center or take a snorkeling trip to Molokini Crater.\n",
      "  - Lunch at a seaside restaurant (local_assistant will advise).\n",
      "\n",
      "- **Evening:**\n",
      "  - Attend a traditional Luau for dinner and entertainment (booking required, I'll get options).\n",
      "  - Return to the hotel to pack and prepare for departure.\n",
      "\n",
      "**Additional Considerations:**\n",
      "- Language tips and cultural etiquette (language_assistant will provide insights).\n",
      "- COVID-19 protocols and safety measures (I'll update you on the latest requirements).\n",
      "\n",
      "I will now gather more specific suggestions from the local_assistant and language_assistant to complete your travel plan. Please hold on.\n",
      "\n",
      "--------------------------------------------------------------------------------\n",
      "\u001b[33mlocal_assistant\u001b[0m (to chat_manager):\n",
      "\n",
      "As your local assistant, I can provide you with more detailed suggestions for your two-day trip to Maui, Hawaii. Here's a refined plan with local insights:\n",
      "\n",
      "**Day 1: Arrival and Exploration**\n",
      "\n",
      "- **Morning:**\n",
      "  - Upon arrival, consider renting a car from companies like Hertz, Enterprise, or a local rental agency.\n",
      "  - For accommodations, you might want to look into hotels in the Wailea area for luxury stays or Kihei for more budget-friendly options.\n",
      "\n",
      "- **Afternoon:**\n",
      "  - Enjoy a local lunch at Paia Fish Market in Paia Town, known for its fresh seafood.\n",
      "  - Head to Iao Valley State Park and enjoy the lush scenery and historical significance.\n",
      "\n",
      "- **Evening:**\n",
      "  - Dine at Mama's Fish House in Paia for a high-end dinner with ocean views.\n",
      "  - Stroll through Lahaina Town and check out the local art galleries and shops.\n",
      "\n",
      "**Day 2: Adventure and Relaxation**\n",
      "\n",
      "- **Morning:**\n",
      "  - For Haleakalā sunrise, make sure to reserve your spot well in advance as it's required for sunrise viewing.\n",
      "  - Grab breakfast at Kula Lodge with a view of the West Maui Mountains.\n",
      "\n",
      "- **Afternoon:**\n",
      "  - If you choose the Maui Ocean Center, you'll find it in Ma'alaea with exhibits of local marine life.\n",
      "  - For snorkeling, consider a tour operator like Pacific Whale Foundation for trips to Molokini Crater.\n",
      "  - Have lunch at Café O'Lei at the Dunes for a mix of local and international cuisine.\n",
      "\n",
      "- **Evening:**\n",
      "  - Book a Luau, such as the Old Lahaina Luau or the Feast at Lele, for a cultural experience with food and performances.\n",
      "  - Enjoy your last evening and prepare for your departure the next day.\n",
      "\n",
      "**Weather and Events:**\n",
      "- Maui typically has warm weather year-round, but it's always good to check the forecast closer to your trip for any unexpected changes.\n",
      "- Check local event calendars for any festivals or special events that might be happening during your visit.\n",
      "\n",
      "Remember to book activities and dining in advance, especially during peak tourist seasons. Enjoy your trip to Maui!\n",
      "\n",
      "--------------------------------------------------------------------------------\n",
      "\u001b[33mlanguage_assistant\u001b[0m (to chat_manager):\n",
      "\n",
      "As the language assistant, I can provide you with some language tips and communication strategies for your trip to Maui, Hawaii. While English is the primary language spoken in Hawaii, the Hawaiian language (ʻŌlelo Hawaiʻi) is an official language of the state and is proudly preserved and used in many cultural contexts.\n",
      "\n",
      "**Language Tips:**\n",
      "\n",
      "- **Basic Hawaiian Phrases:**\n",
      "  - Aloha - Hello, goodbye, love\n",
      "  - Mahalo - Thank you\n",
      "  - E kala mai - Excuse me\n",
      "  - A hui hou - Until we meet again\n",
      "  - ʻOno - Delicious or tasty\n",
      "\n",
      "- **Cultural Etiquette:**\n",
      "  - Use \"Aloha\" and \"Mahalo\" generously. They are key expressions of the friendly Hawaiian spirit.\n",
      "  - Be respectful when visiting cultural sites and heed any posted kapu (taboo) signs, which indicate restricted or sacred areas.\n",
      "\n",
      "- **Pronunciation:**\n",
      "  - Hawaiian words are phonetic and every letter is pronounced. For example, \"Haleakalā\" is pronounced \"Ha-lay-ah-ka-lah.\"\n",
      "  - Pay attention to the ʻokina (‘), which is a glottal stop, similar to the sound between the syllables of \"oh-oh.\"\n",
      "\n",
      "- **Learning Resources:**\n",
      "  - Consider downloading a Hawaiian language app or a phrasebook to familiarize yourself with common words and phrases.\n",
      "  - Listen to Hawaiian music or watch videos to get accustomed to the pronunciation.\n",
      "\n",
      "**Communication Strategies:**\n",
      "\n",
      "- **English Proficiency:**\n",
      "  - English is widely spoken, so you should have no trouble communicating with locals and service providers.\n",
      "\n",
      "- **Signage and Information:**\n",
      "  - All important signs, menus, and information will typically be available in English.\n",
      "\n",
      "- **Cultural Sensitivity:**\n",
      "  - Show respect for the Hawaiian culture and traditions. If you're unsure about something, it's okay to ask questions politely.\n",
      "\n",
      "Since English is the primary language in Hawaii, you should not encounter significant language barriers. However, showing an interest in the Hawaiian language and culture can enhance your experience and is appreciated by locals. Your travel plan does not specifically mention language preparation, but given the widespread use of English, you should be well-equipped to communicate effectively during your trip. If you wish to immerse yourself more deeply in the local culture, learning a few Hawaiian phrases and understanding the cultural context would be beneficial.\n",
      "\n",
      "--------------------------------------------------------------------------------\n",
      "\u001b[33muser_proxy\u001b[0m (to chat_manager):\n",
      "\n",
      "TERMINATE\n",
      "\n",
      "--------------------------------------------------------------------------------\n"
     ]
    }
   ],
   "source": [
    "# load workflow from json file\n",
    "travel_workflow_manager = WorkflowManager(workflow=\"travel_groupchat.json\")\n",
    "\n",
    "# run the workflow on a task\n",
    "task_query = \"plan a two day trip to Maui hawaii\"\n",
    "travel_workflow_manager.run(message=task_query)"
   ]
  },
  {
   "cell_type": "code",
   "execution_count": 10,
   "metadata": {},
   "outputs": [
    {
     "data": {
      "text/plain": [
       "[{'recipient': 'chat_manager',\n",
       "  'sender': 'user_proxy',\n",
       "  'message': {'content': 'plan a two day trip to Maui hawaii', 'role': 'user'},\n",
       "  'timestamp': '2024-05-14T16:08:25.904718',\n",
       "  'sender_type': 'groupchat',\n",
       "  'connection_id': None,\n",
       "  'message_type': 'agent_message'},\n",
       " {'recipient': 'chat_manager',\n",
       "  'sender': 'planner_assistant',\n",
       "  'message': {'content': \"To plan a two-day trip to Maui, Hawaii, we'll need to consider several aspects such as accommodations, transportation, activities, dining, and any specific interests you might have. Here's a preliminary outline for your trip:\\n\\n**Day 1: Arrival and Exploration**\\n\\n- **Morning:**\\n  - Arrive at Kahului Airport (OGG).\\n  - Pick up a rental car (considering the limited public transportation on the island).\\n  - Check into your hotel or resort. I recommend staying in the West Maui area for its beautiful beaches and great snorkeling spots.\\n\\n- **Afternoon:**\\n  - Have lunch at a local restaurant, such as Mama's Fish House for some fresh seafood.\\n  - Visit the historic town of Lahaina. You can walk along Front Street, check out the art galleries, and see the famous Banyan Tree.\\n\\n- **Evening:**\\n  - Attend a traditional Hawaiian luau. The Old Lahaina Luau is highly recommended for an authentic experience.\\n  - Return to the hotel and rest.\\n\\n**Day 2: Adventure and Relaxation**\\n\\n- **Morning:**\\n  - Drive to Haleakalā National Park to witness the sunrise (requires a reservation).\\n  - Explore the park's visitor center and hiking trails.\\n\\n- **Afternoon:**\\n  - Return to the hotel for a late breakfast or early lunch.\\n  - Spend the afternoon at Ka'anapali Beach, where you can relax, swim, or snorkel.\\n\\n- **Evening:**\\n  - Have dinner at a restaurant with a view, such as Merriman's Kapalua.\\n  - Enjoy a sunset walk on the beach before heading back to the hotel.\\n\\n**Additional Tips:**\\n- Make reservations for accommodations, car rentals, and activities in advance, especially during peak travel seasons.\\n- Pack sunscreen, a hat, and comfortable walking shoes.\\n- Stay hydrated and respect the local environment and culture.\\n\\nI will now consult with the local_assistant and language_assistant for any additional suggestions or advice to enhance this travel plan. Please hold on.\",\n",
       "   'role': 'user'},\n",
       "  'timestamp': '2024-05-14T16:08:40.663732',\n",
       "  'sender_type': 'groupchat',\n",
       "  'connection_id': None,\n",
       "  'message_type': 'agent_message'},\n",
       " {'recipient': 'chat_manager',\n",
       "  'sender': 'local_assistant',\n",
       "  'message': {'content': \"As a local assistant, I can provide you with more specific suggestions and information to enhance your two-day trip to Maui. Here are some additional tips and local insights:\\n\\n**Weather:**\\n- Check the weather forecast before you go. Maui's weather can be quite variable, with microclimates across the island. For example, Haleakalā National Park can be quite chilly in the morning, so bring a jacket.\\n\\n**Local Events:**\\n- Look for any local events happening during your stay. Maui often hosts cultural festivals, art shows, and farmers' markets that can offer a unique local experience.\\n\\n**Dining:**\\n- For a casual lunch, consider trying local food trucks or a plate lunch from a place like Aloha Mixed Plate.\\n- If you're interested in farm-to-table dining, visit a restaurant like The Mill House, which sources ingredients from the surrounding plantation.\\n\\n**Activities:**\\n- If you're interested in water activities, consider a snorkeling trip to Molokini Crater.\\n- For a unique experience, visit the Maui Ocean Center to learn about Hawaii's marine life.\\n- If you have time, a drive along the Road to Hana offers breathtaking scenery and numerous stops for waterfalls, hikes, and beaches. However, this is a full-day activity, so it might be challenging to fit into a two-day itinerary.\\n\\n**Shopping:**\\n- Whalers Village in Ka'anapali offers a variety of shops and restaurants if you're looking for souvenirs or local products.\\n\\n**Cultural Experiences:**\\n- Visit the Maui Arts & Cultural Center to see if there are any performances or exhibits during your stay.\\n\\nRemember to respect the local environment by not touching or stepping on coral reefs and by using reef-safe sunscreen to protect marine life. Always follow any posted signs and local guidelines to ensure the preservation of Maui's natural beauty.\\n\\nEnjoy your trip to Maui, and feel free to ask if you have any specific questions or need further assistance!\",\n",
       "   'role': 'user'},\n",
       "  'timestamp': '2024-05-14T16:08:54.848279',\n",
       "  'sender_type': 'groupchat',\n",
       "  'connection_id': None,\n",
       "  'message_type': 'agent_message'},\n",
       " {'recipient': 'chat_manager',\n",
       "  'sender': 'language_assistant',\n",
       "  'message': {'content': \"Regarding language and communication challenges, traveling to Maui, Hawaii, should be relatively straightforward as English is the primary language spoken there. However, it's always appreciated when visitors show respect and interest in the local culture and language. Here are some tips to address language and communication in Maui:\\n\\n1. **Learn Basic Hawaiian Phrases:** While English is widely spoken, Hawaiian is an official language of the state. Learning a few basic phrases can be a sign of respect and can enhance your experience. For example:\\n   - Aloha - Hello/Goodbye\\n   - Mahalo - Thank you\\n   - 'A'ole pilikia - You're welcome/No problem\\n\\n2. **Cultural Sensitivity:** Be aware of the cultural significance of certain Hawaiian words and places. Show respect when visiting culturally important sites or participating in traditional events like luaus.\\n\\n3. **Use of Pidgin:** Some locals may speak Pidgin, a creole language in Hawaii that incorporates elements of Hawaiian, English, and other languages. It's not necessary to learn Pidgin, but understanding that it exists can help with communication.\\n\\n4. **Ask Politely:** If you don't understand something, whether it's a word or a cultural practice, it's perfectly acceptable to ask. Most locals are happy to explain and share their culture with interested visitors.\\n\\n5. **Travel Guides and Apps:** Consider downloading travel apps or carrying a guidebook that includes a section on local language and customs.\\n\\n6. **Cultural Experiences:** Participate in cultural experiences that may offer language workshops or introductions to Hawaiian language and culture.\\n\\nSince the travel plan does not specifically include language tips, these suggestions should be incorporated to ensure a smooth and culturally respectful experience. However, given that English is the primary language, you should not expect significant language barriers while in Maui. Enjoy your trip!\",\n",
       "   'role': 'user'},\n",
       "  'timestamp': '2024-05-14T16:09:08.872069',\n",
       "  'sender_type': 'groupchat',\n",
       "  'connection_id': None,\n",
       "  'message_type': 'agent_message'},\n",
       " {'recipient': 'chat_manager',\n",
       "  'sender': 'user_proxy',\n",
       "  'message': {'content': 'TERMINATE', 'role': 'user'},\n",
       "  'timestamp': '2024-05-14T16:09:10.032145',\n",
       "  'sender_type': 'groupchat',\n",
       "  'connection_id': None,\n",
       "  'message_type': 'agent_message'}]"
      ]
     },
     "execution_count": 10,
     "metadata": {},
     "output_type": "execute_result"
    }
   ],
   "source": [
    "# print the agent history\n",
    "print(len(travel_workflow_manager.agent_history), \"agent messages were involved in the conversation\")\n",
    "travel_workflow_manager.agent_history"
   ]
  }
 ],
 "metadata": {
  "kernelspec": {
   "display_name": "coral",
   "language": "python",
   "name": "python3"
  },
  "language_info": {
   "codemirror_mode": {
    "name": "ipython",
    "version": 3
   },
   "file_extension": ".py",
   "mimetype": "text/x-python",
   "name": "python",
   "nbconvert_exporter": "python",
   "pygments_lexer": "ipython3",
   "version": "3.10.13"
  }
 },
 "nbformat": 4,
 "nbformat_minor": 2
}
