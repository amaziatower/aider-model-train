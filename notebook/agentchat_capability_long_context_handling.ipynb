{
 "cells": [
  {
   "cell_type": "markdown",
   "metadata": {},
   "source": [
    "### Long Context Handling Capability\n",
    "\n",
    "This notebook illustrates how you can use `capabilities` to give any `Conversable` agent an ability to handle long contexts."
   ]
  },
  {
   "cell_type": "code",
   "execution_count": 1,
   "metadata": {},
   "outputs": [],
   "source": [
    "## Uncomment to install pyautogen if you don't have it already\n",
    "#! pip install pyautogen"
   ]
  },
  {
   "cell_type": "code",
   "execution_count": 2,
   "metadata": {},
   "outputs": [],
   "source": [
    "import autogen\n",
    "from autogen.agentchat.contrib.capabilities import context_handling"
   ]
  },
  {
   "cell_type": "code",
   "execution_count": 3,
   "metadata": {},
   "outputs": [
    {
     "name": "stdout",
     "output_type": "stream",
     "text": [
      "\u001b[33muser_proxy\u001b[0m (to assistant):\n",
      "\n",
      "plot and save a graph of x^2 from -10 to 10\n",
      "\n",
      "--------------------------------------------------------------------------------\n",
      "\u001b[33massistant\u001b[0m (to user_proxy):\n",
      "\n",
      "To plot and save a graph of the function \\( x^2 \\) from \\( -10 \\) to \\( 10 \\), we need to use a library like `matplotlib`. If you don't have `matplotlib` installed, you will need to install it first using `pip`. \n",
      "\n",
      "Here’s the plan we will follow:\n",
      "1. Import the required libraries, which are `matplotlib` for plotting and `numpy` for generating the range of x-values.\n",
      "2. Generate a range of x-values from -10 to 10.\n",
      "3. Calculate the corresponding y-values for \\( x^2 \\).\n",
      "4. Plot the graph using `matplotlib`.\n",
      "5. Save the graph to a file, for example, as `\"x_squared_plot.png\"`.\n",
      "\n",
      "I will give you the complete code to execute, step by step:\n",
      "\n",
      "```python\n",
      "# Import necessary libraries\n",
      "import matplotlib.pyplot as plt\n",
      "import numpy as np\n",
      "\n",
      "# Generate a range of x-values\n",
      "x_values = np.linspace(-10, 10, 400)  # 400 points for smoothness of the plot\n",
      "y_values = x_values**2                # Calculate y-values (x^2)\n",
      "\n",
      "# Plot the graph\n",
      "plt.figure(figsize=(8, 6))            # Optional: Specifies the figure size\n",
      "plt.plot(x_values, y_values, label='y = x^2')  # Plot the line\n",
      "plt.title('Graph of y = x^2')         # Title of the graph\n",
      "plt.xlabel('x')                       # X-axis label\n",
      "plt.ylabel('y')                       # Y-axis label\n",
      "plt.legend()                          # Show legend\n",
      "plt.grid(True)                        # Show grid\n",
      "plt.savefig('x_squared_plot.png')     # Save the figure as a PNG file\n",
      "plt.show()                            # Display the plot\n",
      "```\n",
      "Please execute the code above to plot and save the graph of \\( x^2 \\) from \\( -10 \\) to \\( 10 \\). If `matplotlib` or `numpy` are not installed, you might get an ImportError. Let me know if there are any issues, and I can guide you on how to resolve them.\n",
      "\n",
      "--------------------------------------------------------------------------------\n",
      "\u001b[31m\n",
      ">>>>>>>> EXECUTING CODE BLOCK 0 (inferred language is python)...\u001b[0m\n",
      "\u001b[33muser_proxy\u001b[0m (to assistant):\n",
      "\n",
      "exitcode: 0 (execution succeeded)\n",
      "Code output: \n",
      "Figure(800x600)\n",
      "\n",
      "\n",
      "--------------------------------------------------------------------------------\n",
      "\u001b[33massistant\u001b[0m (to user_proxy):\n",
      "\n",
      "It seems that the code executed successfully and the graph was generated. The \"Figure(800x600)\" indicates that the figure window was created in the specified size but does not confirm whether the graph was correctly plotted or the file was saved. \n",
      "\n",
      "Since I cannot directly verify the graph, could you please confirm if the graph was displayed with the plot of \\( x^2 \\) from \\( -10 \\) to \\( 10 \\) and if a file named 'plot.png' was saved in the current directory?\n",
      "\n",
      "If everything is correct, we can consider the task completed.\n",
      "\n",
      "If not, please let me know what went wrong or is missing, and I can provide further assistance.\n",
      "\n",
      "--------------------------------------------------------------------------------\n",
      "\u001b[33muser_proxy\u001b[0m (to assistant):\n",
      "\n",
      "\n",
      "\n",
      "--------------------------------------------------------------------------------\n",
      "\u001b[33massistant\u001b[0m (to user_proxy):\n",
      "\n",
      "It appears there was no response after the code execution. To ensure that everything worked as intended, you should now have a file named \"x_squared_plot.png\" saved in the directory where the code was executed. This file contains the plot of \\( x^2 \\) from \\( -10 \\) to \\( 10 \\).\n",
      "\n",
      "For your convenience, if you need to find the file, you can execute the following command in your shell to search for the file in the current directory:\n",
      "\n",
      "```sh\n",
      "find . -name \"x_squared_plot.png\"\n",
      "```\n",
      "\n",
      "You should see the path to the saved file printed out. \n",
      "\n",
      "If there are any issues or if you cannot find the file, please let me know so I can assist you further. If everything worked out and you have found the file with the plot, then the task is completed.\n",
      "\n",
      "TERMINATE\n",
      "\n",
      "--------------------------------------------------------------------------------\n"
     ]
    }
   ],
   "source": [
    "config_list = autogen.config_list_from_json(\"OAI_CONFIG_LIST\")\n",
    "\n",
    "assistant = autogen.AssistantAgent(\n",
    "    \"assistant\",\n",
    "    llm_config={\n",
    "        \"config_list\": config_list,\n",
    "    },\n",
    ")\n",
    "manage_chat_history = context_handling.TransformChatHistory(max_tokens_per_message=50, max_messages=10, max_tokens=1000)\n",
    "manage_chat_history.add_to_agent(assistant)\n",
    "\n",
    "user_proxy = autogen.UserProxyAgent(\n",
    "    \"user_proxy\",\n",
    "    human_input_mode=\"NEVER\",\n",
    "    is_termination_msg=lambda x: \"TERMINATE\" in x.get(\"content\", \"\"),\n",
    "    code_execution_config={\n",
    "        \"work_dir\": \"coding\",\n",
    "        \"use_docker\": False,\n",
    "    },\n",
    "    max_consecutive_auto_reply=10,\n",
    ")\n",
    "\n",
    "user_proxy.initiate_chat(assistant, message=\"plot and save a graph of x^2 from -10 to 10\")"
   ]
  }
 ],
 "metadata": {
  "kernelspec": {
   "display_name": "Python 3",
   "language": "python",
   "name": "python3"
  },
  "language_info": {
   "codemirror_mode": {
    "name": "ipython",
    "version": 3
   },
   "file_extension": ".py",
   "mimetype": "text/x-python",
   "name": "python",
   "nbconvert_exporter": "python",
   "pygments_lexer": "ipython3",
   "version": "3.10.13"
  }
 },
 "nbformat": 4,
 "nbformat_minor": 2
}
