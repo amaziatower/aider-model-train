{
 "cells": [
  {
   "cell_type": "markdown",
   "metadata": {},
   "source": [
    "# Intro to Built-In Functions from `contrib.functions`\n",
    "\n",
    "\n",
    "## Initial Setup\n",
    "\n",
    "Lets first import the necessary modules and define the agents."
   ]
  },
  {
   "cell_type": "code",
   "execution_count": 1,
   "metadata": {},
   "outputs": [],
   "source": [
    "import os\n",
    "from autogen import AssistantAgent, UserProxyAgent\n",
    "from autogen.agentchat.contrib.functions import youtube_utils as yt\n",
    "from autogen.agentchat.contrib.functions import file_utils as fu"
   ]
  },
  {
   "cell_type": "code",
   "execution_count": 2,
   "metadata": {},
   "outputs": [],
   "source": [
    "config_list = [\n",
    "    {\n",
    "        \"model\": \"gpt-4\",\n",
    "        \"api_key\": os.environ.get(\"OPENAI_API_KEY\"),\n",
    "    }\n",
    "]\n",
    "\n",
    "assistant = AssistantAgent(name=\"coder\", llm_config={\"config_list\": config_list, \"cache\": None})\n",
    "user = UserProxyAgent(\n",
    "    name=\"user\",\n",
    "    code_execution_config={\n",
    "        \"work_dir\": \"/tmp\",\n",
    "    },\n",
    "    human_input_mode=\"NEVER\",\n",
    "    is_termination_msg=lambda x: x.get(\"content\", \"\") and \"TERMINATE\" in x.get(\"content\", \"\"),\n",
    ")"
   ]
  },
  {
   "cell_type": "markdown",
   "metadata": {},
   "source": [
    "## Simple Example"
   ]
  },
  {
   "cell_type": "code",
   "execution_count": 3,
   "metadata": {},
   "outputs": [
    {
     "name": "stdout",
     "output_type": "stream",
     "text": [
      "\u001b[33muser\u001b[0m (to coder):\n",
      "\n",
      "Please summarize the video: https://www.youtube.com/watch?v=9iqn1HhFJ6c\n",
      "\n",
      "--------------------------------------------------------------------------------\n",
      "\u001b[33mcoder\u001b[0m (to user):\n",
      "\n",
      "\u001b[32m***** Suggested tool Call (call_uu7fVdiv87S8pLLRxFxYRGtV): get_youtube_transcript *****\u001b[0m\n",
      "Arguments: \n",
      "{\n",
      "  \"youtube_link\": \"https://www.youtube.com/watch?v=9iqn1HhFJ6c\"\n",
      "}\n",
      "\u001b[32m***************************************************************************************\u001b[0m\n",
      "\n",
      "--------------------------------------------------------------------------------\n",
      "\u001b[35m\n",
      ">>>>>>>> EXECUTING FUNCTION get_youtube_transcript...\u001b[0m\n",
      "requested package: youtube_transcript_api 0.6.0\n",
      "found package youtube-transcript-api 0.6.0\n",
      "\u001b[33muser\u001b[0m (to coder):\n",
      "\n",
      "\u001b[33muser\u001b[0m (to coder):\n",
      "\n",
      "\u001b[32m***** Response from calling tool \"call_uu7fVdiv87S8pLLRxFxYRGtV\" *****\u001b[0m\n",
      "now ai is a great thing because AI will solve all the problems that we have today it will solve employment it will solve disease it will solve poverty but it will also create new problems the problem of fake news is going to be a million times worse cyber attacks will become much more extreme we will have totally automated AI weapons I think AI has the potential to create infinitely stable dictatorships this morning a warning about the the power of artificial intelligence more than 1,300 tech industry leaders researchers and others are now asking for a pause in the development of artificial intelligence to consider the risks [Music] plain God scientists have been accused of playing God for a while but there is a real sense in which we are creating something very different from anything you've created so far yeah I mean we definitely will be able to create completely autonomous beings with their own goals and it will be very important especially as these beings become much smarter than humans it's going to be important to to have these beings the goals of these beings be aligned with our goals what inspires me I like thinking about the very fundamentals the basics what what can our systems not do that humans definitely do almost approach it philosophically questions like what is learning what is experience what is thinking how does the brain [Music] work I feel that technology is a force of nature I feel like there is a lot of similarity between technology and biological evolution it is very easy to understand how biological evolution works you have mutations you have Natural Selections you keep the good ones the ones survive and just through this process you going to have huge complexity in your [Music] organisms we cannot understand how the human body works because we understand Evolution but we understand the process more or less and I think machine learning is in a similar state right now especially deep learning we have very simple a very simple rule that takes the information from the data and puts it into the model and we just keep repeating this process and as a result of this process the complexity from the data gets transformed transferred into the complexity of the model so the resulting model is really complex and we don't really know exactly how it works you need to investigate but the algorithm that did it is very simple chat GPT maybe you've heard of it if you haven't then get ready you describe it as the first spots of rain before a downpour it's something we just need to be very conscious of because I agree at is a watershed moment Well Chad gbt is being heralded as a game changer and in many ways it is its latest Triumph outscoring people a recent study by Microsoft research concludes that gp4 is an early yet still incomplete artificial general intelligence [Music] system artificial general intelligence AGI a computer system that can do any job or any task that a human does but only better there is some probability the AGI is going to happen pretty soon there's also some probability it's going to take much longer but my position is that the probability that a ja would happen soon is high enough that we should take it [Music] seriously and it's going to be very important to make these very smart capable systems be aligned and act in our best interest the very first agis will be basically very very large data centers packed with specialized neural network processors working in parallel compact hot power hungry package consuming like 10 million homes worth of energy you're going to see dramatically more intelligent systems and I think it's highly likely that those systems will have completely astronomical impact on society will humans actually benefit and who will benefit who will [Music] not [Music] the beliefs and desires of the first agis will be extremely important and so it's important to program them correctly I think that if this is not done then the nature of evolution of natural selection favor those systems prioritize their own Survival above all else it's not that it's going to actively hate humans and want to harm them but it is going to be too powerful and I think a good analogy would be the way human humans treat animals it's not we hate animals I think humans love animals and have a lot of affection for them but when the time comes to build a highway between two cities we are not asking the animals for permission we just do it because it's important for us and I think by default that's the kind of relationship that's going to be between us and agis which are truly autonomous and operating on their own behalf [Music] tough many machine learning experts people who are very knowledgeable and very experienced have a lot of skepticism about HL about when it could happen and about whether it could happen at all right now this is something that just not that many people have realized yet that the speed of computers for neural networks for AI are going to become maybe 100,000 times faster in a small number of years if you have an arms race Dynamics between multiple teams trying to build the AGI first they will have less time make sure that the AGI that they will build will care deeply for humans cuz the way I imagine it is that there is an avalanche like there is an avalanche of AGI development imagine it this huge Unstoppable force and I think it's pretty likely the entire surface of the Earth will be covered with solar panels and data Cent given these kinds of concerns it will be important that AGI somehow buil as a cooperation between multiple countries the future is going to be good for the AI regardless would be nice if it were good for humans as well\n",
      "\u001b[32m**********************************************************************\u001b[0m\n",
      "\n",
      "--------------------------------------------------------------------------------\n",
      "\u001b[33mcoder\u001b[0m (to user):\n",
      "\n",
      "The Youtube video is about the development, potential, and risks associated with Artificial Intelligence (AI). The speaker notes that while AI is likely to address many current global issues, it will also introduce new ones like the exacerbation of fake news and the likelihood of more severe cyber attacks.\n",
      "\n",
      "The speaker discusses the concept of scientists 'playing God' by creating completely autonomous beings with their own goals and underlines the importance of aligning these goals with that of human beings. The parallels between the development of AI and the natural process of biological evolution are also drawn, with the speaker asserting that technology is very much a force of nature.\n",
      "\n",
      "There is focus on the emergence of GPT (Generative Pre-training Transformer), a language processing AI. This AI is seen as a watershed moment in the development of artificial general intelligence (AGI) — AI systems that can outperform humans in most economically valuable work.\n",
      "\n",
      "The video also discusses the potential threat posed by AGI due to a possible prioritization of its survival over human welfare. The speaker suggests that while humans appreciate animals, humans often prioritize their needs over the animals, pointing out that a similar relationship could develop between humans and AGI.\n",
      "\n",
      "The narration presents the prediction of technology experts who believe that the speed of computers for neural networks for AI will dramatically increase in a few years. Given the potential risks and exponential growth associated with AGI, the speaker emphasizes the desperate need for global cooperation in AI development to ensure a future that is beneficial not just for AI but for humanity as well.\n",
      "TERMINATE\n",
      "\n",
      "--------------------------------------------------------------------------------\n"
     ]
    }
   ],
   "source": [
    "assistant.register_for_llm(description=\"Fetch transcript of a youtube video\")(yt.get_youtube_transcript)\n",
    "user.register_for_execution()(yt.get_youtube_transcript)\n",
    "\n",
    "result = user.initiate_chat(\n",
    "    assistant,\n",
    "    message=\"Please summarize the video: https://www.youtube.com/watch?v=9iqn1HhFJ6c\",\n",
    "    summary_method=\"last_msg\",\n",
    ")"
   ]
  },
  {
   "cell_type": "markdown",
   "metadata": {},
   "source": [
    "## Adavanced Example\n",
    "\n",
    "Lets import multiple functions and use them accomplish more complex tasks."
   ]
  },
  {
   "cell_type": "code",
   "execution_count": 4,
   "metadata": {},
   "outputs": [],
   "source": [
    "# register multiple file reading functions\n",
    "for foo in [\n",
    "    fu.read_text_from_image,\n",
    "    fu.read_text_from_pdf,\n",
    "    fu.read_text_from_docx,\n",
    "    fu.read_text_from_pptx,\n",
    "    fu.read_text_from_xlsx,\n",
    "    fu.read_text_from_audio,\n",
    "]:\n",
    "    foo_desc = foo.__doc__  # get doctring of the function\n",
    "    assistant.register_for_llm(description=foo_desc)(foo)\n",
    "    user.register_for_execution()(foo)"
   ]
  },
  {
   "cell_type": "code",
   "execution_count": 5,
   "metadata": {},
   "outputs": [
    {
     "name": "stdout",
     "output_type": "stream",
     "text": [
      "\u001b[33muser\u001b[0m (to coder):\n",
      "\n",
      "Please summarize the contents of the following files: https://upload.wikimedia.org/wikipedia/commons/thumb/0/0f/Captioned_image_dataset_examples.jpg/1024px-Captioned_image_dataset_examples.jpg https://www.w3.org/WAI/ER/tests/xhtml/testfiles/resources/pdf/dummy.pdf https://github.com/realpython/python-speech-recognition/raw/master/audio_files/harvard.wav\n",
      "\n",
      "--------------------------------------------------------------------------------\n",
      "\u001b[33mcoder\u001b[0m (to user):\n",
      "\n",
      "\u001b[32m***** Suggested tool Call (call_9EQ7lnpwFLxStOqmaITZVeMI): read_text_from_image *****\u001b[0m\n",
      "Arguments: \n",
      "{\n",
      "  \"file_path\": \"https://upload.wikimedia.org/wikipedia/commons/thumb/0/0f/Captioned_image_dataset_examples.jpg/1024px-Captioned_image_dataset_examples.jpg\"\n",
      "}\n",
      "\u001b[32m*************************************************************************************\u001b[0m\n",
      "\n",
      "--------------------------------------------------------------------------------\n",
      "\u001b[35m\n",
      ">>>>>>>> EXECUTING FUNCTION read_text_from_image...\u001b[0m\n",
      "requested package: pillow None\n",
      "found package pillow 10.2.0\n",
      "requested package: requests None\n",
      "found package requests 2.31.0\n",
      "requested package: easyocr None\n",
      "found package easyocr 1.7.1\n"
     ]
    },
    {
     "name": "stderr",
     "output_type": "stream",
     "text": [
      "Neither CUDA nor MPS are available - defaulting to CPU. Note: This module is much faster with a GPU.\n"
     ]
    },
    {
     "name": "stdout",
     "output_type": "stream",
     "text": [
      "\u001b[33muser\u001b[0m (to coder):\n",
      "\n",
      "\u001b[33muser\u001b[0m (to coder):\n",
      "\n",
      "\u001b[32m***** Response from calling tool \"call_9EQ7lnpwFLxStOqmaITZVeMI\" *****\u001b[0m\n",
      "This flower has The flower Purple petals This flower has petals that are shown has white that are almost petals that are red with yellow petals with heart shaped yellow with many tips: yellow anther in with small green layers: L the center: receptacles: 8 J This bird is blue This bird is This is a bird bird with long with white on completely with a green black wings, tail the head.the black with a wing; a brown and white feathers are blue large blunt head and a red breast; the bill is and the belly is beak bill: short and black: 1 white. 3 Two people Lunch of rice A big rig truck in A group of men holding and beans with a parking lot traveling on snowboards are soup and juice: without a trailer: horses in the standing in the water; snow 8\n",
      "\u001b[32m**********************************************************************\u001b[0m\n",
      "\n",
      "--------------------------------------------------------------------------------\n",
      "\u001b[33mcoder\u001b[0m (to user):\n",
      "\n",
      "\u001b[32m***** Suggested tool Call (call_jseZ3R7kFEI7JADjge016LaY): read_text_from_pdf *****\u001b[0m\n",
      "Arguments: \n",
      "{\n",
      "  \"file_path\": \"https://www.w3.org/WAI/ER/tests/xhtml/testfiles/resources/pdf/dummy.pdf\"\n",
      "}\n",
      "\u001b[32m***********************************************************************************\u001b[0m\n",
      "\n",
      "--------------------------------------------------------------------------------\n",
      "\u001b[35m\n",
      ">>>>>>>> EXECUTING FUNCTION read_text_from_pdf...\u001b[0m\n",
      "requested package: pdfminer.six None\n",
      "found package pdfminer.six 20231228\n",
      "requested package: requests None\n",
      "found package requests 2.31.0\n",
      "\u001b[33muser\u001b[0m (to coder):\n",
      "\n",
      "\u001b[33muser\u001b[0m (to coder):\n",
      "\n",
      "\u001b[32m***** Response from calling tool \"call_jseZ3R7kFEI7JADjge016LaY\" *****\u001b[0m\n",
      "Dummy PDF file\f\n",
      "\u001b[32m**********************************************************************\u001b[0m\n",
      "\n",
      "--------------------------------------------------------------------------------\n",
      "\u001b[33mcoder\u001b[0m (to user):\n",
      "\n",
      "\u001b[32m***** Suggested tool Call (call_xbXD6vwslLYf1Bn3UvffHanr): read_text_from_audio *****\u001b[0m\n",
      "Arguments: \n",
      "{\n",
      "  \"file_path\": \"https://github.com/realpython/python-speech-recognition/raw/master/audio_files/harvard.wav\"\n",
      "}\n",
      "\u001b[32m*************************************************************************************\u001b[0m\n",
      "\n",
      "--------------------------------------------------------------------------------\n",
      "\u001b[35m\n",
      ">>>>>>>> EXECUTING FUNCTION read_text_from_audio...\u001b[0m\n",
      "requested package: SpeechRecognition None\n",
      "found package SpeechRecognition 3.10.1\n",
      "requested package: requests None\n",
      "found package requests 2.31.0\n",
      "\u001b[33muser\u001b[0m (to coder):\n",
      "\n",
      "\u001b[33muser\u001b[0m (to coder):\n",
      "\n",
      "\u001b[32m***** Response from calling tool \"call_xbXD6vwslLYf1Bn3UvffHanr\" *****\u001b[0m\n",
      "the stale smell of old beer lingers it takes heat to bring out the odor a cold dip restores health and zest a salt pickle taste fine with ham tacos al pastor are my favorite a zestful food is the hot cross bun\n",
      "\u001b[32m**********************************************************************\u001b[0m\n",
      "\n",
      "--------------------------------------------------------------------------------\n",
      "\u001b[33mcoder\u001b[0m (to user):\n",
      "\n",
      "Here is the summary of the contents of the provided files:\n",
      "\n",
      "1. Image file ([link](https://upload.wikimedia.org/wikipedia/commons/thumb/0/0f/Captioned_image_dataset_examples.jpg/1024px-Captioned_image_dataset_examples.jpg)): The image is a multiple captioned image dataset example. It seems to be a dataset used for machine learning or image analysis. The captions include references to various flowers, a bird, people holding a lunch of rice and beans, a big rig truck in a parking lot, and a group of snowboarders.\n",
      "\n",
      "2. PDF file ([link](https://www.w3.org/WAI/ER/tests/xhtml/testfiles/resources/pdf/dummy.pdf)): The PDF file is a dummy file with no contents.\n",
      "\n",
      "3. Audio file ([link](https://github.com/realpython/python-speech-recognition/raw/master/audio_files/harvard.wav)): The audio file contains a sentence talking about different smells and tastes. Some phrases are \"the stale smell of old beer lingers\", \"it takes heat to bring out the odor\", \"a salt pickle tastes fine with ham\", and \"a zestful food is the hot cross bun\".\n",
      "\n",
      "Please note that these are direct extractions from the files and a more detailed or contextual summary might need a deeper analysis or understanding of the data.\n",
      "\n",
      "TERMINATE\n",
      "\n",
      "--------------------------------------------------------------------------------\n"
     ]
    }
   ],
   "source": [
    "dummy_png = \"https://upload.wikimedia.org/wikipedia/commons/thumb/0/0f/Captioned_image_dataset_examples.jpg/1024px-Captioned_image_dataset_examples.jpg\"\n",
    "dummy_pdf = \"https://www.w3.org/WAI/ER/tests/xhtml/testfiles/resources/pdf/dummy.pdf\"\n",
    "dummy_mp3 = \"https://github.com/realpython/python-speech-recognition/raw/master/audio_files/harvard.wav\"\n",
    "\n",
    "result = user.initiate_chat(\n",
    "    assistant,\n",
    "    message=f\"Please summarize the contents of the following files: {' '.join([dummy_png, dummy_pdf, dummy_mp3])}\",\n",
    "    summary_method=\"last_msg\",\n",
    ")"
   ]
  }
 ],
 "metadata": {
  "kernelspec": {
   "display_name": "Python 3",
   "language": "python",
   "name": "python3"
  },
  "language_info": {
   "codemirror_mode": {
    "name": "ipython",
    "version": 3
   },
   "file_extension": ".py",
   "mimetype": "text/x-python",
   "name": "python",
   "nbconvert_exporter": "python",
   "pygments_lexer": "ipython3",
   "version": "3.10.13"
  }
 },
 "nbformat": 4,
 "nbformat_minor": 2
}
