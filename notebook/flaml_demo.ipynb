{
 "cells": [
  {
   "cell_type": "markdown",
   "metadata": {
    "slideshow": {
     "slide_type": "slide"
    }
   },
   "source": [
    "Copyright (c) 2020-2021 Microsoft Corporation. All rights reserved. \n",
    "\n",
    "Licensed under the MIT License.\n",
    "\n",
    "# Demo of AutoML with FLAML Library\n",
    "\n",
    "\n",
    "## 1. Introduction\n",
    "\n",
    "FLAML is a Python library (https://github.com/microsoft/FLAML) designed to automatically produce accurate machine learning models \n",
    "with low computational cost. It is fast and cheap. The simple and lightweight design makes it easy \n",
    "to use and extend, such as adding new learners. FLAML can \n",
    "- serve as an economical AutoML engine,\n",
    "- be used as a fast hyperparameter tuning tool, or \n",
    "- be embedded in self-tuning software that requires low latency & resource in repetitive\n",
    "   tuning tasks.\n",
    "\n",
    "In this notebook, we use one real data example (binary classification) to showcase how to ues FLAML library.\n",
    "\n",
    "FLAML requires `Python>=3.6`. To run this notebook example, please install flaml with the `notebook` option:\n",
    "```bash\n",
    "pip install flaml[notebook]\n",
    "```"
   ]
  },
  {
   "cell_type": "code",
   "execution_count": 1,
   "metadata": {},
   "outputs": [
    {
     "output_type": "stream",
     "name": "stdout",
     "text": [
      "Requirement already satisfied: flaml[notebook] in /home/dmx/miniconda2/envs/blend/lib/python3.8/site-packages (0.2.3)\n",
      "Requirement already satisfied: optuna==2.3.0 in /home/dmx/miniconda2/envs/blend/lib/python3.8/site-packages (from flaml[notebook]) (2.3.0)\n",
      "Requirement already satisfied: scikit-learn>=0.23.2 in /home/dmx/miniconda2/envs/blend/lib/python3.8/site-packages (from flaml[notebook]) (0.24.1)\n",
      "Requirement already satisfied: scipy>=1.4.1 in /home/dmx/miniconda2/envs/blend/lib/python3.8/site-packages (from flaml[notebook]) (1.5.4)\n",
      "Requirement already satisfied: xgboost>=0.90 in /home/dmx/miniconda2/envs/blend/lib/python3.8/site-packages (from flaml[notebook]) (1.2.1)\n",
      "Requirement already satisfied: NumPy>=1.16.2 in /home/dmx/miniconda2/envs/blend/lib/python3.8/site-packages (from flaml[notebook]) (1.20.0)\n",
      "Requirement already satisfied: lightgbm>=2.3.1 in /home/dmx/miniconda2/envs/blend/lib/python3.8/site-packages (from flaml[notebook]) (3.1.1)\n",
      "Requirement already satisfied: catboost>=0.23 in /home/dmx/miniconda2/envs/blend/lib/python3.8/site-packages (from flaml[notebook]) (0.24.4)\n",
      "Requirement already satisfied: openml==0.10.2; extra == \"notebook\" in /home/dmx/miniconda2/envs/blend/lib/python3.8/site-packages (from flaml[notebook]) (0.10.2)\n",
      "Requirement already satisfied: rgf-python; extra == \"notebook\" in /home/dmx/miniconda2/envs/blend/lib/python3.8/site-packages (from flaml[notebook]) (3.9.0)\n",
      "Requirement already satisfied: jupyter; extra == \"notebook\" in /home/dmx/miniconda2/envs/blend/lib/python3.8/site-packages (from flaml[notebook]) (1.0.0)\n",
      "Requirement already satisfied: matplotlib==3.2.0; extra == \"notebook\" in /home/dmx/miniconda2/envs/blend/lib/python3.8/site-packages (from flaml[notebook]) (3.2.0)\n",
      "Requirement already satisfied: cmaes>=0.6.0 in /home/dmx/miniconda2/envs/blend/lib/python3.8/site-packages (from optuna==2.3.0->flaml[notebook]) (0.8.0)\n",
      "Requirement already satisfied: packaging>=20.0 in /home/dmx/miniconda2/envs/blend/lib/python3.8/site-packages (from optuna==2.3.0->flaml[notebook]) (20.9)\n",
      "Requirement already satisfied: tqdm in /home/dmx/miniconda2/envs/blend/lib/python3.8/site-packages (from optuna==2.3.0->flaml[notebook]) (4.53.0)\n",
      "Requirement already satisfied: colorlog in /home/dmx/miniconda2/envs/blend/lib/python3.8/site-packages (from optuna==2.3.0->flaml[notebook]) (4.7.2)\n",
      "Requirement already satisfied: joblib in /home/dmx/miniconda2/envs/blend/lib/python3.8/site-packages (from optuna==2.3.0->flaml[notebook]) (0.17.0)\n",
      "Requirement already satisfied: alembic in /home/dmx/miniconda2/envs/blend/lib/python3.8/site-packages (from optuna==2.3.0->flaml[notebook]) (1.5.4)\n",
      "Requirement already satisfied: sqlalchemy>=1.1.0 in /home/dmx/miniconda2/envs/blend/lib/python3.8/site-packages (from optuna==2.3.0->flaml[notebook]) (1.3.23)\n",
      "Requirement already satisfied: cliff in /home/dmx/miniconda2/envs/blend/lib/python3.8/site-packages (from optuna==2.3.0->flaml[notebook]) (3.6.0)\n",
      "Requirement already satisfied: threadpoolctl>=2.0.0 in /home/dmx/miniconda2/envs/blend/lib/python3.8/site-packages (from scikit-learn>=0.23.2->flaml[notebook]) (2.1.0)\n",
      "Requirement already satisfied: wheel in /home/dmx/miniconda2/envs/blend/lib/python3.8/site-packages (from lightgbm>=2.3.1->flaml[notebook]) (0.35.1)\n",
      "Requirement already satisfied: pandas>=0.24.0 in /home/dmx/miniconda2/envs/blend/lib/python3.8/site-packages (from catboost>=0.23->flaml[notebook]) (1.1.4)\n",
      "Requirement already satisfied: six in /home/dmx/miniconda2/envs/blend/lib/python3.8/site-packages (from catboost>=0.23->flaml[notebook]) (1.15.0)\n",
      "Requirement already satisfied: graphviz in /home/dmx/miniconda2/envs/blend/lib/python3.8/site-packages (from catboost>=0.23->flaml[notebook]) (0.16)\n",
      "Requirement already satisfied: plotly in /home/dmx/miniconda2/envs/blend/lib/python3.8/site-packages (from catboost>=0.23->flaml[notebook]) (4.14.3)\n",
      "Requirement already satisfied: xmltodict in /home/dmx/miniconda2/envs/blend/lib/python3.8/site-packages (from openml==0.10.2; extra == \"notebook\"->flaml[notebook]) (0.12.0)\n",
      "Requirement already satisfied: liac-arff>=2.4.0 in /home/dmx/miniconda2/envs/blend/lib/python3.8/site-packages (from openml==0.10.2; extra == \"notebook\"->flaml[notebook]) (2.5.0)\n",
      "Requirement already satisfied: requests in /home/dmx/miniconda2/envs/blend/lib/python3.8/site-packages (from openml==0.10.2; extra == \"notebook\"->flaml[notebook]) (2.25.0)\n",
      "Requirement already satisfied: python-dateutil in /home/dmx/miniconda2/envs/blend/lib/python3.8/site-packages (from openml==0.10.2; extra == \"notebook\"->flaml[notebook]) (2.8.1)\n",
      "Requirement already satisfied: ipywidgets in /home/dmx/miniconda2/envs/blend/lib/python3.8/site-packages (from jupyter; extra == \"notebook\"->flaml[notebook]) (7.6.3)\n",
      "Requirement already satisfied: qtconsole in /home/dmx/miniconda2/envs/blend/lib/python3.8/site-packages (from jupyter; extra == \"notebook\"->flaml[notebook]) (5.0.2)\n",
      "Requirement already satisfied: ipykernel in /home/dmx/miniconda2/envs/blend/lib/python3.8/site-packages (from jupyter; extra == \"notebook\"->flaml[notebook]) (5.3.4)\n",
      "Requirement already satisfied: jupyter-console in /home/dmx/miniconda2/envs/blend/lib/python3.8/site-packages (from jupyter; extra == \"notebook\"->flaml[notebook]) (6.2.0)\n",
      "Requirement already satisfied: nbconvert in /home/dmx/miniconda2/envs/blend/lib/python3.8/site-packages (from jupyter; extra == \"notebook\"->flaml[notebook]) (6.0.7)\n",
      "Requirement already satisfied: notebook in /home/dmx/miniconda2/envs/blend/lib/python3.8/site-packages (from jupyter; extra == \"notebook\"->flaml[notebook]) (6.2.0)\n",
      "Requirement already satisfied: kiwisolver>=1.0.1 in /home/dmx/miniconda2/envs/blend/lib/python3.8/site-packages (from matplotlib==3.2.0; extra == \"notebook\"->flaml[notebook]) (1.3.1)\n",
      "Requirement already satisfied: pyparsing!=2.0.4,!=2.1.2,!=2.1.6,>=2.0.1 in /home/dmx/miniconda2/envs/blend/lib/python3.8/site-packages (from matplotlib==3.2.0; extra == \"notebook\"->flaml[notebook]) (2.4.7)\n",
      "Requirement already satisfied: cycler>=0.10 in /home/dmx/miniconda2/envs/blend/lib/python3.8/site-packages (from matplotlib==3.2.0; extra == \"notebook\"->flaml[notebook]) (0.10.0)\n",
      "Requirement already satisfied: Mako in /home/dmx/miniconda2/envs/blend/lib/python3.8/site-packages (from alembic->optuna==2.3.0->flaml[notebook]) (1.1.4)\n",
      "Requirement already satisfied: python-editor>=0.3 in /home/dmx/miniconda2/envs/blend/lib/python3.8/site-packages (from alembic->optuna==2.3.0->flaml[notebook]) (1.0.4)\n",
      "Requirement already satisfied: pbr!=2.1.0,>=2.0.0 in /home/dmx/miniconda2/envs/blend/lib/python3.8/site-packages (from cliff->optuna==2.3.0->flaml[notebook]) (5.5.1)\n",
      "Requirement already satisfied: PrettyTable<0.8,>=0.7.2 in /home/dmx/miniconda2/envs/blend/lib/python3.8/site-packages (from cliff->optuna==2.3.0->flaml[notebook]) (0.7.2)\n",
      "Requirement already satisfied: stevedore>=2.0.1 in /home/dmx/miniconda2/envs/blend/lib/python3.8/site-packages (from cliff->optuna==2.3.0->flaml[notebook]) (3.3.0)\n",
      "Requirement already satisfied: cmd2!=0.8.3,>=0.8.0 in /home/dmx/miniconda2/envs/blend/lib/python3.8/site-packages (from cliff->optuna==2.3.0->flaml[notebook]) (1.5.0)\n",
      "Requirement already satisfied: PyYAML>=3.12 in /home/dmx/miniconda2/envs/blend/lib/python3.8/site-packages (from cliff->optuna==2.3.0->flaml[notebook]) (5.3.1)\n",
      "Requirement already satisfied: pytz>=2017.2 in /home/dmx/miniconda2/envs/blend/lib/python3.8/site-packages (from pandas>=0.24.0->catboost>=0.23->flaml[notebook]) (2020.4)\n",
      "Requirement already satisfied: retrying>=1.3.3 in /home/dmx/miniconda2/envs/blend/lib/python3.8/site-packages (from plotly->catboost>=0.23->flaml[notebook]) (1.3.3)\n",
      "Requirement already satisfied: idna<3,>=2.5 in /home/dmx/miniconda2/envs/blend/lib/python3.8/site-packages (from requests->openml==0.10.2; extra == \"notebook\"->flaml[notebook]) (2.10)\n",
      "Requirement already satisfied: urllib3<1.27,>=1.21.1 in /home/dmx/miniconda2/envs/blend/lib/python3.8/site-packages (from requests->openml==0.10.2; extra == \"notebook\"->flaml[notebook]) (1.26.2)\n",
      "Requirement already satisfied: certifi>=2017.4.17 in /home/dmx/miniconda2/envs/blend/lib/python3.8/site-packages (from requests->openml==0.10.2; extra == \"notebook\"->flaml[notebook]) (2020.12.5)\n",
      "Requirement already satisfied: chardet<4,>=3.0.2 in /home/dmx/miniconda2/envs/blend/lib/python3.8/site-packages (from requests->openml==0.10.2; extra == \"notebook\"->flaml[notebook]) (3.0.4)\n",
      "Requirement already satisfied: widgetsnbextension~=3.5.0 in /home/dmx/miniconda2/envs/blend/lib/python3.8/site-packages (from ipywidgets->jupyter; extra == \"notebook\"->flaml[notebook]) (3.5.1)\n",
      "Requirement already satisfied: jupyterlab-widgets>=1.0.0; python_version >= \"3.6\" in /home/dmx/miniconda2/envs/blend/lib/python3.8/site-packages (from ipywidgets->jupyter; extra == \"notebook\"->flaml[notebook]) (1.0.0)\n",
      "Requirement already satisfied: nbformat>=4.2.0 in /home/dmx/miniconda2/envs/blend/lib/python3.8/site-packages (from ipywidgets->jupyter; extra == \"notebook\"->flaml[notebook]) (5.1.2)\n",
      "Requirement already satisfied: ipython>=4.0.0; python_version >= \"3.3\" in /home/dmx/miniconda2/envs/blend/lib/python3.8/site-packages (from ipywidgets->jupyter; extra == \"notebook\"->flaml[notebook]) (7.20.0)\n",
      "Requirement already satisfied: traitlets>=4.3.1 in /home/dmx/miniconda2/envs/blend/lib/python3.8/site-packages (from ipywidgets->jupyter; extra == \"notebook\"->flaml[notebook]) (5.0.5)\n",
      "Requirement already satisfied: ipython-genutils in /home/dmx/miniconda2/envs/blend/lib/python3.8/site-packages (from qtconsole->jupyter; extra == \"notebook\"->flaml[notebook]) (0.2.0)\n",
      "Requirement already satisfied: jupyter-client>=4.1 in /home/dmx/miniconda2/envs/blend/lib/python3.8/site-packages (from qtconsole->jupyter; extra == \"notebook\"->flaml[notebook]) (6.1.7)\n",
      "Requirement already satisfied: qtpy in /home/dmx/miniconda2/envs/blend/lib/python3.8/site-packages (from qtconsole->jupyter; extra == \"notebook\"->flaml[notebook]) (1.9.0)\n",
      "Requirement already satisfied: jupyter-core in /home/dmx/miniconda2/envs/blend/lib/python3.8/site-packages (from qtconsole->jupyter; extra == \"notebook\"->flaml[notebook]) (4.7.1)\n",
      "Requirement already satisfied: pyzmq>=17.1 in /home/dmx/miniconda2/envs/blend/lib/python3.8/site-packages (from qtconsole->jupyter; extra == \"notebook\"->flaml[notebook]) (20.0.0)\n",
      "Requirement already satisfied: pygments in /home/dmx/miniconda2/envs/blend/lib/python3.8/site-packages (from qtconsole->jupyter; extra == \"notebook\"->flaml[notebook]) (2.7.4)\n",
      "Requirement already satisfied: tornado>=4.2 in /home/dmx/miniconda2/envs/blend/lib/python3.8/site-packages (from ipykernel->jupyter; extra == \"notebook\"->flaml[notebook]) (6.1)\n",
      "Requirement already satisfied: prompt-toolkit!=3.0.0,!=3.0.1,<3.1.0,>=2.0.0 in /home/dmx/miniconda2/envs/blend/lib/python3.8/site-packages (from jupyter-console->jupyter; extra == \"notebook\"->flaml[notebook]) (3.0.8)\n",
      "Requirement already satisfied: mistune<2,>=0.8.1 in /home/dmx/miniconda2/envs/blend/lib/python3.8/site-packages (from nbconvert->jupyter; extra == \"notebook\"->flaml[notebook]) (0.8.4)\n",
      "Requirement already satisfied: jinja2>=2.4 in /home/dmx/miniconda2/envs/blend/lib/python3.8/site-packages (from nbconvert->jupyter; extra == \"notebook\"->flaml[notebook]) (2.11.3)\n",
      "Requirement already satisfied: nbclient<0.6.0,>=0.5.0 in /home/dmx/miniconda2/envs/blend/lib/python3.8/site-packages (from nbconvert->jupyter; extra == \"notebook\"->flaml[notebook]) (0.5.2)\n",
      "Requirement already satisfied: bleach in /home/dmx/miniconda2/envs/blend/lib/python3.8/site-packages (from nbconvert->jupyter; extra == \"notebook\"->flaml[notebook]) (3.3.0)\n",
      "Requirement already satisfied: defusedxml in /home/dmx/miniconda2/envs/blend/lib/python3.8/site-packages (from nbconvert->jupyter; extra == \"notebook\"->flaml[notebook]) (0.6.0)\n",
      "Requirement already satisfied: entrypoints>=0.2.2 in /home/dmx/miniconda2/envs/blend/lib/python3.8/site-packages (from nbconvert->jupyter; extra == \"notebook\"->flaml[notebook]) (0.3)\n",
      "Requirement already satisfied: jupyterlab-pygments in /home/dmx/miniconda2/envs/blend/lib/python3.8/site-packages (from nbconvert->jupyter; extra == \"notebook\"->flaml[notebook]) (0.1.2)\n",
      "Requirement already satisfied: testpath in /home/dmx/miniconda2/envs/blend/lib/python3.8/site-packages (from nbconvert->jupyter; extra == \"notebook\"->flaml[notebook]) (0.4.4)\n",
      "Requirement already satisfied: pandocfilters>=1.4.1 in /home/dmx/miniconda2/envs/blend/lib/python3.8/site-packages (from nbconvert->jupyter; extra == \"notebook\"->flaml[notebook]) (1.4.3)\n",
      "Requirement already satisfied: argon2-cffi in /home/dmx/miniconda2/envs/blend/lib/python3.8/site-packages (from notebook->jupyter; extra == \"notebook\"->flaml[notebook]) (20.1.0)\n",
      "Requirement already satisfied: terminado>=0.8.3 in /home/dmx/miniconda2/envs/blend/lib/python3.8/site-packages (from notebook->jupyter; extra == \"notebook\"->flaml[notebook]) (0.9.2)\n",
      "Requirement already satisfied: Send2Trash>=1.5.0 in /home/dmx/miniconda2/envs/blend/lib/python3.8/site-packages (from notebook->jupyter; extra == \"notebook\"->flaml[notebook]) (1.5.0)\n",
      "Requirement already satisfied: prometheus-client in /home/dmx/miniconda2/envs/blend/lib/python3.8/site-packages (from notebook->jupyter; extra == \"notebook\"->flaml[notebook]) (0.9.0)\n",
      "Requirement already satisfied: MarkupSafe>=0.9.2 in /home/dmx/miniconda2/envs/blend/lib/python3.8/site-packages (from Mako->alembic->optuna==2.3.0->flaml[notebook]) (1.1.1)\n",
      "Requirement already satisfied: wcwidth>=0.1.7 in /home/dmx/miniconda2/envs/blend/lib/python3.8/site-packages (from cmd2!=0.8.3,>=0.8.0->cliff->optuna==2.3.0->flaml[notebook]) (0.2.5)\n",
      "Requirement already satisfied: pyperclip>=1.6 in /home/dmx/miniconda2/envs/blend/lib/python3.8/site-packages (from cmd2!=0.8.3,>=0.8.0->cliff->optuna==2.3.0->flaml[notebook]) (1.8.1)\n",
      "Requirement already satisfied: colorama>=0.3.7 in /home/dmx/miniconda2/envs/blend/lib/python3.8/site-packages (from cmd2!=0.8.3,>=0.8.0->cliff->optuna==2.3.0->flaml[notebook]) (0.4.4)\n",
      "Requirement already satisfied: attrs>=16.3.0 in /home/dmx/miniconda2/envs/blend/lib/python3.8/site-packages (from cmd2!=0.8.3,>=0.8.0->cliff->optuna==2.3.0->flaml[notebook]) (20.3.0)\n",
      "Requirement already satisfied: jsonschema!=2.5.0,>=2.4 in /home/dmx/miniconda2/envs/blend/lib/python3.8/site-packages (from nbformat>=4.2.0->ipywidgets->jupyter; extra == \"notebook\"->flaml[notebook]) (3.2.0)\n",
      "Requirement already satisfied: decorator in /home/dmx/miniconda2/envs/blend/lib/python3.8/site-packages (from ipython>=4.0.0; python_version >= \"3.3\"->ipywidgets->jupyter; extra == \"notebook\"->flaml[notebook]) (4.4.2)\n",
      "Requirement already satisfied: pickleshare in /home/dmx/miniconda2/envs/blend/lib/python3.8/site-packages (from ipython>=4.0.0; python_version >= \"3.3\"->ipywidgets->jupyter; extra == \"notebook\"->flaml[notebook]) (0.7.5)\n",
      "Requirement already satisfied: backcall in /home/dmx/miniconda2/envs/blend/lib/python3.8/site-packages (from ipython>=4.0.0; python_version >= \"3.3\"->ipywidgets->jupyter; extra == \"notebook\"->flaml[notebook]) (0.2.0)\n",
      "Requirement already satisfied: pexpect>4.3; sys_platform != \"win32\" in /home/dmx/miniconda2/envs/blend/lib/python3.8/site-packages (from ipython>=4.0.0; python_version >= \"3.3\"->ipywidgets->jupyter; extra == \"notebook\"->flaml[notebook]) (4.8.0)\n",
      "Requirement already satisfied: jedi>=0.16 in /home/dmx/miniconda2/envs/blend/lib/python3.8/site-packages (from ipython>=4.0.0; python_version >= \"3.3\"->ipywidgets->jupyter; extra == \"notebook\"->flaml[notebook]) (0.17.2)\n",
      "Requirement already satisfied: setuptools>=18.5 in /home/dmx/miniconda2/envs/blend/lib/python3.8/site-packages (from ipython>=4.0.0; python_version >= \"3.3\"->ipywidgets->jupyter; extra == \"notebook\"->flaml[notebook]) (50.3.1.post20201107)\n",
      "Requirement already satisfied: nest-asyncio in /home/dmx/miniconda2/envs/blend/lib/python3.8/site-packages (from nbclient<0.6.0,>=0.5.0->nbconvert->jupyter; extra == \"notebook\"->flaml[notebook]) (1.5.1)\n",
      "Requirement already satisfied: async-generator in /home/dmx/miniconda2/envs/blend/lib/python3.8/site-packages (from nbclient<0.6.0,>=0.5.0->nbconvert->jupyter; extra == \"notebook\"->flaml[notebook]) (1.10)\n",
      "Requirement already satisfied: webencodings in /home/dmx/miniconda2/envs/blend/lib/python3.8/site-packages (from bleach->nbconvert->jupyter; extra == \"notebook\"->flaml[notebook]) (0.5.1)\n",
      "Requirement already satisfied: cffi>=1.0.0 in /home/dmx/miniconda2/envs/blend/lib/python3.8/site-packages (from argon2-cffi->notebook->jupyter; extra == \"notebook\"->flaml[notebook]) (1.14.4)\n",
      "Requirement already satisfied: ptyprocess; os_name != \"nt\" in /home/dmx/miniconda2/envs/blend/lib/python3.8/site-packages (from terminado>=0.8.3->notebook->jupyter; extra == \"notebook\"->flaml[notebook]) (0.7.0)\n",
      "Requirement already satisfied: pyrsistent>=0.14.0 in /home/dmx/miniconda2/envs/blend/lib/python3.8/site-packages (from jsonschema!=2.5.0,>=2.4->nbformat>=4.2.0->ipywidgets->jupyter; extra == \"notebook\"->flaml[notebook]) (0.17.3)\n",
      "Requirement already satisfied: parso<0.8.0,>=0.7.0 in /home/dmx/miniconda2/envs/blend/lib/python3.8/site-packages (from jedi>=0.16->ipython>=4.0.0; python_version >= \"3.3\"->ipywidgets->jupyter; extra == \"notebook\"->flaml[notebook]) (0.7.0)\n",
      "Requirement already satisfied: pycparser in /home/dmx/miniconda2/envs/blend/lib/python3.8/site-packages (from cffi>=1.0.0->argon2-cffi->notebook->jupyter; extra == \"notebook\"->flaml[notebook]) (2.20)\n"
     ]
    }
   ],
   "source": [
    "!pip install flaml[notebook];"
   ]
  },
  {
   "cell_type": "markdown",
   "metadata": {
    "slideshow": {
     "slide_type": "slide"
    }
   },
   "source": [
    "## 2. Real Data Example\n",
    "### Load data and preprocess\n",
    "\n",
    "Download [Airlines dataset](https://www.openml.org/d/1169) from OpenML. The task is to predict whether a given flight will be delayed, given the information of the scheduled departure."
   ]
  },
  {
   "cell_type": "code",
   "execution_count": 2,
   "metadata": {
    "slideshow": {
     "slide_type": "subslide"
    },
    "tags": []
   },
   "outputs": [
    {
     "output_type": "stream",
     "name": "stdout",
     "text": [
      "load dataset from ./openml_ds1169.pkl\n",
      "Dataset name: airlines\n",
      "X_train.shape: (404537, 7), y_train.shape: (404537,);\n",
      "X_test.shape: (134846, 7), y_test.shape: (134846,)\n"
     ]
    }
   ],
   "source": [
    "from flaml.data import load_openml_dataset\n",
    "X_train, X_test, y_train, y_test = load_openml_dataset(dataset_id = 1169, data_dir = './')"
   ]
  },
  {
   "cell_type": "markdown",
   "metadata": {
    "slideshow": {
     "slide_type": "slide"
    }
   },
   "source": [
    "### Run FLAML\n",
    "In the FLAML automl run configuration, users can specify the task type, time budget, error metric, learner list, whether to subsample, resampling strategy type, and so on. All these arguments have default values which will be used if users do not provide them. For example, the default ML learners of FLAML are `['lgbm', 'xgboost', 'catboost', 'rf', 'extra_tree', 'lrl1']`. "
   ]
  },
  {
   "cell_type": "code",
   "execution_count": 3,
   "metadata": {
    "slideshow": {
     "slide_type": "slide"
    }
   },
   "outputs": [],
   "source": [
    "''' import AutoML class from flaml package '''\n",
    "from flaml import AutoML\n",
    "automl = AutoML()"
   ]
  },
  {
   "cell_type": "code",
   "execution_count": 4,
   "metadata": {
    "slideshow": {
     "slide_type": "slide"
    }
   },
   "outputs": [],
   "source": [
    "settings = {\n",
    "    \"time_budget\": 300, # total running time in seconds\n",
    "    \"metric\": 'accuracy', # primary metrics can be chosen from: ['accuracy','roc_auc','f1','log_loss','mae','mse','r2']\n",
    "    # \"estimator_list\": ['lgbm', 'rf', 'xgboost'], # list of ML learners\n",
    "    \"task\": 'classification', # task type    \n",
    "    # \"sample\": False, # whether to subsample training data\n",
    "    \"log_file_name\": 'airlines_experiment.log', # cache directory of flaml log files \n",
    "}"
   ]
  },
  {
   "cell_type": "code",
   "execution_count": 5,
   "metadata": {
    "slideshow": {
     "slide_type": "slide"
    },
    "tags": [
     "outputPrepend"
    ]
   },
   "outputs": [
    {
     "output_type": "stream",
     "name": "stderr",
     "text": [
      "tric: 1-accuracy\n",
      "[flaml.automl: 02-13 09:57:42] {879} INFO - List of ML learners in AutoML Run: ['lgbm', 'rf', 'catboost', 'xgboost', 'extra_tree', 'lrl1']\n",
      "[flaml.automl: 02-13 09:57:42] {939} INFO - iteration 0  current learner lgbm\n",
      "[flaml.automl: 02-13 09:57:43] {1087} INFO -  at 0.5s,\tbest lgbm's error=0.3777,\tbest lgbm's error=0.3777\n",
      "[flaml.automl: 02-13 09:57:43] {939} INFO - iteration 1  current learner lgbm\n",
      "[flaml.automl: 02-13 09:57:43] {1087} INFO -  at 1.2s,\tbest lgbm's error=0.3777,\tbest lgbm's error=0.3777\n",
      "[flaml.automl: 02-13 09:57:43] {939} INFO - iteration 2  current learner lgbm\n",
      "[flaml.automl: 02-13 09:57:43] {1087} INFO -  at 1.3s,\tbest lgbm's error=0.3669,\tbest lgbm's error=0.3669\n",
      "[flaml.automl: 02-13 09:57:43] {939} INFO - iteration 3  current learner lgbm\n",
      "[flaml.automl: 02-13 09:57:43] {1087} INFO -  at 1.4s,\tbest lgbm's error=0.3669,\tbest lgbm's error=0.3669\n",
      "[flaml.automl: 02-13 09:57:43] {939} INFO - iteration 4  current learner lgbm\n",
      "[flaml.automl: 02-13 09:57:44] {1087} INFO -  at 1.5s,\tbest lgbm's error=0.3662,\tbest lgbm's error=0.3662\n",
      "[flaml.automl: 02-13 09:57:44] {939} INFO - iteration 5  current learner lgbm\n",
      "[flaml.automl: 02-13 09:57:44] {1087} INFO -  at 1.7s,\tbest lgbm's error=0.3636,\tbest lgbm's error=0.3636\n",
      "[flaml.automl: 02-13 09:57:44] {939} INFO - iteration 6  current learner lgbm\n",
      "[flaml.automl: 02-13 09:57:44] {1087} INFO -  at 1.9s,\tbest lgbm's error=0.3621,\tbest lgbm's error=0.3621\n",
      "[flaml.automl: 02-13 09:57:44] {939} INFO - iteration 7  current learner lgbm\n",
      "[flaml.automl: 02-13 09:57:44] {1087} INFO -  at 2.1s,\tbest lgbm's error=0.3621,\tbest lgbm's error=0.3621\n",
      "[flaml.automl: 02-13 09:57:44] {939} INFO - iteration 8  current learner lgbm\n",
      "[flaml.automl: 02-13 09:57:44] {1087} INFO -  at 2.2s,\tbest lgbm's error=0.3621,\tbest lgbm's error=0.3621\n",
      "[flaml.automl: 02-13 09:57:44] {939} INFO - iteration 9  current learner lgbm\n",
      "[flaml.automl: 02-13 09:57:44] {1087} INFO -  at 2.2s,\tbest lgbm's error=0.3621,\tbest lgbm's error=0.3621\n",
      "[flaml.automl: 02-13 09:57:44] {939} INFO - iteration 10  current learner lgbm\n",
      "[flaml.automl: 02-13 09:57:44] {1087} INFO -  at 2.3s,\tbest lgbm's error=0.3621,\tbest lgbm's error=0.3621\n",
      "[flaml.automl: 02-13 09:57:44] {939} INFO - iteration 11  current learner lgbm\n",
      "[flaml.automl: 02-13 09:57:44] {1087} INFO -  at 2.3s,\tbest lgbm's error=0.3621,\tbest lgbm's error=0.3621\n",
      "[flaml.automl: 02-13 09:57:44] {939} INFO - iteration 12  current learner lgbm\n",
      "[flaml.automl: 02-13 09:57:44] {1087} INFO -  at 2.5s,\tbest lgbm's error=0.3621,\tbest lgbm's error=0.3621\n",
      "[flaml.automl: 02-13 09:57:44] {939} INFO - iteration 13  current learner lgbm\n",
      "[flaml.automl: 02-13 09:57:46] {1087} INFO -  at 3.8s,\tbest lgbm's error=0.3621,\tbest lgbm's error=0.3621\n",
      "[flaml.automl: 02-13 09:57:46] {939} INFO - iteration 14  current learner xgboost\n",
      "[flaml.automl: 02-13 09:57:46] {1087} INFO -  at 3.9s,\tbest xgboost's error=0.3787,\tbest lgbm's error=0.3621\n",
      "[flaml.automl: 02-13 09:57:46] {939} INFO - iteration 15  current learner xgboost\n",
      "[flaml.automl: 02-13 09:57:46] {1087} INFO -  at 3.9s,\tbest xgboost's error=0.3787,\tbest lgbm's error=0.3621\n",
      "[flaml.automl: 02-13 09:57:46] {939} INFO - iteration 16  current learner lgbm\n",
      "[flaml.automl: 02-13 09:57:47] {1087} INFO -  at 4.7s,\tbest lgbm's error=0.3618,\tbest lgbm's error=0.3618\n",
      "[flaml.automl: 02-13 09:57:47] {939} INFO - iteration 17  current learner xgboost\n",
      "[flaml.automl: 02-13 09:57:47] {1087} INFO -  at 4.9s,\tbest xgboost's error=0.3746,\tbest lgbm's error=0.3618\n",
      "[flaml.automl: 02-13 09:57:47] {939} INFO - iteration 18  current learner extra_tree\n",
      "[flaml.automl: 02-13 09:57:47] {1087} INFO -  at 5.0s,\tbest extra_tree's error=0.4009,\tbest lgbm's error=0.3618\n",
      "[flaml.automl: 02-13 09:57:47] {939} INFO - iteration 19  current learner extra_tree\n",
      "[flaml.automl: 02-13 09:57:47] {1087} INFO -  at 5.1s,\tbest extra_tree's error=0.4009,\tbest lgbm's error=0.3618\n",
      "[flaml.automl: 02-13 09:57:47] {939} INFO - iteration 20  current learner extra_tree\n",
      "[flaml.automl: 02-13 09:57:47] {1087} INFO -  at 5.3s,\tbest extra_tree's error=0.3979,\tbest lgbm's error=0.3618\n",
      "[flaml.automl: 02-13 09:57:47] {939} INFO - iteration 21  current learner rf\n",
      "[flaml.automl: 02-13 09:57:47] {1087} INFO -  at 5.5s,\tbest rf's error=0.4012,\tbest lgbm's error=0.3618\n",
      "[flaml.automl: 02-13 09:57:47] {939} INFO - iteration 22  current learner rf\n",
      "[flaml.automl: 02-13 09:57:48] {1087} INFO -  at 5.7s,\tbest rf's error=0.4000,\tbest lgbm's error=0.3618\n",
      "[flaml.automl: 02-13 09:57:48] {939} INFO - iteration 23  current learner rf\n",
      "[flaml.automl: 02-13 09:57:48] {1087} INFO -  at 5.9s,\tbest rf's error=0.4000,\tbest lgbm's error=0.3618\n",
      "[flaml.automl: 02-13 09:57:48] {939} INFO - iteration 24  current learner xgboost\n",
      "[flaml.automl: 02-13 09:57:48] {1087} INFO -  at 6.0s,\tbest xgboost's error=0.3746,\tbest lgbm's error=0.3618\n",
      "[flaml.automl: 02-13 09:57:48] {939} INFO - iteration 25  current learner extra_tree\n",
      "[flaml.automl: 02-13 09:57:48] {1087} INFO -  at 6.2s,\tbest extra_tree's error=0.3979,\tbest lgbm's error=0.3618\n",
      "[flaml.automl: 02-13 09:57:48] {939} INFO - iteration 26  current learner rf\n",
      "[flaml.automl: 02-13 09:57:48] {1087} INFO -  at 6.5s,\tbest rf's error=0.4000,\tbest lgbm's error=0.3618\n",
      "[flaml.automl: 02-13 09:57:48] {939} INFO - iteration 27  current learner xgboost\n",
      "[flaml.automl: 02-13 09:57:49] {1087} INFO -  at 6.7s,\tbest xgboost's error=0.3649,\tbest lgbm's error=0.3618\n",
      "[flaml.automl: 02-13 09:57:49] {939} INFO - iteration 28  current learner xgboost\n",
      "[flaml.automl: 02-13 09:57:49] {1087} INFO -  at 6.8s,\tbest xgboost's error=0.3649,\tbest lgbm's error=0.3618\n",
      "[flaml.automl: 02-13 09:57:49] {939} INFO - iteration 29  current learner xgboost\n",
      "[flaml.automl: 02-13 09:57:49] {1087} INFO -  at 7.0s,\tbest xgboost's error=0.3649,\tbest lgbm's error=0.3618\n",
      "[flaml.automl: 02-13 09:57:49] {939} INFO - iteration 30  current learner lgbm\n",
      "[flaml.automl: 02-13 09:57:50] {1087} INFO -  at 7.9s,\tbest lgbm's error=0.3618,\tbest lgbm's error=0.3618\n",
      "[flaml.automl: 02-13 09:57:50] {939} INFO - iteration 31  current learner lgbm\n",
      "[flaml.automl: 02-13 09:57:52] {1087} INFO -  at 9.5s,\tbest lgbm's error=0.3563,\tbest lgbm's error=0.3563\n",
      "[flaml.automl: 02-13 09:57:52] {939} INFO - iteration 32  current learner lgbm\n",
      "[flaml.automl: 02-13 09:57:53] {1087} INFO -  at 10.7s,\tbest lgbm's error=0.3542,\tbest lgbm's error=0.3542\n",
      "[flaml.automl: 02-13 09:57:53] {939} INFO - iteration 33  current learner xgboost\n",
      "[flaml.automl: 02-13 09:57:53] {1087} INFO -  at 11.1s,\tbest xgboost's error=0.3649,\tbest lgbm's error=0.3542\n",
      "[flaml.automl: 02-13 09:57:53] {939} INFO - iteration 34  current learner lgbm\n",
      "[flaml.automl: 02-13 09:57:56] {1087} INFO -  at 14.2s,\tbest lgbm's error=0.3377,\tbest lgbm's error=0.3377\n",
      "[flaml.automl: 02-13 09:57:56] {939} INFO - iteration 35  current learner catboost\n",
      "[flaml.automl: 02-13 09:57:57] {1087} INFO -  at 15.0s,\tbest catboost's error=0.3600,\tbest lgbm's error=0.3377\n",
      "[flaml.automl: 02-13 09:57:57] {939} INFO - iteration 36  current learner catboost\n",
      "[flaml.automl: 02-13 09:57:58] {1087} INFO -  at 16.1s,\tbest catboost's error=0.3600,\tbest lgbm's error=0.3377\n",
      "[flaml.automl: 02-13 09:57:58] {939} INFO - iteration 37  current learner xgboost\n",
      "[flaml.automl: 02-13 09:57:58] {1087} INFO -  at 16.4s,\tbest xgboost's error=0.3571,\tbest lgbm's error=0.3377\n",
      "[flaml.automl: 02-13 09:57:58] {939} INFO - iteration 38  current learner catboost\n",
      "[flaml.automl: 02-13 09:57:59] {1087} INFO -  at 17.1s,\tbest catboost's error=0.3599,\tbest lgbm's error=0.3377\n",
      "[flaml.automl: 02-13 09:57:59] {939} INFO - iteration 39  current learner xgboost\n",
      "[flaml.automl: 02-13 09:57:59] {1087} INFO -  at 17.3s,\tbest xgboost's error=0.3571,\tbest lgbm's error=0.3377\n",
      "[flaml.automl: 02-13 09:57:59] {939} INFO - iteration 40  current learner lgbm\n",
      "[flaml.automl: 02-13 09:58:02] {1087} INFO -  at 20.2s,\tbest lgbm's error=0.3377,\tbest lgbm's error=0.3377\n",
      "[flaml.automl: 02-13 09:58:02] {939} INFO - iteration 41  current learner xgboost\n",
      "[flaml.automl: 02-13 09:58:02] {1087} INFO -  at 20.3s,\tbest xgboost's error=0.3571,\tbest lgbm's error=0.3377\n",
      "[flaml.automl: 02-13 09:58:02] {939} INFO - iteration 42  current learner xgboost\n",
      "[flaml.automl: 02-13 09:58:03] {1087} INFO -  at 20.7s,\tbest xgboost's error=0.3571,\tbest lgbm's error=0.3377\n",
      "[flaml.automl: 02-13 09:58:03] {939} INFO - iteration 43  current learner lgbm\n",
      "[flaml.automl: 02-13 09:58:06] {1087} INFO -  at 23.8s,\tbest lgbm's error=0.3377,\tbest lgbm's error=0.3377\n",
      "[flaml.automl: 02-13 09:58:06] {939} INFO - iteration 44  current learner xgboost\n",
      "[flaml.automl: 02-13 09:58:06] {1087} INFO -  at 23.9s,\tbest xgboost's error=0.3571,\tbest lgbm's error=0.3377\n",
      "[flaml.automl: 02-13 09:58:06] {939} INFO - iteration 45  current learner extra_tree\n",
      "[flaml.automl: 02-13 09:58:06] {1087} INFO -  at 24.1s,\tbest extra_tree's error=0.3952,\tbest lgbm's error=0.3377\n",
      "[flaml.automl: 02-13 09:58:06] {939} INFO - iteration 46  current learner xgboost\n",
      "[flaml.automl: 02-13 09:58:06] {1087} INFO -  at 24.3s,\tbest xgboost's error=0.3571,\tbest lgbm's error=0.3377\n",
      "[flaml.automl: 02-13 09:58:06] {939} INFO - iteration 47  current learner lgbm\n",
      "[flaml.automl: 02-13 09:58:08] {1087} INFO -  at 25.7s,\tbest lgbm's error=0.3377,\tbest lgbm's error=0.3377\n",
      "[flaml.automl: 02-13 09:58:08] {939} INFO - iteration 48  current learner xgboost\n",
      "[flaml.automl: 02-13 09:58:08] {1087} INFO -  at 26.0s,\tbest xgboost's error=0.3571,\tbest lgbm's error=0.3377\n",
      "[flaml.automl: 02-13 09:58:08] {939} INFO - iteration 49  current learner lgbm\n",
      "[flaml.automl: 02-13 09:58:10] {1087} INFO -  at 28.4s,\tbest lgbm's error=0.3377,\tbest lgbm's error=0.3377\n",
      "[flaml.automl: 02-13 09:58:10] {939} INFO - iteration 50  current learner xgboost\n",
      "[flaml.automl: 02-13 09:58:11] {1087} INFO -  at 28.9s,\tbest xgboost's error=0.3559,\tbest lgbm's error=0.3377\n",
      "[flaml.automl: 02-13 09:58:11] {939} INFO - iteration 51  current learner extra_tree\n",
      "[flaml.automl: 02-13 09:58:11] {1087} INFO -  at 29.1s,\tbest extra_tree's error=0.3914,\tbest lgbm's error=0.3377\n",
      "[flaml.automl: 02-13 09:58:11] {939} INFO - iteration 52  current learner lgbm\n",
      "[flaml.automl: 02-13 09:58:12] {1087} INFO -  at 30.6s,\tbest lgbm's error=0.3377,\tbest lgbm's error=0.3377\n",
      "[flaml.automl: 02-13 09:58:12] {939} INFO - iteration 53  current learner lgbm\n",
      "[flaml.automl: 02-13 09:58:17] {1087} INFO -  at 35.2s,\tbest lgbm's error=0.3363,\tbest lgbm's error=0.3363\n",
      "[flaml.automl: 02-13 09:58:17] {939} INFO - iteration 54  current learner lgbm\n",
      "[flaml.automl: 02-13 09:58:24] {1087} INFO -  at 42.2s,\tbest lgbm's error=0.3269,\tbest lgbm's error=0.3269\n",
      "[flaml.automl: 02-13 09:58:24] {939} INFO - iteration 55  current learner lgbm\n",
      "[flaml.automl: 02-13 09:58:29] {1087} INFO -  at 47.1s,\tbest lgbm's error=0.3269,\tbest lgbm's error=0.3269\n",
      "[flaml.automl: 02-13 09:58:29] {939} INFO - iteration 56  current learner extra_tree\n",
      "[flaml.automl: 02-13 09:58:29] {1087} INFO -  at 47.3s,\tbest extra_tree's error=0.3911,\tbest lgbm's error=0.3269\n",
      "[flaml.automl: 02-13 09:58:29] {939} INFO - iteration 57  current learner lgbm\n",
      "[flaml.automl: 02-13 09:58:41] {1087} INFO -  at 59.3s,\tbest lgbm's error=0.3269,\tbest lgbm's error=0.3269\n",
      "[flaml.automl: 02-13 09:58:41] {939} INFO - iteration 58  current learner lgbm\n",
      "[flaml.automl: 02-13 09:58:52] {1087} INFO -  at 69.7s,\tbest lgbm's error=0.3269,\tbest lgbm's error=0.3269\n",
      "[flaml.automl: 02-13 09:58:52] {939} INFO - iteration 59  current learner lrl1\n",
      "[flaml.automl: 02-13 09:58:52] {1087} INFO -  at 70.0s,\tbest lrl1's error=0.4338,\tbest lgbm's error=0.3269\n",
      "[flaml.automl: 02-13 09:58:52] {939} INFO - iteration 60  current learner lrl1\n",
      "[flaml.automl: 02-13 09:58:52] {1087} INFO -  at 70.3s,\tbest lrl1's error=0.4338,\tbest lgbm's error=0.3269\n",
      "[flaml.automl: 02-13 09:58:52] {939} INFO - iteration 61  current learner lgbm\n",
      "[flaml.automl: 02-13 09:58:57] {1087} INFO -  at 75.4s,\tbest lgbm's error=0.3269,\tbest lgbm's error=0.3269\n",
      "[flaml.automl: 02-13 09:58:57] {939} INFO - iteration 62  current learner rf\n",
      "[flaml.automl: 02-13 09:58:58] {1087} INFO -  at 75.8s,\tbest rf's error=0.3951,\tbest lgbm's error=0.3269\n",
      "[flaml.automl: 02-13 09:58:58] {939} INFO - iteration 63  current learner lgbm\n",
      "[flaml.automl: 02-13 09:59:04] {1087} INFO -  at 81.7s,\tbest lgbm's error=0.3269,\tbest lgbm's error=0.3269\n",
      "[flaml.automl: 02-13 09:59:04] {939} INFO - iteration 64  current learner rf\n",
      "[flaml.automl: 02-13 09:59:04] {1087} INFO -  at 82.5s,\tbest rf's error=0.3872,\tbest lgbm's error=0.3269\n",
      "[flaml.automl: 02-13 09:59:04] {939} INFO - iteration 65  current learner rf\n",
      "[flaml.automl: 02-13 09:59:05] {1087} INFO -  at 82.9s,\tbest rf's error=0.3872,\tbest lgbm's error=0.3269\n",
      "[flaml.automl: 02-13 09:59:05] {939} INFO - iteration 66  current learner lgbm\n",
      "[flaml.automl: 02-13 09:59:24] {1087} INFO -  at 102.0s,\tbest lgbm's error=0.3269,\tbest lgbm's error=0.3269\n",
      "[flaml.automl: 02-13 09:59:24] {939} INFO - iteration 67  current learner rf\n",
      "[flaml.automl: 02-13 09:59:25] {1087} INFO -  at 102.7s,\tbest rf's error=0.3872,\tbest lgbm's error=0.3269\n",
      "[flaml.automl: 02-13 09:59:25] {939} INFO - iteration 68  current learner xgboost\n",
      "[flaml.automl: 02-13 09:59:25] {1087} INFO -  at 103.1s,\tbest xgboost's error=0.3559,\tbest lgbm's error=0.3269\n",
      "[flaml.automl: 02-13 09:59:25] {939} INFO - iteration 69  current learner rf\n",
      "[flaml.automl: 02-13 09:59:26] {1087} INFO -  at 104.0s,\tbest rf's error=0.3839,\tbest lgbm's error=0.3269\n",
      "[flaml.automl: 02-13 09:59:26] {939} INFO - iteration 70  current learner lgbm\n",
      "[flaml.automl: 02-13 09:59:28] {1087} INFO -  at 106.5s,\tbest lgbm's error=0.3269,\tbest lgbm's error=0.3269\n",
      "[flaml.automl: 02-13 09:59:28] {939} INFO - iteration 71  current learner rf\n",
      "[flaml.automl: 02-13 09:59:29] {1087} INFO -  at 107.2s,\tbest rf's error=0.3839,\tbest lgbm's error=0.3269\n",
      "[flaml.automl: 02-13 09:59:29] {939} INFO - iteration 72  current learner xgboost\n",
      "[flaml.automl: 02-13 09:59:30] {1087} INFO -  at 108.2s,\tbest xgboost's error=0.3507,\tbest lgbm's error=0.3269\n",
      "[flaml.automl: 02-13 09:59:30] {939} INFO - iteration 73  current learner xgboost\n",
      "[flaml.automl: 02-13 09:59:33] {1087} INFO -  at 110.9s,\tbest xgboost's error=0.3507,\tbest lgbm's error=0.3269\n",
      "[flaml.automl: 02-13 09:59:33] {939} INFO - iteration 74  current learner extra_tree\n",
      "[flaml.automl: 02-13 09:59:33] {1087} INFO -  at 111.2s,\tbest extra_tree's error=0.3906,\tbest lgbm's error=0.3269\n",
      "[flaml.automl: 02-13 09:59:33] {939} INFO - iteration 75  current learner xgboost\n",
      "[flaml.automl: 02-13 09:59:37] {1087} INFO -  at 115.2s,\tbest xgboost's error=0.3507,\tbest lgbm's error=0.3269\n",
      "[flaml.automl: 02-13 09:59:37] {939} INFO - iteration 76  current learner extra_tree\n",
      "[flaml.automl: 02-13 09:59:38] {1087} INFO -  at 115.8s,\tbest extra_tree's error=0.3841,\tbest lgbm's error=0.3269\n",
      "[flaml.automl: 02-13 09:59:38] {939} INFO - iteration 77  current learner rf\n",
      "[flaml.automl: 02-13 09:59:41] {1087} INFO -  at 118.7s,\tbest rf's error=0.3795,\tbest lgbm's error=0.3269\n",
      "[flaml.automl: 02-13 09:59:41] {939} INFO - iteration 78  current learner rf\n",
      "[flaml.automl: 02-13 09:59:44] {1087} INFO -  at 122.1s,\tbest rf's error=0.3795,\tbest lgbm's error=0.3269\n",
      "[flaml.automl: 02-13 09:59:44] {939} INFO - iteration 79  current learner extra_tree\n",
      "[flaml.automl: 02-13 09:59:45] {1087} INFO -  at 122.8s,\tbest extra_tree's error=0.3841,\tbest lgbm's error=0.3269\n",
      "[flaml.automl: 02-13 09:59:45] {939} INFO - iteration 80  current learner xgboost\n",
      "[flaml.automl: 02-13 09:59:50] {1087} INFO -  at 128.3s,\tbest xgboost's error=0.3399,\tbest lgbm's error=0.3269\n",
      "[flaml.automl: 02-13 09:59:50] {939} INFO - iteration 81  current learner rf\n",
      "[flaml.automl: 02-13 09:59:51] {1087} INFO -  at 128.9s,\tbest rf's error=0.3795,\tbest lgbm's error=0.3269\n",
      "[flaml.automl: 02-13 09:59:51] {939} INFO - iteration 82  current learner extra_tree\n",
      "[flaml.automl: 02-13 09:59:51] {1087} INFO -  at 129.2s,\tbest extra_tree's error=0.3841,\tbest lgbm's error=0.3269\n",
      "[flaml.automl: 02-13 09:59:51] {939} INFO - iteration 83  current learner xgboost\n",
      "[flaml.automl: 02-13 09:59:59] {1087} INFO -  at 136.7s,\tbest xgboost's error=0.3333,\tbest lgbm's error=0.3269\n",
      "[flaml.automl: 02-13 09:59:59] {939} INFO - iteration 84  current learner extra_tree\n",
      "[flaml.automl: 02-13 10:00:00] {1087} INFO -  at 138.1s,\tbest extra_tree's error=0.3841,\tbest lgbm's error=0.3269\n",
      "[flaml.automl: 02-13 10:00:00] {939} INFO - iteration 85  current learner xgboost\n",
      "[flaml.automl: 02-13 10:00:07] {1087} INFO -  at 145.4s,\tbest xgboost's error=0.3333,\tbest lgbm's error=0.3269\n",
      "[flaml.automl: 02-13 10:00:07] {939} INFO - iteration 86  current learner extra_tree\n",
      "[flaml.automl: 02-13 10:00:08] {1087} INFO -  at 146.4s,\tbest extra_tree's error=0.3819,\tbest lgbm's error=0.3269\n",
      "[flaml.automl: 02-13 10:00:08] {939} INFO - iteration 87  current learner xgboost\n",
      "[flaml.automl: 02-13 10:00:11] {1087} INFO -  at 149.5s,\tbest xgboost's error=0.3333,\tbest lgbm's error=0.3269\n",
      "[flaml.automl: 02-13 10:00:11] {939} INFO - iteration 88  current learner xgboost\n",
      "[flaml.automl: 02-13 10:00:24] {1087} INFO -  at 161.9s,\tbest xgboost's error=0.3301,\tbest lgbm's error=0.3269\n",
      "[flaml.automl: 02-13 10:00:24] {939} INFO - iteration 89  current learner rf\n",
      "[flaml.automl: 02-13 10:00:31] {1087} INFO -  at 168.8s,\tbest rf's error=0.3795,\tbest lgbm's error=0.3269\n",
      "[flaml.automl: 02-13 10:00:31] {939} INFO - iteration 90  current learner lgbm\n",
      "[flaml.automl: 02-13 10:00:50] {1087} INFO -  at 187.8s,\tbest lgbm's error=0.3269,\tbest lgbm's error=0.3269\n",
      "[flaml.automl: 02-13 10:00:50] {939} INFO - iteration 91  current learner extra_tree\n",
      "[flaml.automl: 02-13 10:00:50] {1087} INFO -  at 188.4s,\tbest extra_tree's error=0.3819,\tbest lgbm's error=0.3269\n",
      "[flaml.automl: 02-13 10:00:50] {939} INFO - iteration 92  current learner xgboost\n",
      "[flaml.automl: 02-13 10:01:08] {1087} INFO -  at 205.9s,\tbest xgboost's error=0.3261,\tbest xgboost's error=0.3261\n",
      "[flaml.automl: 02-13 10:01:08] {939} INFO - iteration 93  current learner extra_tree\n",
      "[flaml.automl: 02-13 10:01:08] {1087} INFO -  at 206.4s,\tbest extra_tree's error=0.3818,\tbest xgboost's error=0.3261\n",
      "[flaml.automl: 02-13 10:01:08] {939} INFO - iteration 94  current learner xgboost\n",
      "[flaml.automl: 02-13 10:01:19] {1087} INFO -  at 217.2s,\tbest xgboost's error=0.3261,\tbest xgboost's error=0.3261\n",
      "[flaml.automl: 02-13 10:01:19] {939} INFO - iteration 95  current learner xgboost\n",
      "[flaml.automl: 02-13 10:02:31] {1087} INFO -  at 288.6s,\tbest xgboost's error=0.3261,\tbest xgboost's error=0.3261\n",
      "[flaml.automl: 02-13 10:02:31] {939} INFO - iteration 96  current learner lgbm\n",
      "[flaml.automl: 02-13 10:02:31] {1095} INFO - no enough budget for learner lgbm\n",
      "[flaml.automl: 02-13 10:02:31] {939} INFO - iteration 97  current learner lrl1\n",
      "[flaml.automl: 02-13 10:02:31] {1095} INFO - no enough budget for learner lrl1\n",
      "[flaml.automl: 02-13 10:02:31] {939} INFO - iteration 98  current learner catboost\n",
      "[flaml.automl: 02-13 10:02:31] {1095} INFO - no enough budget for learner catboost\n",
      "[flaml.automl: 02-13 10:02:31] {939} INFO - iteration 99  current learner extra_tree\n",
      "[flaml.automl: 02-13 10:02:31] {1095} INFO - no enough budget for learner extra_tree\n",
      "[flaml.automl: 02-13 10:02:31] {939} INFO - iteration 100  current learner rf\n",
      "[flaml.automl: 02-13 10:02:31] {1095} INFO - no enough budget for learner rf\n",
      "[flaml.automl: 02-13 10:02:31] {1133} INFO - selected model: XGBClassifier(base_score=0.5, booster='gbtree',\n",
      "              colsample_bylevel=0.9319506749556234, colsample_bynode=1,\n",
      "              colsample_bytree=0.9855944254754091, gamma=0, gpu_id=-1,\n",
      "              grow_policy='lossguide', importance_type='gain',\n",
      "              interaction_constraints='', learning_rate=0.0632870888912315,\n",
      "              max_delta_step=0, max_depth=0, max_leaves=338,\n",
      "              min_child_weight=20.0, missing=nan, monotone_constraints='()',\n",
      "              n_estimators=363, n_jobs=-1, num_parallel_tree=1, random_state=0,\n",
      "              reg_alpha=2.434420183600625e-09, reg_lambda=0.20115461099818857,\n",
      "              scale_pos_weight=1, subsample=1.0, tree_method='hist',\n",
      "              validate_parameters=1, verbosity=0)\n",
      "[flaml.automl: 02-13 10:02:31] {894} INFO - fit succeeded\n"
     ]
    }
   ],
   "source": [
    "'''The main flaml automl API'''\n",
    "automl.fit(X_train = X_train, y_train = y_train, **settings)"
   ]
  },
  {
   "cell_type": "markdown",
   "metadata": {
    "slideshow": {
     "slide_type": "slide"
    }
   },
   "source": [
    "### Best model and metric"
   ]
  },
  {
   "cell_type": "code",
   "execution_count": 6,
   "metadata": {
    "slideshow": {
     "slide_type": "slide"
    },
    "tags": []
   },
   "outputs": [
    {
     "output_type": "stream",
     "name": "stdout",
     "text": [
      "Best ML leaner: xgboost\nBest hyperparmeter config: {'n_estimators': 363.0, 'max_leaves': 338.0, 'min_child_weight': 20.0, 'learning_rate': 0.0632870888912315, 'subsample': 1.0, 'colsample_bylevel': 0.9319506749556234, 'colsample_bytree': 0.9855944254754091, 'reg_alpha': 2.434420183600625e-09, 'reg_lambda': 0.20115461099818857, 'FLAML_sample_size': 364083}\nBest accuracy on validation data: 0.6739\nTraining duration of best run: 17.47 s\n"
     ]
    }
   ],
   "source": [
    "''' retrieve best config and best learner'''\n",
    "print('Best ML leaner:', automl.best_estimator)\n",
    "print('Best hyperparmeter config:', automl.best_config)\n",
    "print('Best accuracy on validation data: {0:.4g}'.format(1-automl.best_loss))\n",
    "print('Training duration of best run: {0:.4g} s'.format(automl.best_config_train_time))"
   ]
  },
  {
   "cell_type": "code",
   "execution_count": 7,
   "metadata": {
    "slideshow": {
     "slide_type": "slide"
    }
   },
   "outputs": [
    {
     "output_type": "execute_result",
     "data": {
      "text/plain": [
       "XGBClassifier(base_score=0.5, booster='gbtree',\n",
       "              colsample_bylevel=0.9319506749556234, colsample_bynode=1,\n",
       "              colsample_bytree=0.9855944254754091, gamma=0, gpu_id=-1,\n",
       "              grow_policy='lossguide', importance_type='gain',\n",
       "              interaction_constraints='', learning_rate=0.0632870888912315,\n",
       "              max_delta_step=0, max_depth=0, max_leaves=338,\n",
       "              min_child_weight=20.0, missing=nan, monotone_constraints='()',\n",
       "              n_estimators=363, n_jobs=-1, num_parallel_tree=1, random_state=0,\n",
       "              reg_alpha=2.434420183600625e-09, reg_lambda=0.20115461099818857,\n",
       "              scale_pos_weight=1, subsample=1.0, tree_method='hist',\n",
       "              validate_parameters=1, verbosity=0)"
      ]
     },
     "metadata": {},
     "execution_count": 7
    }
   ],
   "source": [
    "automl.model"
   ]
  },
  {
   "cell_type": "code",
   "execution_count": 8,
   "metadata": {
    "slideshow": {
     "slide_type": "slide"
    }
   },
   "outputs": [],
   "source": [
    "''' pickle and save the best model '''\n",
    "import pickle\n",
    "with open('best_model.pkl', 'wb') as f:\n",
    "    pickle.dump(automl.model, f, pickle.HIGHEST_PROTOCOL)"
   ]
  },
  {
   "cell_type": "code",
   "execution_count": 9,
   "metadata": {
    "slideshow": {
     "slide_type": "slide"
    },
    "tags": []
   },
   "outputs": [
    {
     "output_type": "stream",
     "name": "stdout",
     "text": [
      "Predicted labels [1 0 1 ... 1 0 0]\nTrue labels [0 0 0 ... 0 1 0]\n"
     ]
    }
   ],
   "source": [
    "''' compute predictions of testing dataset ''' \n",
    "y_pred = automl.predict(X_test)\n",
    "print('Predicted labels', y_pred)\n",
    "print('True labels', y_test)\n",
    "y_pred_proba = automl.predict_proba(X_test)[:,1]"
   ]
  },
  {
   "cell_type": "code",
   "execution_count": 10,
   "metadata": {
    "slideshow": {
     "slide_type": "slide"
    },
    "tags": []
   },
   "outputs": [
    {
     "output_type": "stream",
     "name": "stdout",
     "text": [
      "accuracy = 0.6720332824110467\nroc_auc = 0.7259621721565456\nlog_loss = 0.6027446810363773\nf1 = 0.5927978859557856\n"
     ]
    }
   ],
   "source": [
    "''' compute different metric values on testing dataset'''\n",
    "from flaml.ml import sklearn_metric_loss_score\n",
    "print('accuracy', '=', 1 - sklearn_metric_loss_score('accuracy', y_pred, y_test))\n",
    "print('roc_auc', '=', 1 - sklearn_metric_loss_score('roc_auc', y_pred_proba, y_test))\n",
    "print('log_loss', '=', sklearn_metric_loss_score('log_loss', y_pred_proba, y_test))\n",
    "print('f1', '=', 1 - sklearn_metric_loss_score('f1', y_pred, y_test))"
   ]
  },
  {
   "cell_type": "markdown",
   "metadata": {
    "slideshow": {
     "slide_type": "slide"
    }
   },
   "source": [
    "See Section 4 for an accuracy comparison with default LightGBM and XGBoost.\n",
    "\n",
    "### Log history"
   ]
  },
  {
   "cell_type": "code",
   "execution_count": 11,
   "metadata": {
    "slideshow": {
     "slide_type": "subslide"
    },
    "tags": []
   },
   "outputs": [
    {
     "output_type": "stream",
     "name": "stdout",
     "text": [
      "{'Current Learner': 'lgbm', 'Current Sample': 10000, 'Current Hyper-parameters': {'n_estimators': 4, 'max_leaves': 4, 'min_child_weight': 20.0, 'learning_rate': 0.1, 'subsample': 1.0, 'log_max_bin': 8, 'colsample_bytree': 1.0, 'reg_alpha': 1e-10, 'reg_lambda': 1.0, 'FLAML_sample_size': 10000}, 'Best Learner': 'lgbm', 'Best Hyper-parameters': {'n_estimators': 4, 'max_leaves': 4, 'min_child_weight': 20.0, 'learning_rate': 0.1, 'subsample': 1.0, 'log_max_bin': 8, 'colsample_bytree': 1.0, 'reg_alpha': 1e-10, 'reg_lambda': 1.0, 'FLAML_sample_size': 10000}}\n{'Current Learner': 'lgbm', 'Current Sample': 10000, 'Current Hyper-parameters': {'n_estimators': 4.0, 'max_leaves': 4.0, 'min_child_weight': 20.0, 'learning_rate': 0.46335414315327306, 'subsample': 0.9339389930838808, 'log_max_bin': 10.0, 'colsample_bytree': 0.9904286645657556, 'reg_alpha': 2.841147337412889e-10, 'reg_lambda': 0.12000833497054482, 'FLAML_sample_size': 10000}, 'Best Learner': 'lgbm', 'Best Hyper-parameters': {'n_estimators': 4.0, 'max_leaves': 4.0, 'min_child_weight': 20.0, 'learning_rate': 0.46335414315327306, 'subsample': 0.9339389930838808, 'log_max_bin': 10.0, 'colsample_bytree': 0.9904286645657556, 'reg_alpha': 2.841147337412889e-10, 'reg_lambda': 0.12000833497054482, 'FLAML_sample_size': 10000}}\n{'Current Learner': 'lgbm', 'Current Sample': 10000, 'Current Hyper-parameters': {'n_estimators': 23.0, 'max_leaves': 4.0, 'min_child_weight': 20.0, 'learning_rate': 1.0, 'subsample': 0.9917683183663918, 'log_max_bin': 10.0, 'colsample_bytree': 0.9858892907525497, 'reg_alpha': 3.8783982645515837e-10, 'reg_lambda': 0.36607431863072826, 'FLAML_sample_size': 10000}, 'Best Learner': 'lgbm', 'Best Hyper-parameters': {'n_estimators': 23.0, 'max_leaves': 4.0, 'min_child_weight': 20.0, 'learning_rate': 1.0, 'subsample': 0.9917683183663918, 'log_max_bin': 10.0, 'colsample_bytree': 0.9858892907525497, 'reg_alpha': 3.8783982645515837e-10, 'reg_lambda': 0.36607431863072826, 'FLAML_sample_size': 10000}}\n{'Current Learner': 'lgbm', 'Current Sample': 10000, 'Current Hyper-parameters': {'n_estimators': 11.0, 'max_leaves': 17.0, 'min_child_weight': 14.947587304572773, 'learning_rate': 0.6092558236172073, 'subsample': 0.9659256891661986, 'log_max_bin': 10.0, 'colsample_bytree': 1.0, 'reg_alpha': 3.816590663384559e-08, 'reg_lambda': 0.4482946615262561, 'FLAML_sample_size': 10000}, 'Best Learner': 'lgbm', 'Best Hyper-parameters': {'n_estimators': 11.0, 'max_leaves': 17.0, 'min_child_weight': 14.947587304572773, 'learning_rate': 0.6092558236172073, 'subsample': 0.9659256891661986, 'log_max_bin': 10.0, 'colsample_bytree': 1.0, 'reg_alpha': 3.816590663384559e-08, 'reg_lambda': 0.4482946615262561, 'FLAML_sample_size': 10000}}\n{'Current Learner': 'lgbm', 'Current Sample': 10000, 'Current Hyper-parameters': {'n_estimators': 6.0, 'max_leaves': 4.0, 'min_child_weight': 2.776007506782275, 'learning_rate': 0.7179196339383696, 'subsample': 0.8746997476758036, 'log_max_bin': 9.0, 'colsample_bytree': 1.0, 'reg_alpha': 9.69511928836042e-10, 'reg_lambda': 0.17744769739709204, 'FLAML_sample_size': 10000}, 'Best Learner': 'lgbm', 'Best Hyper-parameters': {'n_estimators': 6.0, 'max_leaves': 4.0, 'min_child_weight': 2.776007506782275, 'learning_rate': 0.7179196339383696, 'subsample': 0.8746997476758036, 'log_max_bin': 9.0, 'colsample_bytree': 1.0, 'reg_alpha': 9.69511928836042e-10, 'reg_lambda': 0.17744769739709204, 'FLAML_sample_size': 10000}}\n{'Current Learner': 'lgbm', 'Current Sample': 364083, 'Current Hyper-parameters': {'n_estimators': 4.0, 'max_leaves': 12.0, 'min_child_weight': 1.0757027869964557, 'learning_rate': 0.450276708780562, 'subsample': 0.9006357480496961, 'log_max_bin': 10.0, 'colsample_bytree': 1.0, 'reg_alpha': 1e-10, 'reg_lambda': 1.0, 'FLAML_sample_size': 364083}, 'Best Learner': 'lgbm', 'Best Hyper-parameters': {'n_estimators': 4.0, 'max_leaves': 12.0, 'min_child_weight': 1.0757027869964557, 'learning_rate': 0.450276708780562, 'subsample': 0.9006357480496961, 'log_max_bin': 10.0, 'colsample_bytree': 1.0, 'reg_alpha': 1e-10, 'reg_lambda': 1.0, 'FLAML_sample_size': 364083}}\n{'Current Learner': 'lgbm', 'Current Sample': 364083, 'Current Hyper-parameters': {'n_estimators': 12.0, 'max_leaves': 21.0, 'min_child_weight': 1.4188300323104601, 'learning_rate': 0.21434585687003363, 'subsample': 0.96058565726185, 'log_max_bin': 9.0, 'colsample_bytree': 1.0, 'reg_alpha': 3.209664512322882e-10, 'reg_lambda': 0.8927146483558472, 'FLAML_sample_size': 364083}, 'Best Learner': 'lgbm', 'Best Hyper-parameters': {'n_estimators': 12.0, 'max_leaves': 21.0, 'min_child_weight': 1.4188300323104601, 'learning_rate': 0.21434585687003363, 'subsample': 0.96058565726185, 'log_max_bin': 9.0, 'colsample_bytree': 1.0, 'reg_alpha': 3.209664512322882e-10, 'reg_lambda': 0.8927146483558472, 'FLAML_sample_size': 364083}}\n{'Current Learner': 'lgbm', 'Current Sample': 364083, 'Current Hyper-parameters': {'n_estimators': 4.0, 'max_leaves': 33.0, 'min_child_weight': 2.124277220000237, 'learning_rate': 0.6104117418606608, 'subsample': 0.8953865349615586, 'log_max_bin': 10.0, 'colsample_bytree': 0.9549508919646192, 'reg_alpha': 1.775430936881156e-08, 'reg_lambda': 1.0, 'FLAML_sample_size': 364083}, 'Best Learner': 'lgbm', 'Best Hyper-parameters': {'n_estimators': 4.0, 'max_leaves': 33.0, 'min_child_weight': 2.124277220000237, 'learning_rate': 0.6104117418606608, 'subsample': 0.8953865349615586, 'log_max_bin': 10.0, 'colsample_bytree': 0.9549508919646192, 'reg_alpha': 1.775430936881156e-08, 'reg_lambda': 1.0, 'FLAML_sample_size': 364083}}\n{'Current Learner': 'lgbm', 'Current Sample': 364083, 'Current Hyper-parameters': {'n_estimators': 14.0, 'max_leaves': 207.0, 'min_child_weight': 5.096453108920863, 'learning_rate': 0.31631252713344904, 'subsample': 0.9433718793194579, 'log_max_bin': 10.0, 'colsample_bytree': 0.9950430045845675, 'reg_alpha': 1e-10, 'reg_lambda': 1.0, 'FLAML_sample_size': 364083}, 'Best Learner': 'lgbm', 'Best Hyper-parameters': {'n_estimators': 14.0, 'max_leaves': 207.0, 'min_child_weight': 5.096453108920863, 'learning_rate': 0.31631252713344904, 'subsample': 0.9433718793194579, 'log_max_bin': 10.0, 'colsample_bytree': 0.9950430045845675, 'reg_alpha': 1e-10, 'reg_lambda': 1.0, 'FLAML_sample_size': 364083}}\n{'Current Learner': 'lgbm', 'Current Sample': 364083, 'Current Hyper-parameters': {'n_estimators': 31.0, 'max_leaves': 809.0, 'min_child_weight': 18.922277448271377, 'learning_rate': 0.0572324550115096, 'subsample': 0.9695636894945154, 'log_max_bin': 10.0, 'colsample_bytree': 0.9817199261897989, 'reg_alpha': 1.112259151174658e-10, 'reg_lambda': 1.0, 'FLAML_sample_size': 364083}, 'Best Learner': 'lgbm', 'Best Hyper-parameters': {'n_estimators': 31.0, 'max_leaves': 809.0, 'min_child_weight': 18.922277448271377, 'learning_rate': 0.0572324550115096, 'subsample': 0.9695636894945154, 'log_max_bin': 10.0, 'colsample_bytree': 0.9817199261897989, 'reg_alpha': 1.112259151174658e-10, 'reg_lambda': 1.0, 'FLAML_sample_size': 364083}}\n{'Current Learner': 'lgbm', 'Current Sample': 364083, 'Current Hyper-parameters': {'n_estimators': 62.0, 'max_leaves': 721.0, 'min_child_weight': 20.0, 'learning_rate': 0.11571885450381766, 'subsample': 1.0, 'log_max_bin': 8.0, 'colsample_bytree': 0.9806374300599766, 'reg_alpha': 1e-10, 'reg_lambda': 0.20115461099818857, 'FLAML_sample_size': 364083}, 'Best Learner': 'lgbm', 'Best Hyper-parameters': {'n_estimators': 62.0, 'max_leaves': 721.0, 'min_child_weight': 20.0, 'learning_rate': 0.11571885450381766, 'subsample': 1.0, 'log_max_bin': 8.0, 'colsample_bytree': 0.9806374300599766, 'reg_alpha': 1e-10, 'reg_lambda': 0.20115461099818857, 'FLAML_sample_size': 364083}}\n"
     ]
    }
   ],
   "source": [
    "from flaml.data import get_output_from_log\n",
    "time_history, best_valid_loss_history, valid_loss_history, config_history, train_loss_history = \\\n",
    "    get_output_from_log(filename = settings['log_file_name'], time_budget = 60)\n",
    "\n",
    "for config in config_history:\n",
    "    print(config)"
   ]
  },
  {
   "cell_type": "code",
   "execution_count": 12,
   "metadata": {
    "slideshow": {
     "slide_type": "slide"
    }
   },
   "outputs": [
    {
     "output_type": "display_data",
     "data": {
      "text/plain": "<Figure size 432x288 with 1 Axes>",
      "image/svg+xml": "<?xml version=\"1.0\" encoding=\"utf-8\" standalone=\"no\"?>\n<!DOCTYPE svg PUBLIC \"-//W3C//DTD SVG 1.1//EN\"\n  \"http://www.w3.org/Graphics/SVG/1.1/DTD/svg11.dtd\">\n<!-- Created with matplotlib (https://matplotlib.org/) -->\n<svg height=\"277.314375pt\" version=\"1.1\" viewBox=\"0 0 392.14375 277.314375\" width=\"392.14375pt\" xmlns=\"http://www.w3.org/2000/svg\" xmlns:xlink=\"http://www.w3.org/1999/xlink\">\n <defs>\n  <style type=\"text/css\">\n*{stroke-linecap:butt;stroke-linejoin:round;}\n  </style>\n </defs>\n <g id=\"figure_1\">\n  <g id=\"patch_1\">\n   <path d=\"M 0 277.314375 \nL 392.14375 277.314375 \nL 392.14375 0 \nL 0 0 \nz\n\" style=\"fill:none;\"/>\n  </g>\n  <g id=\"axes_1\">\n   <g id=\"patch_2\">\n    <path d=\"M 50.14375 239.758125 \nL 384.94375 239.758125 \nL 384.94375 22.318125 \nL 50.14375 22.318125 \nz\n\" style=\"fill:#ffffff;\"/>\n   </g>\n   <g id=\"PathCollection_1\">\n    <defs>\n     <path d=\"M 0 3 \nC 0.795609 3 1.55874 2.683901 2.12132 2.12132 \nC 2.683901 1.55874 3 0.795609 3 0 \nC 3 -0.795609 2.683901 -1.55874 2.12132 -2.12132 \nC 1.55874 -2.683901 0.795609 -3 0 -3 \nC -0.795609 -3 -1.55874 -2.683901 -2.12132 -2.12132 \nC -2.683901 -1.55874 -3 -0.795609 -3 0 \nC -3 0.795609 -2.683901 1.55874 -2.12132 2.12132 \nC -1.55874 2.683901 -0.795609 3 0 3 \nz\n\" id=\"m5098bc60f7\" style=\"stroke:#1f77b4;\"/>\n    </defs>\n    <g clip-path=\"url(#p35121ce149)\">\n     <use style=\"fill:#1f77b4;stroke:#1f77b4;\" x=\"65.361932\" xlink:href=\"#m5098bc60f7\" y=\"229.874489\"/>\n     <use style=\"fill:#1f77b4;stroke:#1f77b4;\" x=\"71.171378\" xlink:href=\"#m5098bc60f7\" y=\"187.894309\"/>\n     <use style=\"fill:#1f77b4;stroke:#1f77b4;\" x=\"72.988429\" xlink:href=\"#m5098bc60f7\" y=\"185.102049\"/>\n     <use style=\"fill:#1f77b4;stroke:#1f77b4;\" x=\"74.515975\" xlink:href=\"#m5098bc60f7\" y=\"174.992144\"/>\n     <use style=\"fill:#1f77b4;stroke:#1f77b4;\" x=\"75.992825\" xlink:href=\"#m5098bc60f7\" y=\"169.311339\"/>\n     <use style=\"fill:#1f77b4;stroke:#1f77b4;\" x=\"96.498499\" xlink:href=\"#m5098bc60f7\" y=\"168.252206\"/>\n     <use style=\"fill:#1f77b4;stroke:#1f77b4;\" x=\"131.616648\" xlink:href=\"#m5098bc60f7\" y=\"146.684408\"/>\n     <use style=\"fill:#1f77b4;stroke:#1f77b4;\" x=\"140.459101\" xlink:href=\"#m5098bc60f7\" y=\"138.596483\"/>\n     <use style=\"fill:#1f77b4;stroke:#1f77b4;\" x=\"165.7629\" xlink:href=\"#m5098bc60f7\" y=\"74.181941\"/>\n     <use style=\"fill:#1f77b4;stroke:#1f77b4;\" x=\"318.884725\" xlink:href=\"#m5098bc60f7\" y=\"68.597422\"/>\n     <use style=\"fill:#1f77b4;stroke:#1f77b4;\" x=\"369.725568\" xlink:href=\"#m5098bc60f7\" y=\"32.201761\"/>\n    </g>\n   </g>\n   <g id=\"matplotlib.axis_1\">\n    <g id=\"xtick_1\">\n     <g id=\"line2d_1\">\n      <defs>\n       <path d=\"M 0 0 \nL 0 3.5 \n\" id=\"m5e8f6d4cbd\" style=\"stroke:#000000;stroke-width:0.8;\"/>\n      </defs>\n      <g>\n       <use style=\"stroke:#000000;stroke-width:0.8;\" x=\"62.009985\" xlink:href=\"#m5e8f6d4cbd\" y=\"239.758125\"/>\n      </g>\n     </g>\n     <g id=\"text_1\">\n      <!-- 0 -->\n      <defs>\n       <path d=\"M 31.78125 66.40625 \nQ 24.171875 66.40625 20.328125 58.90625 \nQ 16.5 51.421875 16.5 36.375 \nQ 16.5 21.390625 20.328125 13.890625 \nQ 24.171875 6.390625 31.78125 6.390625 \nQ 39.453125 6.390625 43.28125 13.890625 \nQ 47.125 21.390625 47.125 36.375 \nQ 47.125 51.421875 43.28125 58.90625 \nQ 39.453125 66.40625 31.78125 66.40625 \nz\nM 31.78125 74.21875 \nQ 44.046875 74.21875 50.515625 64.515625 \nQ 56.984375 54.828125 56.984375 36.375 \nQ 56.984375 17.96875 50.515625 8.265625 \nQ 44.046875 -1.421875 31.78125 -1.421875 \nQ 19.53125 -1.421875 13.0625 8.265625 \nQ 6.59375 17.96875 6.59375 36.375 \nQ 6.59375 54.828125 13.0625 64.515625 \nQ 19.53125 74.21875 31.78125 74.21875 \nz\n\" id=\"DejaVuSans-48\"/>\n      </defs>\n      <g transform=\"translate(58.828735 254.356562)scale(0.1 -0.1)\">\n       <use xlink:href=\"#DejaVuSans-48\"/>\n      </g>\n     </g>\n    </g>\n    <g id=\"xtick_2\">\n     <g id=\"line2d_2\">\n      <g>\n       <use style=\"stroke:#000000;stroke-width:0.8;\" x=\"135.008769\" xlink:href=\"#m5e8f6d4cbd\" y=\"239.758125\"/>\n      </g>\n     </g>\n     <g id=\"text_2\">\n      <!-- 10 -->\n      <defs>\n       <path d=\"M 12.40625 8.296875 \nL 28.515625 8.296875 \nL 28.515625 63.921875 \nL 10.984375 60.40625 \nL 10.984375 69.390625 \nL 28.421875 72.90625 \nL 38.28125 72.90625 \nL 38.28125 8.296875 \nL 54.390625 8.296875 \nL 54.390625 0 \nL 12.40625 0 \nz\n\" id=\"DejaVuSans-49\"/>\n      </defs>\n      <g transform=\"translate(128.646269 254.356562)scale(0.1 -0.1)\">\n       <use xlink:href=\"#DejaVuSans-49\"/>\n       <use x=\"63.623047\" xlink:href=\"#DejaVuSans-48\"/>\n      </g>\n     </g>\n    </g>\n    <g id=\"xtick_3\">\n     <g id=\"line2d_3\">\n      <g>\n       <use style=\"stroke:#000000;stroke-width:0.8;\" x=\"208.007553\" xlink:href=\"#m5e8f6d4cbd\" y=\"239.758125\"/>\n      </g>\n     </g>\n     <g id=\"text_3\">\n      <!-- 20 -->\n      <defs>\n       <path d=\"M 19.1875 8.296875 \nL 53.609375 8.296875 \nL 53.609375 0 \nL 7.328125 0 \nL 7.328125 8.296875 \nQ 12.9375 14.109375 22.625 23.890625 \nQ 32.328125 33.6875 34.8125 36.53125 \nQ 39.546875 41.84375 41.421875 45.53125 \nQ 43.3125 49.21875 43.3125 52.78125 \nQ 43.3125 58.59375 39.234375 62.25 \nQ 35.15625 65.921875 28.609375 65.921875 \nQ 23.96875 65.921875 18.8125 64.3125 \nQ 13.671875 62.703125 7.8125 59.421875 \nL 7.8125 69.390625 \nQ 13.765625 71.78125 18.9375 73 \nQ 24.125 74.21875 28.421875 74.21875 \nQ 39.75 74.21875 46.484375 68.546875 \nQ 53.21875 62.890625 53.21875 53.421875 \nQ 53.21875 48.921875 51.53125 44.890625 \nQ 49.859375 40.875 45.40625 35.40625 \nQ 44.1875 33.984375 37.640625 27.21875 \nQ 31.109375 20.453125 19.1875 8.296875 \nz\n\" id=\"DejaVuSans-50\"/>\n      </defs>\n      <g transform=\"translate(201.645053 254.356562)scale(0.1 -0.1)\">\n       <use xlink:href=\"#DejaVuSans-50\"/>\n       <use x=\"63.623047\" xlink:href=\"#DejaVuSans-48\"/>\n      </g>\n     </g>\n    </g>\n    <g id=\"xtick_4\">\n     <g id=\"line2d_4\">\n      <g>\n       <use style=\"stroke:#000000;stroke-width:0.8;\" x=\"281.006337\" xlink:href=\"#m5e8f6d4cbd\" y=\"239.758125\"/>\n      </g>\n     </g>\n     <g id=\"text_4\">\n      <!-- 30 -->\n      <defs>\n       <path d=\"M 40.578125 39.3125 \nQ 47.65625 37.796875 51.625 33 \nQ 55.609375 28.21875 55.609375 21.1875 \nQ 55.609375 10.40625 48.1875 4.484375 \nQ 40.765625 -1.421875 27.09375 -1.421875 \nQ 22.515625 -1.421875 17.65625 -0.515625 \nQ 12.796875 0.390625 7.625 2.203125 \nL 7.625 11.71875 \nQ 11.71875 9.328125 16.59375 8.109375 \nQ 21.484375 6.890625 26.8125 6.890625 \nQ 36.078125 6.890625 40.9375 10.546875 \nQ 45.796875 14.203125 45.796875 21.1875 \nQ 45.796875 27.640625 41.28125 31.265625 \nQ 36.765625 34.90625 28.71875 34.90625 \nL 20.21875 34.90625 \nL 20.21875 43.015625 \nL 29.109375 43.015625 \nQ 36.375 43.015625 40.234375 45.921875 \nQ 44.09375 48.828125 44.09375 54.296875 \nQ 44.09375 59.90625 40.109375 62.90625 \nQ 36.140625 65.921875 28.71875 65.921875 \nQ 24.65625 65.921875 20.015625 65.03125 \nQ 15.375 64.15625 9.8125 62.3125 \nL 9.8125 71.09375 \nQ 15.4375 72.65625 20.34375 73.4375 \nQ 25.25 74.21875 29.59375 74.21875 \nQ 40.828125 74.21875 47.359375 69.109375 \nQ 53.90625 64.015625 53.90625 55.328125 \nQ 53.90625 49.265625 50.4375 45.09375 \nQ 46.96875 40.921875 40.578125 39.3125 \nz\n\" id=\"DejaVuSans-51\"/>\n      </defs>\n      <g transform=\"translate(274.643837 254.356562)scale(0.1 -0.1)\">\n       <use xlink:href=\"#DejaVuSans-51\"/>\n       <use x=\"63.623047\" xlink:href=\"#DejaVuSans-48\"/>\n      </g>\n     </g>\n    </g>\n    <g id=\"xtick_5\">\n     <g id=\"line2d_5\">\n      <g>\n       <use style=\"stroke:#000000;stroke-width:0.8;\" x=\"354.005121\" xlink:href=\"#m5e8f6d4cbd\" y=\"239.758125\"/>\n      </g>\n     </g>\n     <g id=\"text_5\">\n      <!-- 40 -->\n      <defs>\n       <path d=\"M 37.796875 64.3125 \nL 12.890625 25.390625 \nL 37.796875 25.390625 \nz\nM 35.203125 72.90625 \nL 47.609375 72.90625 \nL 47.609375 25.390625 \nL 58.015625 25.390625 \nL 58.015625 17.1875 \nL 47.609375 17.1875 \nL 47.609375 0 \nL 37.796875 0 \nL 37.796875 17.1875 \nL 4.890625 17.1875 \nL 4.890625 26.703125 \nz\n\" id=\"DejaVuSans-52\"/>\n      </defs>\n      <g transform=\"translate(347.642621 254.356562)scale(0.1 -0.1)\">\n       <use xlink:href=\"#DejaVuSans-52\"/>\n       <use x=\"63.623047\" xlink:href=\"#DejaVuSans-48\"/>\n      </g>\n     </g>\n    </g>\n    <g id=\"text_6\">\n     <!-- Wall Clock Time (s) -->\n     <defs>\n      <path d=\"M 3.328125 72.90625 \nL 13.28125 72.90625 \nL 28.609375 11.28125 \nL 43.890625 72.90625 \nL 54.984375 72.90625 \nL 70.3125 11.28125 \nL 85.59375 72.90625 \nL 95.609375 72.90625 \nL 77.296875 0 \nL 64.890625 0 \nL 49.515625 63.28125 \nL 33.984375 0 \nL 21.578125 0 \nz\n\" id=\"DejaVuSans-87\"/>\n      <path d=\"M 34.28125 27.484375 \nQ 23.390625 27.484375 19.1875 25 \nQ 14.984375 22.515625 14.984375 16.5 \nQ 14.984375 11.71875 18.140625 8.90625 \nQ 21.296875 6.109375 26.703125 6.109375 \nQ 34.1875 6.109375 38.703125 11.40625 \nQ 43.21875 16.703125 43.21875 25.484375 \nL 43.21875 27.484375 \nz\nM 52.203125 31.203125 \nL 52.203125 0 \nL 43.21875 0 \nL 43.21875 8.296875 \nQ 40.140625 3.328125 35.546875 0.953125 \nQ 30.953125 -1.421875 24.3125 -1.421875 \nQ 15.921875 -1.421875 10.953125 3.296875 \nQ 6 8.015625 6 15.921875 \nQ 6 25.140625 12.171875 29.828125 \nQ 18.359375 34.515625 30.609375 34.515625 \nL 43.21875 34.515625 \nL 43.21875 35.40625 \nQ 43.21875 41.609375 39.140625 45 \nQ 35.0625 48.390625 27.6875 48.390625 \nQ 23 48.390625 18.546875 47.265625 \nQ 14.109375 46.140625 10.015625 43.890625 \nL 10.015625 52.203125 \nQ 14.9375 54.109375 19.578125 55.046875 \nQ 24.21875 56 28.609375 56 \nQ 40.484375 56 46.34375 49.84375 \nQ 52.203125 43.703125 52.203125 31.203125 \nz\n\" id=\"DejaVuSans-97\"/>\n      <path d=\"M 9.421875 75.984375 \nL 18.40625 75.984375 \nL 18.40625 0 \nL 9.421875 0 \nz\n\" id=\"DejaVuSans-108\"/>\n      <path id=\"DejaVuSans-32\"/>\n      <path d=\"M 64.40625 67.28125 \nL 64.40625 56.890625 \nQ 59.421875 61.53125 53.78125 63.8125 \nQ 48.140625 66.109375 41.796875 66.109375 \nQ 29.296875 66.109375 22.65625 58.46875 \nQ 16.015625 50.828125 16.015625 36.375 \nQ 16.015625 21.96875 22.65625 14.328125 \nQ 29.296875 6.6875 41.796875 6.6875 \nQ 48.140625 6.6875 53.78125 8.984375 \nQ 59.421875 11.28125 64.40625 15.921875 \nL 64.40625 5.609375 \nQ 59.234375 2.09375 53.4375 0.328125 \nQ 47.65625 -1.421875 41.21875 -1.421875 \nQ 24.65625 -1.421875 15.125 8.703125 \nQ 5.609375 18.84375 5.609375 36.375 \nQ 5.609375 53.953125 15.125 64.078125 \nQ 24.65625 74.21875 41.21875 74.21875 \nQ 47.75 74.21875 53.53125 72.484375 \nQ 59.328125 70.75 64.40625 67.28125 \nz\n\" id=\"DejaVuSans-67\"/>\n      <path d=\"M 30.609375 48.390625 \nQ 23.390625 48.390625 19.1875 42.75 \nQ 14.984375 37.109375 14.984375 27.296875 \nQ 14.984375 17.484375 19.15625 11.84375 \nQ 23.34375 6.203125 30.609375 6.203125 \nQ 37.796875 6.203125 41.984375 11.859375 \nQ 46.1875 17.53125 46.1875 27.296875 \nQ 46.1875 37.015625 41.984375 42.703125 \nQ 37.796875 48.390625 30.609375 48.390625 \nz\nM 30.609375 56 \nQ 42.328125 56 49.015625 48.375 \nQ 55.71875 40.765625 55.71875 27.296875 \nQ 55.71875 13.875 49.015625 6.21875 \nQ 42.328125 -1.421875 30.609375 -1.421875 \nQ 18.84375 -1.421875 12.171875 6.21875 \nQ 5.515625 13.875 5.515625 27.296875 \nQ 5.515625 40.765625 12.171875 48.375 \nQ 18.84375 56 30.609375 56 \nz\n\" id=\"DejaVuSans-111\"/>\n      <path d=\"M 48.78125 52.59375 \nL 48.78125 44.1875 \nQ 44.96875 46.296875 41.140625 47.34375 \nQ 37.3125 48.390625 33.40625 48.390625 \nQ 24.65625 48.390625 19.8125 42.84375 \nQ 14.984375 37.3125 14.984375 27.296875 \nQ 14.984375 17.28125 19.8125 11.734375 \nQ 24.65625 6.203125 33.40625 6.203125 \nQ 37.3125 6.203125 41.140625 7.25 \nQ 44.96875 8.296875 48.78125 10.40625 \nL 48.78125 2.09375 \nQ 45.015625 0.34375 40.984375 -0.53125 \nQ 36.96875 -1.421875 32.421875 -1.421875 \nQ 20.0625 -1.421875 12.78125 6.34375 \nQ 5.515625 14.109375 5.515625 27.296875 \nQ 5.515625 40.671875 12.859375 48.328125 \nQ 20.21875 56 33.015625 56 \nQ 37.15625 56 41.109375 55.140625 \nQ 45.0625 54.296875 48.78125 52.59375 \nz\n\" id=\"DejaVuSans-99\"/>\n      <path d=\"M 9.078125 75.984375 \nL 18.109375 75.984375 \nL 18.109375 31.109375 \nL 44.921875 54.6875 \nL 56.390625 54.6875 \nL 27.390625 29.109375 \nL 57.625 0 \nL 45.90625 0 \nL 18.109375 26.703125 \nL 18.109375 0 \nL 9.078125 0 \nz\n\" id=\"DejaVuSans-107\"/>\n      <path d=\"M -0.296875 72.90625 \nL 61.375 72.90625 \nL 61.375 64.59375 \nL 35.5 64.59375 \nL 35.5 0 \nL 25.59375 0 \nL 25.59375 64.59375 \nL -0.296875 64.59375 \nz\n\" id=\"DejaVuSans-84\"/>\n      <path d=\"M 9.421875 54.6875 \nL 18.40625 54.6875 \nL 18.40625 0 \nL 9.421875 0 \nz\nM 9.421875 75.984375 \nL 18.40625 75.984375 \nL 18.40625 64.59375 \nL 9.421875 64.59375 \nz\n\" id=\"DejaVuSans-105\"/>\n      <path d=\"M 52 44.1875 \nQ 55.375 50.25 60.0625 53.125 \nQ 64.75 56 71.09375 56 \nQ 79.640625 56 84.28125 50.015625 \nQ 88.921875 44.046875 88.921875 33.015625 \nL 88.921875 0 \nL 79.890625 0 \nL 79.890625 32.71875 \nQ 79.890625 40.578125 77.09375 44.375 \nQ 74.3125 48.1875 68.609375 48.1875 \nQ 61.625 48.1875 57.5625 43.546875 \nQ 53.515625 38.921875 53.515625 30.90625 \nL 53.515625 0 \nL 44.484375 0 \nL 44.484375 32.71875 \nQ 44.484375 40.625 41.703125 44.40625 \nQ 38.921875 48.1875 33.109375 48.1875 \nQ 26.21875 48.1875 22.15625 43.53125 \nQ 18.109375 38.875 18.109375 30.90625 \nL 18.109375 0 \nL 9.078125 0 \nL 9.078125 54.6875 \nL 18.109375 54.6875 \nL 18.109375 46.1875 \nQ 21.1875 51.21875 25.484375 53.609375 \nQ 29.78125 56 35.6875 56 \nQ 41.65625 56 45.828125 52.96875 \nQ 50 49.953125 52 44.1875 \nz\n\" id=\"DejaVuSans-109\"/>\n      <path d=\"M 56.203125 29.59375 \nL 56.203125 25.203125 \nL 14.890625 25.203125 \nQ 15.484375 15.921875 20.484375 11.0625 \nQ 25.484375 6.203125 34.421875 6.203125 \nQ 39.59375 6.203125 44.453125 7.46875 \nQ 49.3125 8.734375 54.109375 11.28125 \nL 54.109375 2.78125 \nQ 49.265625 0.734375 44.1875 -0.34375 \nQ 39.109375 -1.421875 33.890625 -1.421875 \nQ 20.796875 -1.421875 13.15625 6.1875 \nQ 5.515625 13.8125 5.515625 26.8125 \nQ 5.515625 40.234375 12.765625 48.109375 \nQ 20.015625 56 32.328125 56 \nQ 43.359375 56 49.78125 48.890625 \nQ 56.203125 41.796875 56.203125 29.59375 \nz\nM 47.21875 32.234375 \nQ 47.125 39.59375 43.09375 43.984375 \nQ 39.0625 48.390625 32.421875 48.390625 \nQ 24.90625 48.390625 20.390625 44.140625 \nQ 15.875 39.890625 15.1875 32.171875 \nz\n\" id=\"DejaVuSans-101\"/>\n      <path d=\"M 31 75.875 \nQ 24.46875 64.65625 21.28125 53.65625 \nQ 18.109375 42.671875 18.109375 31.390625 \nQ 18.109375 20.125 21.3125 9.0625 \nQ 24.515625 -2 31 -13.1875 \nL 23.1875 -13.1875 \nQ 15.875 -1.703125 12.234375 9.375 \nQ 8.59375 20.453125 8.59375 31.390625 \nQ 8.59375 42.28125 12.203125 53.3125 \nQ 15.828125 64.359375 23.1875 75.875 \nz\n\" id=\"DejaVuSans-40\"/>\n      <path d=\"M 44.28125 53.078125 \nL 44.28125 44.578125 \nQ 40.484375 46.53125 36.375 47.5 \nQ 32.28125 48.484375 27.875 48.484375 \nQ 21.1875 48.484375 17.84375 46.4375 \nQ 14.5 44.390625 14.5 40.28125 \nQ 14.5 37.15625 16.890625 35.375 \nQ 19.28125 33.59375 26.515625 31.984375 \nL 29.59375 31.296875 \nQ 39.15625 29.25 43.1875 25.515625 \nQ 47.21875 21.78125 47.21875 15.09375 \nQ 47.21875 7.46875 41.1875 3.015625 \nQ 35.15625 -1.421875 24.609375 -1.421875 \nQ 20.21875 -1.421875 15.453125 -0.5625 \nQ 10.6875 0.296875 5.421875 2 \nL 5.421875 11.28125 \nQ 10.40625 8.6875 15.234375 7.390625 \nQ 20.0625 6.109375 24.8125 6.109375 \nQ 31.15625 6.109375 34.5625 8.28125 \nQ 37.984375 10.453125 37.984375 14.40625 \nQ 37.984375 18.0625 35.515625 20.015625 \nQ 33.0625 21.96875 24.703125 23.78125 \nL 21.578125 24.515625 \nQ 13.234375 26.265625 9.515625 29.90625 \nQ 5.8125 33.546875 5.8125 39.890625 \nQ 5.8125 47.609375 11.28125 51.796875 \nQ 16.75 56 26.8125 56 \nQ 31.78125 56 36.171875 55.265625 \nQ 40.578125 54.546875 44.28125 53.078125 \nz\n\" id=\"DejaVuSans-115\"/>\n      <path d=\"M 8.015625 75.875 \nL 15.828125 75.875 \nQ 23.140625 64.359375 26.78125 53.3125 \nQ 30.421875 42.28125 30.421875 31.390625 \nQ 30.421875 20.453125 26.78125 9.375 \nQ 23.140625 -1.703125 15.828125 -13.1875 \nL 8.015625 -13.1875 \nQ 14.5 -2 17.703125 9.0625 \nQ 20.90625 20.125 20.90625 31.390625 \nQ 20.90625 42.671875 17.703125 53.65625 \nQ 14.5 64.65625 8.015625 75.875 \nz\n\" id=\"DejaVuSans-41\"/>\n     </defs>\n     <g transform=\"translate(169.985156 268.034687)scale(0.1 -0.1)\">\n      <use xlink:href=\"#DejaVuSans-87\"/>\n      <use x=\"92.501953\" xlink:href=\"#DejaVuSans-97\"/>\n      <use x=\"153.78125\" xlink:href=\"#DejaVuSans-108\"/>\n      <use x=\"181.564453\" xlink:href=\"#DejaVuSans-108\"/>\n      <use x=\"209.347656\" xlink:href=\"#DejaVuSans-32\"/>\n      <use x=\"241.134766\" xlink:href=\"#DejaVuSans-67\"/>\n      <use x=\"310.958984\" xlink:href=\"#DejaVuSans-108\"/>\n      <use x=\"338.742188\" xlink:href=\"#DejaVuSans-111\"/>\n      <use x=\"399.923828\" xlink:href=\"#DejaVuSans-99\"/>\n      <use x=\"454.904297\" xlink:href=\"#DejaVuSans-107\"/>\n      <use x=\"512.814453\" xlink:href=\"#DejaVuSans-32\"/>\n      <use x=\"544.601562\" xlink:href=\"#DejaVuSans-84\"/>\n      <use x=\"602.560547\" xlink:href=\"#DejaVuSans-105\"/>\n      <use x=\"630.34375\" xlink:href=\"#DejaVuSans-109\"/>\n      <use x=\"727.755859\" xlink:href=\"#DejaVuSans-101\"/>\n      <use x=\"789.279297\" xlink:href=\"#DejaVuSans-32\"/>\n      <use x=\"821.066406\" xlink:href=\"#DejaVuSans-40\"/>\n      <use x=\"860.080078\" xlink:href=\"#DejaVuSans-115\"/>\n      <use x=\"912.179688\" xlink:href=\"#DejaVuSans-41\"/>\n     </g>\n    </g>\n   </g>\n   <g id=\"matplotlib.axis_2\">\n    <g id=\"ytick_1\">\n     <g id=\"line2d_6\">\n      <defs>\n       <path d=\"M 0 0 \nL -3.5 0 \n\" id=\"m88cc90be10\" style=\"stroke:#000000;stroke-width:0.8;\"/>\n      </defs>\n      <g>\n       <use style=\"stroke:#000000;stroke-width:0.8;\" x=\"50.14375\" xlink:href=\"#m88cc90be10\" y=\"238.952221\"/>\n      </g>\n     </g>\n     <g id=\"text_7\">\n      <!-- 0.62 -->\n      <defs>\n       <path d=\"M 10.6875 12.40625 \nL 21 12.40625 \nL 21 0 \nL 10.6875 0 \nz\n\" id=\"DejaVuSans-46\"/>\n       <path d=\"M 33.015625 40.375 \nQ 26.375 40.375 22.484375 35.828125 \nQ 18.609375 31.296875 18.609375 23.390625 \nQ 18.609375 15.53125 22.484375 10.953125 \nQ 26.375 6.390625 33.015625 6.390625 \nQ 39.65625 6.390625 43.53125 10.953125 \nQ 47.40625 15.53125 47.40625 23.390625 \nQ 47.40625 31.296875 43.53125 35.828125 \nQ 39.65625 40.375 33.015625 40.375 \nz\nM 52.59375 71.296875 \nL 52.59375 62.3125 \nQ 48.875 64.0625 45.09375 64.984375 \nQ 41.3125 65.921875 37.59375 65.921875 \nQ 27.828125 65.921875 22.671875 59.328125 \nQ 17.53125 52.734375 16.796875 39.40625 \nQ 19.671875 43.65625 24.015625 45.921875 \nQ 28.375 48.1875 33.59375 48.1875 \nQ 44.578125 48.1875 50.953125 41.515625 \nQ 57.328125 34.859375 57.328125 23.390625 \nQ 57.328125 12.15625 50.6875 5.359375 \nQ 44.046875 -1.421875 33.015625 -1.421875 \nQ 20.359375 -1.421875 13.671875 8.265625 \nQ 6.984375 17.96875 6.984375 36.375 \nQ 6.984375 53.65625 15.1875 63.9375 \nQ 23.390625 74.21875 37.203125 74.21875 \nQ 40.921875 74.21875 44.703125 73.484375 \nQ 48.484375 72.75 52.59375 71.296875 \nz\n\" id=\"DejaVuSans-54\"/>\n      </defs>\n      <g transform=\"translate(20.878125 242.75144)scale(0.1 -0.1)\">\n       <use xlink:href=\"#DejaVuSans-48\"/>\n       <use x=\"63.623047\" xlink:href=\"#DejaVuSans-46\"/>\n       <use x=\"95.410156\" xlink:href=\"#DejaVuSans-54\"/>\n       <use x=\"159.033203\" xlink:href=\"#DejaVuSans-50\"/>\n      </g>\n     </g>\n    </g>\n    <g id=\"ytick_2\">\n     <g id=\"line2d_7\">\n      <g>\n       <use style=\"stroke:#000000;stroke-width:0.8;\" x=\"50.14375\" xlink:href=\"#m88cc90be10\" y=\"199.999236\"/>\n      </g>\n     </g>\n     <g id=\"text_8\">\n      <!-- 0.63 -->\n      <g transform=\"translate(20.878125 203.798455)scale(0.1 -0.1)\">\n       <use xlink:href=\"#DejaVuSans-48\"/>\n       <use x=\"63.623047\" xlink:href=\"#DejaVuSans-46\"/>\n       <use x=\"95.410156\" xlink:href=\"#DejaVuSans-54\"/>\n       <use x=\"159.033203\" xlink:href=\"#DejaVuSans-51\"/>\n      </g>\n     </g>\n    </g>\n    <g id=\"ytick_3\">\n     <g id=\"line2d_8\">\n      <g>\n       <use style=\"stroke:#000000;stroke-width:0.8;\" x=\"50.14375\" xlink:href=\"#m88cc90be10\" y=\"161.046251\"/>\n      </g>\n     </g>\n     <g id=\"text_9\">\n      <!-- 0.64 -->\n      <g transform=\"translate(20.878125 164.84547)scale(0.1 -0.1)\">\n       <use xlink:href=\"#DejaVuSans-48\"/>\n       <use x=\"63.623047\" xlink:href=\"#DejaVuSans-46\"/>\n       <use x=\"95.410156\" xlink:href=\"#DejaVuSans-54\"/>\n       <use x=\"159.033203\" xlink:href=\"#DejaVuSans-52\"/>\n      </g>\n     </g>\n    </g>\n    <g id=\"ytick_4\">\n     <g id=\"line2d_9\">\n      <g>\n       <use style=\"stroke:#000000;stroke-width:0.8;\" x=\"50.14375\" xlink:href=\"#m88cc90be10\" y=\"122.093266\"/>\n      </g>\n     </g>\n     <g id=\"text_10\">\n      <!-- 0.65 -->\n      <defs>\n       <path d=\"M 10.796875 72.90625 \nL 49.515625 72.90625 \nL 49.515625 64.59375 \nL 19.828125 64.59375 \nL 19.828125 46.734375 \nQ 21.96875 47.46875 24.109375 47.828125 \nQ 26.265625 48.1875 28.421875 48.1875 \nQ 40.625 48.1875 47.75 41.5 \nQ 54.890625 34.8125 54.890625 23.390625 \nQ 54.890625 11.625 47.5625 5.09375 \nQ 40.234375 -1.421875 26.90625 -1.421875 \nQ 22.3125 -1.421875 17.546875 -0.640625 \nQ 12.796875 0.140625 7.71875 1.703125 \nL 7.71875 11.625 \nQ 12.109375 9.234375 16.796875 8.0625 \nQ 21.484375 6.890625 26.703125 6.890625 \nQ 35.15625 6.890625 40.078125 11.328125 \nQ 45.015625 15.765625 45.015625 23.390625 \nQ 45.015625 31 40.078125 35.4375 \nQ 35.15625 39.890625 26.703125 39.890625 \nQ 22.75 39.890625 18.8125 39.015625 \nQ 14.890625 38.140625 10.796875 36.28125 \nz\n\" id=\"DejaVuSans-53\"/>\n      </defs>\n      <g transform=\"translate(20.878125 125.892484)scale(0.1 -0.1)\">\n       <use xlink:href=\"#DejaVuSans-48\"/>\n       <use x=\"63.623047\" xlink:href=\"#DejaVuSans-46\"/>\n       <use x=\"95.410156\" xlink:href=\"#DejaVuSans-54\"/>\n       <use x=\"159.033203\" xlink:href=\"#DejaVuSans-53\"/>\n      </g>\n     </g>\n    </g>\n    <g id=\"ytick_5\">\n     <g id=\"line2d_10\">\n      <g>\n       <use style=\"stroke:#000000;stroke-width:0.8;\" x=\"50.14375\" xlink:href=\"#m88cc90be10\" y=\"83.14028\"/>\n      </g>\n     </g>\n     <g id=\"text_11\">\n      <!-- 0.66 -->\n      <g transform=\"translate(20.878125 86.939499)scale(0.1 -0.1)\">\n       <use xlink:href=\"#DejaVuSans-48\"/>\n       <use x=\"63.623047\" xlink:href=\"#DejaVuSans-46\"/>\n       <use x=\"95.410156\" xlink:href=\"#DejaVuSans-54\"/>\n       <use x=\"159.033203\" xlink:href=\"#DejaVuSans-54\"/>\n      </g>\n     </g>\n    </g>\n    <g id=\"ytick_6\">\n     <g id=\"line2d_11\">\n      <g>\n       <use style=\"stroke:#000000;stroke-width:0.8;\" x=\"50.14375\" xlink:href=\"#m88cc90be10\" y=\"44.187295\"/>\n      </g>\n     </g>\n     <g id=\"text_12\">\n      <!-- 0.67 -->\n      <defs>\n       <path d=\"M 8.203125 72.90625 \nL 55.078125 72.90625 \nL 55.078125 68.703125 \nL 28.609375 0 \nL 18.3125 0 \nL 43.21875 64.59375 \nL 8.203125 64.59375 \nz\n\" id=\"DejaVuSans-55\"/>\n      </defs>\n      <g transform=\"translate(20.878125 47.986514)scale(0.1 -0.1)\">\n       <use xlink:href=\"#DejaVuSans-48\"/>\n       <use x=\"63.623047\" xlink:href=\"#DejaVuSans-46\"/>\n       <use x=\"95.410156\" xlink:href=\"#DejaVuSans-54\"/>\n       <use x=\"159.033203\" xlink:href=\"#DejaVuSans-55\"/>\n      </g>\n     </g>\n    </g>\n    <g id=\"text_13\">\n     <!-- Validation Accuracy -->\n     <defs>\n      <path d=\"M 28.609375 0 \nL 0.78125 72.90625 \nL 11.078125 72.90625 \nL 34.1875 11.53125 \nL 57.328125 72.90625 \nL 67.578125 72.90625 \nL 39.796875 0 \nz\n\" id=\"DejaVuSans-86\"/>\n      <path d=\"M 45.40625 46.390625 \nL 45.40625 75.984375 \nL 54.390625 75.984375 \nL 54.390625 0 \nL 45.40625 0 \nL 45.40625 8.203125 \nQ 42.578125 3.328125 38.25 0.953125 \nQ 33.9375 -1.421875 27.875 -1.421875 \nQ 17.96875 -1.421875 11.734375 6.484375 \nQ 5.515625 14.40625 5.515625 27.296875 \nQ 5.515625 40.1875 11.734375 48.09375 \nQ 17.96875 56 27.875 56 \nQ 33.9375 56 38.25 53.625 \nQ 42.578125 51.265625 45.40625 46.390625 \nz\nM 14.796875 27.296875 \nQ 14.796875 17.390625 18.875 11.75 \nQ 22.953125 6.109375 30.078125 6.109375 \nQ 37.203125 6.109375 41.296875 11.75 \nQ 45.40625 17.390625 45.40625 27.296875 \nQ 45.40625 37.203125 41.296875 42.84375 \nQ 37.203125 48.484375 30.078125 48.484375 \nQ 22.953125 48.484375 18.875 42.84375 \nQ 14.796875 37.203125 14.796875 27.296875 \nz\n\" id=\"DejaVuSans-100\"/>\n      <path d=\"M 18.3125 70.21875 \nL 18.3125 54.6875 \nL 36.8125 54.6875 \nL 36.8125 47.703125 \nL 18.3125 47.703125 \nL 18.3125 18.015625 \nQ 18.3125 11.328125 20.140625 9.421875 \nQ 21.96875 7.515625 27.59375 7.515625 \nL 36.8125 7.515625 \nL 36.8125 0 \nL 27.59375 0 \nQ 17.1875 0 13.234375 3.875 \nQ 9.28125 7.765625 9.28125 18.015625 \nL 9.28125 47.703125 \nL 2.6875 47.703125 \nL 2.6875 54.6875 \nL 9.28125 54.6875 \nL 9.28125 70.21875 \nz\n\" id=\"DejaVuSans-116\"/>\n      <path d=\"M 54.890625 33.015625 \nL 54.890625 0 \nL 45.90625 0 \nL 45.90625 32.71875 \nQ 45.90625 40.484375 42.875 44.328125 \nQ 39.84375 48.1875 33.796875 48.1875 \nQ 26.515625 48.1875 22.3125 43.546875 \nQ 18.109375 38.921875 18.109375 30.90625 \nL 18.109375 0 \nL 9.078125 0 \nL 9.078125 54.6875 \nL 18.109375 54.6875 \nL 18.109375 46.1875 \nQ 21.34375 51.125 25.703125 53.5625 \nQ 30.078125 56 35.796875 56 \nQ 45.21875 56 50.046875 50.171875 \nQ 54.890625 44.34375 54.890625 33.015625 \nz\n\" id=\"DejaVuSans-110\"/>\n      <path d=\"M 34.1875 63.1875 \nL 20.796875 26.90625 \nL 47.609375 26.90625 \nz\nM 28.609375 72.90625 \nL 39.796875 72.90625 \nL 67.578125 0 \nL 57.328125 0 \nL 50.6875 18.703125 \nL 17.828125 18.703125 \nL 11.1875 0 \nL 0.78125 0 \nz\n\" id=\"DejaVuSans-65\"/>\n      <path d=\"M 8.5 21.578125 \nL 8.5 54.6875 \nL 17.484375 54.6875 \nL 17.484375 21.921875 \nQ 17.484375 14.15625 20.5 10.265625 \nQ 23.53125 6.390625 29.59375 6.390625 \nQ 36.859375 6.390625 41.078125 11.03125 \nQ 45.3125 15.671875 45.3125 23.6875 \nL 45.3125 54.6875 \nL 54.296875 54.6875 \nL 54.296875 0 \nL 45.3125 0 \nL 45.3125 8.40625 \nQ 42.046875 3.421875 37.71875 1 \nQ 33.40625 -1.421875 27.6875 -1.421875 \nQ 18.265625 -1.421875 13.375 4.4375 \nQ 8.5 10.296875 8.5 21.578125 \nz\nM 31.109375 56 \nz\n\" id=\"DejaVuSans-117\"/>\n      <path d=\"M 41.109375 46.296875 \nQ 39.59375 47.171875 37.8125 47.578125 \nQ 36.03125 48 33.890625 48 \nQ 26.265625 48 22.1875 43.046875 \nQ 18.109375 38.09375 18.109375 28.8125 \nL 18.109375 0 \nL 9.078125 0 \nL 9.078125 54.6875 \nL 18.109375 54.6875 \nL 18.109375 46.1875 \nQ 20.953125 51.171875 25.484375 53.578125 \nQ 30.03125 56 36.53125 56 \nQ 37.453125 56 38.578125 55.875 \nQ 39.703125 55.765625 41.0625 55.515625 \nz\n\" id=\"DejaVuSans-114\"/>\n      <path d=\"M 32.171875 -5.078125 \nQ 28.375 -14.84375 24.75 -17.8125 \nQ 21.140625 -20.796875 15.09375 -20.796875 \nL 7.90625 -20.796875 \nL 7.90625 -13.28125 \nL 13.1875 -13.28125 \nQ 16.890625 -13.28125 18.9375 -11.515625 \nQ 21 -9.765625 23.484375 -3.21875 \nL 25.09375 0.875 \nL 2.984375 54.6875 \nL 12.5 54.6875 \nL 29.59375 11.921875 \nL 46.6875 54.6875 \nL 56.203125 54.6875 \nz\n\" id=\"DejaVuSans-121\"/>\n     </defs>\n     <g transform=\"translate(14.798438 180.145937)rotate(-90)scale(0.1 -0.1)\">\n      <use xlink:href=\"#DejaVuSans-86\"/>\n      <use x=\"60.658203\" xlink:href=\"#DejaVuSans-97\"/>\n      <use x=\"121.9375\" xlink:href=\"#DejaVuSans-108\"/>\n      <use x=\"149.720703\" xlink:href=\"#DejaVuSans-105\"/>\n      <use x=\"177.503906\" xlink:href=\"#DejaVuSans-100\"/>\n      <use x=\"240.980469\" xlink:href=\"#DejaVuSans-97\"/>\n      <use x=\"302.259766\" xlink:href=\"#DejaVuSans-116\"/>\n      <use x=\"341.46875\" xlink:href=\"#DejaVuSans-105\"/>\n      <use x=\"369.251953\" xlink:href=\"#DejaVuSans-111\"/>\n      <use x=\"430.433594\" xlink:href=\"#DejaVuSans-110\"/>\n      <use x=\"493.8125\" xlink:href=\"#DejaVuSans-32\"/>\n      <use x=\"525.599609\" xlink:href=\"#DejaVuSans-65\"/>\n      <use x=\"592.257812\" xlink:href=\"#DejaVuSans-99\"/>\n      <use x=\"647.238281\" xlink:href=\"#DejaVuSans-99\"/>\n      <use x=\"702.21875\" xlink:href=\"#DejaVuSans-117\"/>\n      <use x=\"765.597656\" xlink:href=\"#DejaVuSans-114\"/>\n      <use x=\"806.710938\" xlink:href=\"#DejaVuSans-97\"/>\n      <use x=\"867.990234\" xlink:href=\"#DejaVuSans-99\"/>\n      <use x=\"922.970703\" xlink:href=\"#DejaVuSans-121\"/>\n     </g>\n    </g>\n   </g>\n   <g id=\"line2d_12\">\n    <path clip-path=\"url(#p35121ce149)\" d=\"M 65.361932 229.874489 \nL 71.171378 187.894309 \nL 72.988429 185.102049 \nL 74.515975 174.992144 \nL 75.992825 169.311339 \nL 96.498499 168.252206 \nL 131.616648 146.684408 \nL 140.459101 138.596483 \nL 165.7629 74.181941 \nL 318.884725 68.597422 \nL 369.725568 32.201761 \n\" style=\"fill:none;stroke:#1f77b4;stroke-linecap:square;stroke-width:1.5;\"/>\n   </g>\n   <g id=\"patch_3\">\n    <path d=\"M 50.14375 239.758125 \nL 50.14375 22.318125 \n\" style=\"fill:none;stroke:#000000;stroke-linecap:square;stroke-linejoin:miter;stroke-width:0.8;\"/>\n   </g>\n   <g id=\"patch_4\">\n    <path d=\"M 384.94375 239.758125 \nL 384.94375 22.318125 \n\" style=\"fill:none;stroke:#000000;stroke-linecap:square;stroke-linejoin:miter;stroke-width:0.8;\"/>\n   </g>\n   <g id=\"patch_5\">\n    <path d=\"M 50.14375 239.758125 \nL 384.94375 239.758125 \n\" style=\"fill:none;stroke:#000000;stroke-linecap:square;stroke-linejoin:miter;stroke-width:0.8;\"/>\n   </g>\n   <g id=\"patch_6\">\n    <path d=\"M 50.14375 22.318125 \nL 384.94375 22.318125 \n\" style=\"fill:none;stroke:#000000;stroke-linecap:square;stroke-linejoin:miter;stroke-width:0.8;\"/>\n   </g>\n   <g id=\"text_14\">\n    <!-- Learning Curve -->\n    <defs>\n     <path d=\"M 9.8125 72.90625 \nL 19.671875 72.90625 \nL 19.671875 8.296875 \nL 55.171875 8.296875 \nL 55.171875 0 \nL 9.8125 0 \nz\n\" id=\"DejaVuSans-76\"/>\n     <path d=\"M 45.40625 27.984375 \nQ 45.40625 37.75 41.375 43.109375 \nQ 37.359375 48.484375 30.078125 48.484375 \nQ 22.859375 48.484375 18.828125 43.109375 \nQ 14.796875 37.75 14.796875 27.984375 \nQ 14.796875 18.265625 18.828125 12.890625 \nQ 22.859375 7.515625 30.078125 7.515625 \nQ 37.359375 7.515625 41.375 12.890625 \nQ 45.40625 18.265625 45.40625 27.984375 \nz\nM 54.390625 6.78125 \nQ 54.390625 -7.171875 48.1875 -13.984375 \nQ 42 -20.796875 29.203125 -20.796875 \nQ 24.46875 -20.796875 20.265625 -20.09375 \nQ 16.0625 -19.390625 12.109375 -17.921875 \nL 12.109375 -9.1875 \nQ 16.0625 -11.328125 19.921875 -12.34375 \nQ 23.78125 -13.375 27.78125 -13.375 \nQ 36.625 -13.375 41.015625 -8.765625 \nQ 45.40625 -4.15625 45.40625 5.171875 \nL 45.40625 9.625 \nQ 42.625 4.78125 38.28125 2.390625 \nQ 33.9375 0 27.875 0 \nQ 17.828125 0 11.671875 7.65625 \nQ 5.515625 15.328125 5.515625 27.984375 \nQ 5.515625 40.671875 11.671875 48.328125 \nQ 17.828125 56 27.875 56 \nQ 33.9375 56 38.28125 53.609375 \nQ 42.625 51.21875 45.40625 46.390625 \nL 45.40625 54.6875 \nL 54.390625 54.6875 \nz\n\" id=\"DejaVuSans-103\"/>\n     <path d=\"M 2.984375 54.6875 \nL 12.5 54.6875 \nL 29.59375 8.796875 \nL 46.6875 54.6875 \nL 56.203125 54.6875 \nL 35.6875 0 \nL 23.484375 0 \nz\n\" id=\"DejaVuSans-118\"/>\n    </defs>\n    <g transform=\"translate(171.885625 16.318125)scale(0.12 -0.12)\">\n     <use xlink:href=\"#DejaVuSans-76\"/>\n     <use x=\"53.962891\" xlink:href=\"#DejaVuSans-101\"/>\n     <use x=\"115.486328\" xlink:href=\"#DejaVuSans-97\"/>\n     <use x=\"176.765625\" xlink:href=\"#DejaVuSans-114\"/>\n     <use x=\"216.128906\" xlink:href=\"#DejaVuSans-110\"/>\n     <use x=\"279.507812\" xlink:href=\"#DejaVuSans-105\"/>\n     <use x=\"307.291016\" xlink:href=\"#DejaVuSans-110\"/>\n     <use x=\"370.669922\" xlink:href=\"#DejaVuSans-103\"/>\n     <use x=\"434.146484\" xlink:href=\"#DejaVuSans-32\"/>\n     <use x=\"465.933594\" xlink:href=\"#DejaVuSans-67\"/>\n     <use x=\"535.757812\" xlink:href=\"#DejaVuSans-117\"/>\n     <use x=\"599.136719\" xlink:href=\"#DejaVuSans-114\"/>\n     <use x=\"640.25\" xlink:href=\"#DejaVuSans-118\"/>\n     <use x=\"699.429688\" xlink:href=\"#DejaVuSans-101\"/>\n    </g>\n   </g>\n  </g>\n </g>\n <defs>\n  <clipPath id=\"p35121ce149\">\n   <rect height=\"217.44\" width=\"334.8\" x=\"50.14375\" y=\"22.318125\"/>\n  </clipPath>\n </defs>\n</svg>\n",
      "image/png": "[encoded data removed]"
     },
     "metadata": {
      "needs_background": "light"
     }
    }
   ],
   "source": [
    "import matplotlib.pyplot as plt\n",
    "import numpy as np\n",
    "\n",
    "plt.title('Learning Curve')\n",
    "plt.xlabel('Wall Clock Time (s)')\n",
    "plt.ylabel('Validation Accuracy')\n",
    "plt.scatter(time_history, 1-np.array(valid_loss_history))\n",
    "plt.plot(time_history, 1-np.array(best_valid_loss_history))\n",
    "plt.show()"
   ]
  },
  {
   "cell_type": "markdown",
   "metadata": {
    "slideshow": {
     "slide_type": "slide"
    }
   },
   "source": [
    "## 3. Customized Learner"
   ]
  },
  {
   "cell_type": "markdown",
   "metadata": {
    "slideshow": {
     "slide_type": "slide"
    }
   },
   "source": [
    "Some experienced automl users may have a preferred model to tune or may already have a reasonably by-hand-tuned model before launching the automl experiment. They need to select optimal configurations for the customized model mixed with standard built-in learners. \n",
    "\n",
    "FLAML can easily incorporate customized/new learners (preferably with sklearn API) provided by users in a real-time manner, as demonstrated below."
   ]
  },
  {
   "cell_type": "markdown",
   "metadata": {
    "slideshow": {
     "slide_type": "slide"
    }
   },
   "source": [
    "### Example of Regularized Greedy Forest\n",
    "\n",
    "[Regularized Greedy Forest](https://arxiv.org/abs/1109.0887) (RGF) is a machine learning method currently not included in FLAML. The RGF has many tuning parameters, the most critical of which are: `[max_leaf, n_iter, n_tree_search, opt_interval, min_samples_leaf]`. To run a customized/new learner, the user needs to provide the following information:\n",
    "* an implementation of the customized/new learner\n",
    "* a list of hyperparameter names and types\n",
    "* rough ranges of hyperparameters (i.e., upper/lower bounds)\n",
    "* choose initial value corresponding to low cost for cost-related hyperparameters (e.g., initial value for max_leaf and n_iter should be small)\n",
    "\n",
    "In this example, the above information for RGF is wrapped in a python class called *MyRegularizedGreedyForest* that exposes the hyperparameters."
   ]
  },
  {
   "cell_type": "code",
   "execution_count": 13,
   "metadata": {
    "slideshow": {
     "slide_type": "slide"
    }
   },
   "outputs": [],
   "source": [
    "''' SKLearnEstimator is the super class for a sklearn learner '''\n",
    "from flaml.model import SKLearnEstimator\n",
    "from flaml import tune\n",
    "from rgf.sklearn import RGFClassifier, RGFRegressor\n",
    "\n",
    "\n",
    "class MyRegularizedGreedyForest(SKLearnEstimator):\n",
    "\n",
    "\n",
    "    def __init__(self, task = 'binary:logistic', n_jobs = 1, **params):\n",
    "        '''Constructor\n",
    "        \n",
    "        Args:\n",
    "            task: A string of the task type, one of\n",
    "                'binary:logistic', 'multi:softmax', 'regression'\n",
    "            n_jobs: An integer of the number of parallel threads\n",
    "            params: A dictionary of the hyperparameter names and values\n",
    "        '''\n",
    "\n",
    "        super().__init__(task, **params)\n",
    "\n",
    "        '''task=regression for RGFRegressor; \n",
    "        binary:logistic and multiclass:softmax for RGFClassifier'''\n",
    "        if 'regression' in task:\n",
    "            self.estimator_class = RGFRegressor\n",
    "        else:\n",
    "            self.estimator_class = RGFClassifier\n",
    "\n",
    "        # convert to int for integer hyperparameters\n",
    "        self.params = {\n",
    "            \"n_jobs\": n_jobs,\n",
    "            'max_leaf': int(params['max_leaf']),\n",
    "            'n_iter': int(params['n_iter']),\n",
    "            'n_tree_search': int(params['n_tree_search']),\n",
    "            'opt_interval': int(params['opt_interval']),\n",
    "            'learning_rate': params['learning_rate'],\n",
    "            'min_samples_leaf':int(params['min_samples_leaf'])\n",
    "        }    \n",
    "\n",
    "    @classmethod\n",
    "    def search_space(cls, data_size, task):\n",
    "        '''[required method] search space\n",
    "\n",
    "        Returns:\n",
    "            A dictionary of the search space. \n",
    "            Each key is the name of a hyperparameter, and value is a dict with\n",
    "                its domain and init_value (optional), cat_hp_cost (optional) \n",
    "                e.g., \n",
    "                {'domain': tune.randint(lower=1, upper=10), 'init_value': 1}\n",
    "        '''\n",
    "        space = {        \n",
    "        'max_leaf': {'domain': tune.qloguniform(lower = 4, upper = data_size, q = 1), 'init_value': 4},\n",
    "        'n_iter': {'domain': tune.qloguniform(lower = 1, upper = data_size, q = 1), 'init_value': 1},\n",
    "        'n_tree_search': {'domain': tune.qloguniform(lower = 1, upper = 32768, q = 1), 'init_value': 1},\n",
    "        'opt_interval': {'domain': tune.qloguniform(lower = 1, upper = 10000, q = 1), 'init_value': 100},\n",
    "        'learning_rate': {'domain': tune.loguniform(lower = 0.01, upper = 20.0)},\n",
    "        'min_samples_leaf': {'domain': tune.qloguniform(lower = 1, upper = 20, q = 1), 'init_value': 20},\n",
    "        }\n",
    "        return space\n",
    "\n",
    "    @classmethod\n",
    "    def size(cls, config):\n",
    "        '''[optional method] memory size of the estimator in bytes\n",
    "        \n",
    "        Args:\n",
    "            config - the dict of the hyperparameter config\n",
    "\n",
    "        Returns:\n",
    "            A float of the memory size required by the estimator to train the\n",
    "            given config\n",
    "        '''\n",
    "        max_leaves = int(round(config['max_leaf']))\n",
    "        n_estimators = int(round(config['n_iter']))\n",
    "        return (max_leaves*3 + (max_leaves-1)*4 + 1.0)*n_estimators*8\n",
    "\n",
    "    @classmethod\n",
    "    def cost_relative2lgbm(cls):\n",
    "        '''[optional method] relative cost compared to lightgbm\n",
    "        '''\n",
    "        return 1.0\n"
   ]
  },
  {
   "cell_type": "markdown",
   "metadata": {
    "slideshow": {
     "slide_type": "slide"
    }
   },
   "source": [
    "### Add Customized Learner and Run FLAML AutoML\n",
    "\n",
    "After adding RGF into the list of learners, we run automl by tuning hyperpameters of RGF as well as the default learners. "
   ]
  },
  {
   "cell_type": "code",
   "execution_count": 14,
   "metadata": {
    "slideshow": {
     "slide_type": "slide"
    }
   },
   "outputs": [],
   "source": [
    "automl = AutoML()\n",
    "automl.add_learner(learner_name = 'RGF', learner_class = MyRegularizedGreedyForest)"
   ]
  },
  {
   "cell_type": "code",
   "execution_count": 15,
   "metadata": {
    "slideshow": {
     "slide_type": "slide"
    },
    "tags": []
   },
   "outputs": [
    {
     "output_type": "stream",
     "name": "stderr",
     "text": [
      "[flaml.automl: 02-13 10:02:42] {839} INFO - Evaluation method: holdout\n",
      "[flaml.automl: 02-13 10:02:42] {564} INFO - Using StratifiedKFold\n",
      "[flaml.automl: 02-13 10:02:42] {860} INFO - Minimizing error metric: 1-accuracy\n",
      "[flaml.automl: 02-13 10:02:42] {879} INFO - List of ML learners in AutoML Run: ['RGF', 'lgbm', 'rf', 'xgboost']\n",
      "[flaml.automl: 02-13 10:02:42] {939} INFO - iteration 0  current learner RGF\n",
      "[flaml.automl: 02-13 10:02:45] {1087} INFO -  at 2.7s,\tbest RGF's error=0.3787,\tbest RGF's error=0.3787\n",
      "[flaml.automl: 02-13 10:02:45] {939} INFO - iteration 1  current learner RGF\n",
      "[flaml.automl: 02-13 10:02:46] {1087} INFO -  at 4.5s,\tbest RGF's error=0.3787,\tbest RGF's error=0.3787\n",
      "[flaml.automl: 02-13 10:02:46] {939} INFO - iteration 2  current learner RGF\n",
      "[flaml.automl: 02-13 10:02:48] {1087} INFO -  at 6.1s,\tbest RGF's error=0.3787,\tbest RGF's error=0.3787\n",
      "[flaml.automl: 02-13 10:02:48] {939} INFO - iteration 3  current learner lgbm\n",
      "[flaml.automl: 02-13 10:02:48] {1087} INFO -  at 6.1s,\tbest lgbm's error=0.3777,\tbest lgbm's error=0.3777\n",
      "[flaml.automl: 02-13 10:02:48] {939} INFO - iteration 4  current learner RGF\n",
      "[flaml.automl: 02-13 10:02:50] {1087} INFO -  at 7.8s,\tbest RGF's error=0.3709,\tbest RGF's error=0.3709\n",
      "[flaml.automl: 02-13 10:02:50] {939} INFO - iteration 5  current learner lgbm\n",
      "[flaml.automl: 02-13 10:02:50] {1087} INFO -  at 8.1s,\tbest lgbm's error=0.3777,\tbest RGF's error=0.3709\n",
      "[flaml.automl: 02-13 10:02:50] {939} INFO - iteration 6  current learner lgbm\n",
      "[flaml.automl: 02-13 10:02:50] {1087} INFO -  at 8.2s,\tbest lgbm's error=0.3669,\tbest lgbm's error=0.3669\n",
      "[flaml.automl: 02-13 10:02:50] {939} INFO - iteration 7  current learner lgbm\n",
      "[flaml.automl: 02-13 10:02:50] {1087} INFO -  at 8.5s,\tbest lgbm's error=0.3669,\tbest lgbm's error=0.3669\n",
      "[flaml.automl: 02-13 10:02:50] {939} INFO - iteration 8  current learner lgbm\n",
      "[flaml.automl: 02-13 10:02:50] {1087} INFO -  at 8.6s,\tbest lgbm's error=0.3662,\tbest lgbm's error=0.3662\n",
      "[flaml.automl: 02-13 10:02:50] {939} INFO - iteration 9  current learner lgbm\n",
      "[flaml.automl: 02-13 10:02:51] {1087} INFO -  at 8.9s,\tbest lgbm's error=0.3636,\tbest lgbm's error=0.3636\n",
      "[flaml.automl: 02-13 10:02:51] {939} INFO - iteration 10  current learner lgbm\n",
      "[flaml.automl: 02-13 10:02:51] {1087} INFO -  at 9.2s,\tbest lgbm's error=0.3621,\tbest lgbm's error=0.3621\n",
      "[flaml.automl: 02-13 10:02:51] {939} INFO - iteration 11  current learner lgbm\n",
      "[flaml.automl: 02-13 10:02:51] {1087} INFO -  at 9.5s,\tbest lgbm's error=0.3621,\tbest lgbm's error=0.3621\n",
      "[flaml.automl: 02-13 10:02:51] {939} INFO - iteration 12  current learner lgbm\n",
      "[flaml.automl: 02-13 10:02:51] {1087} INFO -  at 9.6s,\tbest lgbm's error=0.3621,\tbest lgbm's error=0.3621\n",
      "[flaml.automl: 02-13 10:02:51] {939} INFO - iteration 13  current learner lgbm\n",
      "[flaml.automl: 02-13 10:02:51] {1087} INFO -  at 9.8s,\tbest lgbm's error=0.3621,\tbest lgbm's error=0.3621\n",
      "[flaml.automl: 02-13 10:02:51] {939} INFO - iteration 14  current learner lgbm\n",
      "[flaml.automl: 02-13 10:02:52] {1087} INFO -  at 9.9s,\tbest lgbm's error=0.3621,\tbest lgbm's error=0.3621\n",
      "[flaml.automl: 02-13 10:02:52] {939} INFO - iteration 15  current learner lgbm\n",
      "[flaml.automl: 02-13 10:02:52] {1087} INFO -  at 10.2s,\tbest lgbm's error=0.3621,\tbest lgbm's error=0.3621\n",
      "[flaml.automl: 02-13 10:02:52] {939} INFO - iteration 16  current learner RGF\n",
      "[flaml.automl: 02-13 10:02:54] {1087} INFO -  at 12.0s,\tbest RGF's error=0.3709,\tbest lgbm's error=0.3621\n",
      "[flaml.automl: 02-13 10:02:54] {939} INFO - iteration 17  current learner lgbm\n",
      "[flaml.automl: 02-13 10:02:55] {1087} INFO -  at 13.7s,\tbest lgbm's error=0.3621,\tbest lgbm's error=0.3621\n",
      "[flaml.automl: 02-13 10:02:55] {939} INFO - iteration 18  current learner lgbm\n",
      "[flaml.automl: 02-13 10:02:57] {1087} INFO -  at 15.0s,\tbest lgbm's error=0.3611,\tbest lgbm's error=0.3611\n",
      "[flaml.automl: 02-13 10:02:57] {939} INFO - iteration 19  current learner lgbm\n",
      "[flaml.automl: 02-13 10:02:58] {1087} INFO -  at 16.3s,\tbest lgbm's error=0.3585,\tbest lgbm's error=0.3585\n",
      "[flaml.automl: 02-13 10:02:58] {939} INFO - iteration 20  current learner lgbm\n",
      "[flaml.automl: 02-13 10:03:00] {1087} INFO -  at 17.9s,\tbest lgbm's error=0.3585,\tbest lgbm's error=0.3585\n",
      "[flaml.automl: 02-13 10:03:00] {939} INFO - iteration 21  current learner lgbm\n",
      "[flaml.automl: 02-13 10:03:02] {1087} INFO -  at 20.1s,\tbest lgbm's error=0.3531,\tbest lgbm's error=0.3531\n",
      "[flaml.automl: 02-13 10:03:02] {939} INFO - iteration 22  current learner lgbm\n",
      "[flaml.automl: 02-13 10:03:03] {1087} INFO -  at 21.5s,\tbest lgbm's error=0.3522,\tbest lgbm's error=0.3522\n",
      "[flaml.automl: 02-13 10:03:03] {939} INFO - iteration 23  current learner lgbm\n",
      "[flaml.automl: 02-13 10:03:07] {1087} INFO -  at 25.4s,\tbest lgbm's error=0.3359,\tbest lgbm's error=0.3359\n",
      "[flaml.automl: 02-13 10:03:07] {939} INFO - iteration 24  current learner lgbm\n",
      "[flaml.automl: 02-13 10:03:11] {1087} INFO -  at 29.7s,\tbest lgbm's error=0.3359,\tbest lgbm's error=0.3359\n",
      "[flaml.automl: 02-13 10:03:11] {939} INFO - iteration 25  current learner xgboost\n",
      "[flaml.automl: 02-13 10:03:11] {1087} INFO -  at 29.7s,\tbest xgboost's error=0.3787,\tbest lgbm's error=0.3359\n",
      "[flaml.automl: 02-13 10:03:11] {939} INFO - iteration 26  current learner xgboost\n",
      "[flaml.automl: 02-13 10:03:11] {1087} INFO -  at 29.8s,\tbest xgboost's error=0.3787,\tbest lgbm's error=0.3359\n",
      "[flaml.automl: 02-13 10:03:11] {939} INFO - iteration 27  current learner xgboost\n",
      "[flaml.automl: 02-13 10:03:12] {1087} INFO -  at 29.8s,\tbest xgboost's error=0.3746,\tbest lgbm's error=0.3359\n",
      "[flaml.automl: 02-13 10:03:12] {939} INFO - iteration 28  current learner xgboost\n",
      "[flaml.automl: 02-13 10:03:12] {1087} INFO -  at 29.9s,\tbest xgboost's error=0.3746,\tbest lgbm's error=0.3359\n",
      "[flaml.automl: 02-13 10:03:12] {939} INFO - iteration 29  current learner lgbm\n",
      "[flaml.automl: 02-13 10:03:16] {1087} INFO -  at 34.8s,\tbest lgbm's error=0.3359,\tbest lgbm's error=0.3359\n",
      "[flaml.automl: 02-13 10:03:16] {939} INFO - iteration 30  current learner lgbm\n",
      "[flaml.automl: 02-13 10:03:18] {1087} INFO -  at 36.4s,\tbest lgbm's error=0.3359,\tbest lgbm's error=0.3359\n",
      "[flaml.automl: 02-13 10:03:18] {939} INFO - iteration 31  current learner lgbm\n",
      "[flaml.automl: 02-13 10:03:22] {1087} INFO -  at 40.2s,\tbest lgbm's error=0.3359,\tbest lgbm's error=0.3359\n",
      "[flaml.automl: 02-13 10:03:22] {939} INFO - iteration 32  current learner xgboost\n",
      "[flaml.automl: 02-13 10:03:22] {1087} INFO -  at 40.4s,\tbest xgboost's error=0.3649,\tbest lgbm's error=0.3359\n",
      "[flaml.automl: 02-13 10:03:22] {939} INFO - iteration 33  current learner xgboost\n",
      "[flaml.automl: 02-13 10:03:22] {1087} INFO -  at 40.5s,\tbest xgboost's error=0.3649,\tbest lgbm's error=0.3359\n",
      "[flaml.automl: 02-13 10:03:22] {939} INFO - iteration 34  current learner xgboost\n",
      "[flaml.automl: 02-13 10:03:22] {1087} INFO -  at 40.5s,\tbest xgboost's error=0.3649,\tbest lgbm's error=0.3359\n",
      "[flaml.automl: 02-13 10:03:22] {939} INFO - iteration 35  current learner xgboost\n",
      "[flaml.automl: 02-13 10:03:22] {1087} INFO -  at 40.6s,\tbest xgboost's error=0.3649,\tbest lgbm's error=0.3359\n",
      "[flaml.automl: 02-13 10:03:22] {939} INFO - iteration 36  current learner xgboost\n",
      "[flaml.automl: 02-13 10:03:23] {1087} INFO -  at 40.8s,\tbest xgboost's error=0.3571,\tbest lgbm's error=0.3359\n",
      "[flaml.automl: 02-13 10:03:23] {939} INFO - iteration 37  current learner xgboost\n",
      "[flaml.automl: 02-13 10:03:23] {1087} INFO -  at 40.9s,\tbest xgboost's error=0.3571,\tbest lgbm's error=0.3359\n",
      "[flaml.automl: 02-13 10:03:23] {939} INFO - iteration 38  current learner xgboost\n",
      "[flaml.automl: 02-13 10:03:23] {1087} INFO -  at 41.1s,\tbest xgboost's error=0.3571,\tbest lgbm's error=0.3359\n",
      "[flaml.automl: 02-13 10:03:23] {939} INFO - iteration 39  current learner xgboost\n",
      "[flaml.automl: 02-13 10:03:23] {1087} INFO -  at 41.4s,\tbest xgboost's error=0.3571,\tbest lgbm's error=0.3359\n",
      "[flaml.automl: 02-13 10:03:23] {939} INFO - iteration 40  current learner rf\n",
      "[flaml.automl: 02-13 10:03:23] {1087} INFO -  at 41.6s,\tbest rf's error=0.4002,\tbest lgbm's error=0.3359\n",
      "[flaml.automl: 02-13 10:03:23] {939} INFO - iteration 41  current learner rf\n",
      "[flaml.automl: 02-13 10:03:23] {1087} INFO -  at 41.7s,\tbest rf's error=0.4002,\tbest lgbm's error=0.3359\n",
      "[flaml.automl: 02-13 10:03:23] {939} INFO - iteration 42  current learner rf\n",
      "[flaml.automl: 02-13 10:03:24] {1087} INFO -  at 42.0s,\tbest rf's error=0.3977,\tbest lgbm's error=0.3359\n",
      "[flaml.automl: 02-13 10:03:24] {939} INFO - iteration 43  current learner xgboost\n",
      "[flaml.automl: 02-13 10:03:24] {1087} INFO -  at 42.1s,\tbest xgboost's error=0.3571,\tbest lgbm's error=0.3359\n",
      "[flaml.automl: 02-13 10:03:24] {939} INFO - iteration 44  current learner xgboost\n",
      "[flaml.automl: 02-13 10:03:24] {1087} INFO -  at 42.6s,\tbest xgboost's error=0.3559,\tbest lgbm's error=0.3359\n",
      "[flaml.automl: 02-13 10:03:24] {939} INFO - iteration 45  current learner rf\n",
      "[flaml.automl: 02-13 10:03:25] {1087} INFO -  at 42.8s,\tbest rf's error=0.3977,\tbest lgbm's error=0.3359\n",
      "[flaml.automl: 02-13 10:03:25] {939} INFO - iteration 46  current learner lgbm\n",
      "[flaml.automl: 02-13 10:03:26] {1087} INFO -  at 44.6s,\tbest lgbm's error=0.3359,\tbest lgbm's error=0.3359\n",
      "[flaml.automl: 02-13 10:03:26] {939} INFO - iteration 47  current learner rf\n",
      "[flaml.automl: 02-13 10:03:27] {1087} INFO -  at 44.9s,\tbest rf's error=0.3904,\tbest lgbm's error=0.3359\n",
      "[flaml.automl: 02-13 10:03:27] {939} INFO - iteration 48  current learner lgbm\n",
      "[flaml.automl: 02-13 10:03:35] {1087} INFO -  at 53.4s,\tbest lgbm's error=0.3336,\tbest lgbm's error=0.3336\n",
      "[flaml.automl: 02-13 10:03:35] {939} INFO - iteration 49  current learner rf\n",
      "[flaml.automl: 02-13 10:03:35] {1087} INFO -  at 53.7s,\tbest rf's error=0.3904,\tbest lgbm's error=0.3336\n",
      "[flaml.automl: 02-13 10:03:35] {939} INFO - iteration 50  current learner xgboost\n",
      "[flaml.automl: 02-13 10:03:35] {1095} INFO - no enough budget for learner xgboost\n",
      "[flaml.automl: 02-13 10:03:35] {939} INFO - iteration 51  current learner rf\n",
      "[flaml.automl: 02-13 10:03:35] {1095} INFO - no enough budget for learner rf\n",
      "[flaml.automl: 02-13 10:03:35] {939} INFO - iteration 52  current learner RGF\n",
      "[flaml.automl: 02-13 10:03:35] {1095} INFO - no enough budget for learner RGF\n",
      "[flaml.automl: 02-13 10:03:35] {1133} INFO - selected model: LGBMClassifier(colsample_bytree=0.9817199261897989,\n",
      "               learning_rate=0.04177273970377335, max_bin=1023,\n",
      "               min_child_weight=18.922277448271377, n_estimators=31,\n",
      "               num_leaves=1771, objective='binary',\n",
      "               reg_alpha=1.112259151174658e-10, reg_lambda=1.0,\n",
      "               subsample=0.9695636894945154)\n",
      "[flaml.automl: 02-13 10:03:35] {894} INFO - fit succeeded\n"
     ]
    }
   ],
   "source": [
    "settings = {\n",
    "    \"time_budget\": 60, # total running time in seconds\n",
    "    \"metric\": 'accuracy', \n",
    "    \"estimator_list\": ['RGF', 'lgbm', 'rf', 'xgboost'], # list of ML learners\n",
    "    \"task\": 'classification', # task type    \n",
    "    \"sample\": True, # whether to subsample training data\n",
    "    \"log_file_name\": 'airlines_experiment.log', # cache directory of flaml log files \n",
    "    \"log_training_metric\": True, # whether to log training metric\n",
    "}\n",
    "\n",
    "'''The main flaml automl API'''\n",
    "automl.fit(X_train = X_train, y_train = y_train, **settings)"
   ]
  },
  {
   "source": [
    "## 4. Comparison with alternatives\n",
    "\n",
    "### FLAML's accuracy"
   ],
   "cell_type": "markdown",
   "metadata": {}
  },
  {
   "cell_type": "code",
   "execution_count": 16,
   "metadata": {},
   "outputs": [
    {
     "output_type": "stream",
     "name": "stdout",
     "text": [
      "flaml accuracy = 0.6720332824110467\n"
     ]
    }
   ],
   "source": [
    "print('flaml accuracy', '=', 1 - sklearn_metric_loss_score('accuracy', y_pred, y_test))"
   ]
  },
  {
   "source": [
    "### Default LightGBM"
   ],
   "cell_type": "markdown",
   "metadata": {}
  },
  {
   "cell_type": "code",
   "execution_count": 17,
   "metadata": {},
   "outputs": [],
   "source": [
    "from lightgbm import LGBMClassifier\n",
    "lgbm = LGBMClassifier()"
   ]
  },
  {
   "cell_type": "code",
   "execution_count": 18,
   "metadata": {},
   "outputs": [
    {
     "output_type": "execute_result",
     "data": {
      "text/plain": [
       "LGBMClassifier()"
      ]
     },
     "metadata": {},
     "execution_count": 18
    }
   ],
   "source": [
    "lgbm.fit(X_train, y_train)"
   ]
  },
  {
   "cell_type": "code",
   "execution_count": 19,
   "metadata": {},
   "outputs": [
    {
     "output_type": "stream",
     "name": "stdout",
     "text": [
      "default lgbm accuracy = 0.6602346380315323\n"
     ]
    }
   ],
   "source": [
    "y_pred = lgbm.predict(X_test)\n",
    "from flaml.ml import sklearn_metric_loss_score\n",
    "print('default lgbm accuracy', '=', 1 - sklearn_metric_loss_score('accuracy', y_pred, y_test))"
   ]
  },
  {
   "source": [
    "### Default XGBoost"
   ],
   "cell_type": "markdown",
   "metadata": {}
  },
  {
   "cell_type": "code",
   "execution_count": 20,
   "metadata": {},
   "outputs": [],
   "source": [
    "from xgboost import XGBClassifier\n",
    "xgb = XGBClassifier()"
   ]
  },
  {
   "cell_type": "code",
   "execution_count": 21,
   "metadata": {},
   "outputs": [
    {
     "output_type": "execute_result",
     "data": {
      "text/plain": [
       "XGBClassifier(base_score=0.5, booster='gbtree', colsample_bylevel=1,\n",
       "              colsample_bynode=1, colsample_bytree=1, gamma=0, gpu_id=-1,\n",
       "              importance_type='gain', interaction_constraints='',\n",
       "              learning_rate=0.300000012, max_delta_step=0, max_depth=6,\n",
       "              min_child_weight=1, missing=nan, monotone_constraints='()',\n",
       "              n_estimators=100, n_jobs=0, num_parallel_tree=1, random_state=0,\n",
       "              reg_alpha=0, reg_lambda=1, scale_pos_weight=1, subsample=1,\n",
       "              tree_method='exact', validate_parameters=1, verbosity=None)"
      ]
     },
     "metadata": {},
     "execution_count": 21
    }
   ],
   "source": [
    "xgb.fit(X_train, y_train)"
   ]
  },
  {
   "cell_type": "code",
   "execution_count": 22,
   "metadata": {},
   "outputs": [
    {
     "output_type": "stream",
     "name": "stdout",
     "text": [
      "default xgboost accuracy = 0.6676060098186078\n"
     ]
    }
   ],
   "source": [
    "y_pred = xgb.predict(X_test)\n",
    "from flaml.ml import sklearn_metric_loss_score\n",
    "print('default xgboost accuracy', '=', 1 - sklearn_metric_loss_score('accuracy', y_pred, y_test))"
   ]
  }
 ],
 "metadata": {
  "kernelspec": {
   "name": "python3",
   "display_name": "Python 3.8.0 64-bit ('blend': conda)",
   "metadata": {
    "interpreter": {
     "hash": "0cfea3304185a9579d09e0953576b57c8581e46e6ebc6dfeb681bc5a511f7544"
    }
   }
  },
  "language_info": {
   "codemirror_mode": {
    "name": "ipython",
    "version": 3
   },
   "file_extension": ".py",
   "mimetype": "text/x-python",
   "name": "python",
   "nbconvert_exporter": "python",
   "pygments_lexer": "ipython3",
   "version": "3.8.0-final"
  }
 },
 "nbformat": 4,
 "nbformat_minor": 2
}