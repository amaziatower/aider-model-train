{
 "cells": [
  {
   "cell_type": "markdown",
   "metadata": {},
   "source": [
    "# Message and Communication\n",
    "\n",
    "An agent in AGNext can react to, send, and publish messages,\n",
    "and messages are the only means through which agents can communicate\n",
    "with each other."
   ]
  },
  {
   "cell_type": "markdown",
   "metadata": {},
   "source": [
    "## Messages\n",
    "\n",
    "Messages are serializable objects, they can be defined using:\n",
    "\n",
    "- A subclass of Pydantic's {py:class}`pydantic.BaseModel`, or\n",
    "- A dataclass\n",
    "\n",
    "For example:"
   ]
  },
  {
   "cell_type": "code",
   "execution_count": 1,
   "metadata": {},
   "outputs": [],
   "source": [
    "from dataclasses import dataclass\n",
    "\n",
    "\n",
    "@dataclass\n",
    "class TextMessage:\n",
    "    content: str\n",
    "    source: str\n",
    "\n",
    "\n",
    "@dataclass\n",
    "class ImageMessage:\n",
    "    url: str\n",
    "    source: str"
   ]
  },
  {
   "cell_type": "markdown",
   "metadata": {},
   "source": [
    "```{note}\n",
    "Messages are purely data, and should not contain any logic.\n",
    "```"
   ]
  },
  {
   "cell_type": "markdown",
   "metadata": {},
   "source": [
    "### Message Handlers\n",
    "\n",
    "When an agent receives a message the runtime will invoke the agent's message handler\n",
    "({py:meth}`~agnext.base.Agent.on_message`) which should implement the agents message handling logic.\n",
    "If this message cannot be handled by the agent, the agent should raise a\n",
    "{py:class}`~agnext.base.exceptions.CantHandleException`.\n",
    "\n",
    "For convenience, the {py:class}`~agnext.components.RoutedAgent` base class\n",
    "provides the {py:meth}`~agnext.components.message_handler` decorator\n",
    "for associating message types with message handlers,\n",
    "so developers do not need to implement the {py:meth}`~agnext.base.Agent.on_message` method.\n",
    "\n",
    "For example, the following type-routed agent responds to `TextMessage` and `ImageMessage`\n",
    "using different message handlers:"
   ]
  },
  {
   "cell_type": "code",
   "execution_count": 2,
   "metadata": {},
   "outputs": [],
   "source": [
    "from agnext.application import SingleThreadedAgentRuntime\n",
    "from agnext.base import AgentId, MessageContext\n",
    "from agnext.components import RoutedAgent, message_handler\n",
    "\n",
    "\n",
    "class MyAgent(RoutedAgent):\n",
    "    @message_handler\n",
    "    async def on_text_message(self, message: TextMessage, ctx: MessageContext) -> None:\n",
    "        print(f\"Hello, {message.source}, you said {message.content}!\")\n",
    "\n",
    "    @message_handler\n",
    "    async def on_image_message(self, message: ImageMessage, ctx: MessageContext) -> None:\n",
    "        print(f\"Hello, {message.source}, you sent me {message.url}!\")"
   ]
  },
  {
   "cell_type": "markdown",
   "metadata": {},
   "source": [
    "Create the agent runtime and register the agent type (see [Agent and Agent Runtime](agent-and-agent-runtime.ipynb)):"
   ]
  },
  {
   "cell_type": "code",
   "execution_count": 3,
   "metadata": {},
   "outputs": [
    {
     "data": {
      "text/plain": [
       "AgentType(type='my_agent')"
      ]
     },
     "execution_count": 3,
     "metadata": {},
     "output_type": "execute_result"
    }
   ],
   "source": [
    "runtime = SingleThreadedAgentRuntime()\n",
    "await runtime.register(\"my_agent\", lambda: MyAgent(\"My Agent\"))"
   ]
  },
  {
   "cell_type": "markdown",
   "metadata": {},
   "source": [
    "Test this agent with `TextMessage` and `ImageMessage`."
   ]
  },
  {
   "cell_type": "code",
   "execution_count": 4,
   "metadata": {},
   "outputs": [
    {
     "name": "stdout",
     "output_type": "stream",
     "text": [
      "Hello, User, you said Hello, World!!\n",
      "Hello, User, you sent me https://example.com/image.jpg!\n"
     ]
    }
   ],
   "source": [
    "runtime.start()\n",
    "agent_id = AgentId(\"my_agent\", \"default\")\n",
    "await runtime.send_message(TextMessage(content=\"Hello, World!\", source=\"User\"), agent_id)\n",
    "await runtime.send_message(ImageMessage(url=\"https://example.com/image.jpg\", source=\"User\"), agent_id)\n",
    "await runtime.stop_when_idle()"
   ]
  },
  {
   "cell_type": "markdown",
   "metadata": {},
   "source": [
    "## Direct Messaging\n",
    "\n",
    "There are two types of communication in AGNext:\n",
    "\n",
    "- **Direct Messaging**: sends a direct message to another agent.\n",
    "- **Broadcast**: publishes a message to a topic.\n",
    "\n",
    "Let's first look at direct messaging.\n",
    "To send a direct message to another agent, within a message handler use\n",
    "the {py:meth}`agnext.base.BaseAgent.send_message` method,\n",
    "from the runtime use the {py:meth}`agnext.base.AgentRuntime.send_message` method.\n",
    "Awaiting calls to these methods will return the return value of the\n",
    "receiving agent's message handler.\n",
    "When the receiving agent's handler returns `None`, `None` will be returned.\n",
    "\n",
    "```{note}\n",
    "If the invoked agent raises an exception while the sender is awaiting,\n",
    "the exception will be propagated back to the sender.\n",
    "```\n",
    "\n",
    "### Request/Response\n",
    "\n",
    "Direct messaging can be used for request/response scenarios,\n",
    "where the sender expects a response from the receiver.\n",
    "The receiver can respond to the message by returning a value from its message handler.\n",
    "You can think of this as a function call between agents.\n",
    "\n",
    "For example, consider the following agents:"
   ]
  },
  {
   "cell_type": "code",
   "execution_count": 5,
   "metadata": {},
   "outputs": [],
   "source": [
    "from dataclasses import dataclass\n",
    "\n",
    "from agnext.application import SingleThreadedAgentRuntime\n",
    "from agnext.base import MessageContext\n",
    "from agnext.components import RoutedAgent, message_handler\n",
    "\n",
    "\n",
    "@dataclass\n",
    "class Message:\n",
    "    content: str\n",
    "\n",
    "\n",
    "class InnerAgent(RoutedAgent):\n",
    "    @message_handler\n",
    "    async def on_my_message(self, message: Message, ctx: MessageContext) -> Message:\n",
    "        return Message(content=f\"Hello from inner, {message.content}\")\n",
    "\n",
    "\n",
    "class OuterAgent(RoutedAgent):\n",
    "    def __init__(self, description: str, inner_agent_type: str):\n",
    "        super().__init__(description)\n",
    "        self.inner_agent_id = AgentId(inner_agent_type, self.id.key)\n",
    "\n",
    "    @message_handler\n",
    "    async def on_my_message(self, message: Message, ctx: MessageContext) -> None:\n",
    "        print(f\"Received message: {message.content}\")\n",
    "        # Send a direct message to the inner agent and receves a response.\n",
    "        response = await self.send_message(Message(f\"Hello from outer, {message.content}\"), self.inner_agent_id)\n",
    "        print(f\"Received inner response: {response.content}\")"
   ]
  },
  {
   "cell_type": "markdown",
   "metadata": {},
   "source": [
    "Upone receving a message, the `OuterAgent` sends a direct message to the `InnerAgent` and receives\n",
    "a message in response.\n",
    "\n",
    "We can test these agents by sending a `Message` to the `OuterAgent`."
   ]
  },
  {
   "cell_type": "code",
   "execution_count": 6,
   "metadata": {},
   "outputs": [
    {
     "name": "stdout",
     "output_type": "stream",
     "text": [
      "Received message: Hello, World!\n",
      "Received inner response: Hello from inner, Hello from outer, Hello, World!\n"
     ]
    }
   ],
   "source": [
    "runtime = SingleThreadedAgentRuntime()\n",
    "await runtime.register(\"inner_agent\", lambda: InnerAgent(\"InnerAgent\"))\n",
    "await runtime.register(\"outer_agent\", lambda: OuterAgent(\"OuterAgent\", \"inner_agent\"))\n",
    "runtime.start()\n",
    "outer = AgentId(\"outer_agent\", \"default\")\n",
    "await runtime.send_message(Message(content=\"Hello, World!\"), outer)\n",
    "await runtime.stop_when_idle()"
   ]
  },
  {
   "cell_type": "markdown",
   "metadata": {},
   "source": [
    "Both outputs are produced by the `OuterAgent`'s message handler, however the second output is based on the response from the `InnerAgent`.\n",
    "\n",
    "Generally speaking, direct messaging is appropriate for scenarios when the sender and\n",
    "recipient are tightly coupled -- they are created together and the sender\n",
    "is linked to a specific instance of the recipient.\n",
    "For example, an agent executes tool calls by sending direct messages to\n",
    "an instance of {py:class}`~agnext.components.tool_agent.ToolAgent`,\n",
    "and uses the responses to form an action-observation loop."
   ]
  },
  {
   "cell_type": "markdown",
   "metadata": {},
   "source": [
    "## Broadcast\n",
    "\n",
    "Broadcast is effectively the publish/subscribe model with topic and subscription.\n",
    "Read [Topic and Subscription](../core-concepts/topic-and-subscription.md)\n",
    "to learn the core concepts.\n",
    "\n",
    "The key difference between direct messaging and broadcast is that broadcast\n",
    "cannot be used for request/response scenarios.\n",
    "When an agent publishes a message it is one way only, it cannot receive a response\n",
    "from any other agent, even if a receiving agent's handler returns a value.\n",
    "\n",
    "```{note}\n",
    "If a response is given to a published message, it will be thrown away.\n",
    "```\n",
    "\n",
    "```{note}\n",
    "If an agent publishes a message type for which it is subscribed it will not\n",
    "receive the message it published. This is to prevent infinite loops.\n",
    "```\n",
    "\n",
    "### Publishing to Topics\n",
    "\n",
    "To publish a message from an agent's handler,\n",
    "use the {py:meth}`agnext.base.BaseAgent.publish_message` method and specify\n",
    "a {py:class}`agnext.base.TopicId`.\n",
    "This call must still be awaited to allow the runtime to schedule delivery of \n",
    "the message to all subscribers,\n",
    "but it will always return `None`.\n",
    "If an agent raises an exception while handling a published message,\n",
    "this will be logged but will not be propagated back to the publishing agent.\n",
    "\n",
    "The following example shows a `BroadcastingAgent` that publishes a message\n",
    "to a topic upon receiving a message. A `ReceivingAgent` subscribes to the topic\n",
    "and prints the message it receives."
   ]
  },
  {
   "cell_type": "code",
   "execution_count": 7,
   "metadata": {},
   "outputs": [],
   "source": [
    "from agnext.application import SingleThreadedAgentRuntime\n",
    "from agnext.base import MessageContext, TopicId\n",
    "from agnext.components import RoutedAgent, message_handler\n",
    "\n",
    "\n",
    "class BroadcastingAgent(RoutedAgent):\n",
    "    @message_handler\n",
    "    async def on_my_message(self, message: Message, ctx: MessageContext) -> None:\n",
    "        # Publish a message to all agents in the same namespace.\n",
    "        await self.publish_message(\n",
    "            Message(f\"Publishing a message: {message.content}!\"),\n",
    "            topic_id=TopicId(type=\"default\", source=self.id.key),\n",
    "        )\n",
    "\n",
    "\n",
    "class ReceivingAgent(RoutedAgent):\n",
    "    @message_handler\n",
    "    async def on_my_message(self, message: Message, ctx: MessageContext) -> None:\n",
    "        print(f\"Received a message: {message.content}\")"
   ]
  },
  {
   "cell_type": "markdown",
   "metadata": {},
   "source": [
    "`BroadcastingAgent` publishes message to a topic with type `\"default\"`\n",
    "and source assigned to the agent instance's agent key.\n",
    "\n",
    "Next, we specify the a subscription for this topic so the receiving agent\n",
    "can get message from the broadcasting agent."
   ]
  },
  {
   "cell_type": "markdown",
   "metadata": {},
   "source": [
    "### Registering Subscriptions\n",
    "\n",
    "Subscriptions are registered with the agent runtime, either as part of\n",
    "agent type's registeration or through a separate API method.\n",
    "\n",
    "Here is how we can register {py:class}`~agnext.components.TypeSubscription`\n",
    "for the broadcasting agent and receiving agent."
   ]
  },
  {
   "cell_type": "code",
   "execution_count": 8,
   "metadata": {},
   "outputs": [
    {
     "name": "stdout",
     "output_type": "stream",
     "text": [
      "Received a message: Publishing a message: Hello, World! From the runtime!!\n"
     ]
    }
   ],
   "source": [
    "from agnext.components import TypeSubscription\n",
    "\n",
    "runtime = SingleThreadedAgentRuntime()\n",
    "\n",
    "# Registering subscription as part of the `register` method, by providing\n",
    "# a factory function that produces a list of subscriptions.\n",
    "await runtime.register(\n",
    "    \"broadcasting_agent\",\n",
    "    lambda: BroadcastingAgent(\"Broadcasting Agent\"),\n",
    "    subscriptions=lambda: [TypeSubscription(topic_type=\"default\", agent_type=\"broadcasting_agent\")],\n",
    ")\n",
    "\n",
    "await runtime.register(\"receiving_agent\", lambda: ReceivingAgent(\"Receiving Agent\"))\n",
    "\n",
    "# Registering subscription directly with the runtime.\n",
    "await runtime.add_subscription(TypeSubscription(topic_type=\"default\", agent_type=\"receiving_agent\"))\n",
    "\n",
    "# Start the runtime and send a message to a broadcasting agent.\n",
    "runtime.start()\n",
    "await runtime.send_message(\n",
    "    Message(\"Hello, World! From the runtime!\"), recipient=AgentId(\"broadcasting_agent\", \"default\")\n",
    ")\n",
    "await runtime.stop_when_idle()"
   ]
  },
  {
   "cell_type": "markdown",
   "metadata": {},
   "source": [
    "From the output, you can see the broadcasting agent published\n",
    "a message, and the message was received by the receiving agent."
   ]
  },
  {
   "cell_type": "markdown",
   "metadata": {},
   "source": [
    "### Default Topic and Subscriptions\n",
    "\n",
    "In the above example, we used\n",
    "{py:class}`~agnext.base.TopicId` and {py:class}`~agnext.components.TypeSubscription`\n",
    "to specify the topic and subscriptions respectively.\n",
    "This is the appropriate way for many scenarios.\n",
    "However, when there is a single scope of publishing, that is, \n",
    "all agents publish and subscribe to all broadcasted messages,\n",
    "we can use the convenience classes {py:class}`~agnext.components.DefaultTopicId`\n",
    "and {py:class}`~agnext.components.DefaultSubscription` to simply our code.\n",
    "\n",
    "{py:class}`~agnext.components.DefaultTopicId` is\n",
    "for creating a topic that uses `\"default\"` as the default value for the topic type\n",
    "and the publishing agent's key as the default value for the topic source.\n",
    "We can simplify `BroadcastingAgent` by using \n",
    "{py:class}`~agnext.components.DefaultTopicId`."
   ]
  },
  {
   "cell_type": "code",
   "execution_count": 9,
   "metadata": {},
   "outputs": [],
   "source": [
    "from agnext.components import DefaultSubscription, DefaultTopicId\n",
    "\n",
    "\n",
    "class BroadcastingAgentDefaultTopic(RoutedAgent):\n",
    "    @message_handler\n",
    "    async def on_my_message(self, message: Message, ctx: MessageContext) -> None:\n",
    "        # Publish a message to all agents in the same namespace.\n",
    "        await self.publish_message(\n",
    "            Message(f\"Publishing a message: {message.content}!\"),\n",
    "            topic_id=DefaultTopicId(),\n",
    "        )"
   ]
  },
  {
   "cell_type": "markdown",
   "metadata": {},
   "source": [
    "We can also simplify subscription using\n",
    "{py:class}`~agnext.components.DefaultSubscription`\n",
    "when registering it as part of agent type registration.\n",
    "\n",
    "When the runtime calls {py:class}`~agnext.components.DefaultSubscription` in\n",
    "the context of the factory function, \n",
    "it creates a {py:class}`~agnext.components.TypeSubscription`\n",
    "whose topic type uses `\"default\"` as the default value and \n",
    "agent type uses the same agent type that is being registered in the same context."
   ]
  },
  {
   "cell_type": "code",
   "execution_count": 10,
   "metadata": {},
   "outputs": [
    {
     "name": "stdout",
     "output_type": "stream",
     "text": [
      "Received a message: Publishing a message: Hello, World! From the runtime!!\n"
     ]
    }
   ],
   "source": [
    "runtime = SingleThreadedAgentRuntime()\n",
    "await runtime.register(\n",
    "    \"broadcasting_agent\",\n",
    "    lambda: BroadcastingAgentDefaultTopic(\"Broadcasting Agent\"),\n",
    "    subscriptions=lambda: [DefaultSubscription()],\n",
    ")\n",
    "await runtime.register(\"receiving_agent\", lambda: ReceivingAgent(\"Receiving Agent\"), lambda: [DefaultSubscription()])\n",
    "runtime.start()\n",
    "await runtime.send_message(\n",
    "    Message(\"Hello, World! From the runtime!\"), recipient=AgentId(\"broadcasting_agent\", \"default\")\n",
    ")\n",
    "await runtime.stop_when_idle()"
   ]
  },
  {
   "cell_type": "markdown",
   "metadata": {},
   "source": [
    "```{note}\n",
    "If your scenario allows all agents to publish and subscribe to\n",
    "all broadcasted messages, use {py:class}`~agnext.components.DefaultTopicId`\n",
    "and {py:class}`~agnext.components.DefaultSubscription` without setting its\n",
    "parameters.\n",
    "```"
   ]
  }
 ],
 "metadata": {
  "kernelspec": {
   "display_name": "agnext",
   "language": "python",
   "name": "python3"
  },
  "language_info": {
   "codemirror_mode": {
    "name": "ipython",
    "version": 3
   },
   "file_extension": ".py",
   "mimetype": "text/x-python",
   "name": "python",
   "nbconvert_exporter": "python",
   "pygments_lexer": "ipython3",
   "version": "3.11.9"
  }
 },
 "nbformat": 4,
 "nbformat_minor": 2
}
