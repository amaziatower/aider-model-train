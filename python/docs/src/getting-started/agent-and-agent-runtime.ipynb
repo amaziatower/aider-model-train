{
 "cells": [
  {
   "cell_type": "markdown",
   "metadata": {},
   "source": [
    "# Agent and Agent Runtime\n",
    "\n",
    "In this and the following section, we focus on the \n",
    "[core concepts](../core-concepts/overview.md) of AGNext:\n",
    "agents, agent runtime, messages, and communication.\n",
    "You will not find any AI models or tools here, just the foundational\n",
    "building blocks for building multi-agent applications."
   ]
  },
  {
   "cell_type": "markdown",
   "metadata": {},
   "source": [
    "An agent in AGNext is an entity defined by the base class {py:class}`agnext.core.BaseAgent`.\n",
    "It has a unique identifier of the type {py:class}`agnext.core.AgentId`,\n",
    "a metadata dictionary of the type {py:class}`agnext.core.AgentMetadata`,\n",
    "and method for handling messages {py:meth}`agnext.core.BaseAgent.on_message`.\n",
    "\n",
    "An agent runtime is the execution environment for agents in AGNext.\n",
    "Similar to the runtime environment of a programming language,\n",
    "an agent runtime provides the necessary infrastructure to facilitate communication\n",
    "between agents, manage agent lifecycles, enforce security boundaries, and support monitoring and\n",
    "debugging.\n",
    "For local development, developers can use {py:class}`~agnext.application.SingleThreadedAgentRuntime`,\n",
    "which can be embedded in a Python application.\n",
    "\n",
    "```{note}\n",
    "Agents are not directly instantiated and managed by application code.\n",
    "Instead, they are created by the runtime when needed and managed by the runtime.\n",
    "```"
   ]
  },
  {
   "cell_type": "markdown",
   "metadata": {},
   "source": [
    "## Implementing an Agent\n",
    "\n",
    "To implement an agent, developer must subclass the {py:class}`~agnext.core.BaseAgent` class,\n",
    "declare the message types it can handle in the {py:attr}`~agnext.core.AgentMetadata.subscriptions` metadata,\n",
    "and implement the {py:meth}`~agnext.core.BaseAgent.on_message` method.\n",
    "This method is invoked when the agent receives a message. For example,\n",
    "the following agent handles a simple message type and simply prints message it receives:"
   ]
  },
  {
   "cell_type": "code",
   "execution_count": 2,
   "metadata": {},
   "outputs": [],
   "source": [
    "from dataclasses import dataclass\n",
    "from agnext.core import BaseAgent, CancellationToken\n",
    "\n",
    "@dataclass\n",
    "class MyMessage:\n",
    "    content: str\n",
    "\n",
    "class MyAgent(BaseAgent):\n",
    "    def __init__(self):\n",
    "        super().__init__(\"MyAgent\", subscriptions=[MyMessage])\n",
    "\n",
    "    async def on_message(self, message: MyMessage, cancellation_token: CancellationToken) -> None:\n",
    "        print(f\"Received message: {message.content}\")"
   ]
  },
  {
   "cell_type": "markdown",
   "metadata": {},
   "source": [
    "For convenience, developers can subclass the {py:class}`~agnext.components.TypeRoutedAgent` class\n",
    "which provides an easy-to use API to implement different message handlers for different message types.\n",
    "See the section on message handlers below."
   ]
  },
  {
   "cell_type": "markdown",
   "metadata": {},
   "source": [
    "## Registering Agents\n",
    "\n",
    "To make an agent available to the runtime, developers can use the\n",
    "{py:meth}`~agnext.core.AgentRuntime.register` method.\n",
    "The process of registration associates a name and a factory function\n",
    "that creates an instance of the agent in a given namespace.\n",
    "The factory function is used to allow automatic creation of agents when they are needed.\n",
    "\n",
    "For example, to register an agent with the {py:class}`~agnext.application.SingleThreadedAgentRuntime`,\n",
    "the following code can be used:"
   ]
  },
  {
   "cell_type": "code",
   "execution_count": 4,
   "metadata": {},
   "outputs": [],
   "source": [
    "from agnext.application import SingleThreadedAgentRuntime\n",
    "\n",
    "runtime = SingleThreadedAgentRuntime()\n",
    "await runtime.register(\"my_agent\", lambda: MyAgent())"
   ]
  },
  {
   "cell_type": "markdown",
   "metadata": {},
   "source": [
    "Once an agent is registered, the agent's unique ID of the type {py:class}`~agnext.core.AgentId` \n",
    "can be retrieved by calling {py:meth}`~agnext.core.AgentRuntime.get`.\n",
    "Using the agent ID, we can send messages to the agent:"
   ]
  },
  {
   "cell_type": "code",
   "execution_count": null,
   "metadata": {},
   "outputs": [
    {
     "name": "stdout",
     "output_type": "stream",
     "text": [
      "Received message: Hello, World!\n"
     ]
    }
   ],
   "source": [
    "agent_id = await runtime.get(\"my_agent\")\n",
    "run_context = runtime.start() # Start processing messages in the background.\n",
    "await runtime.send_message(MyMessage(content=\"Hello, World!\"), agent_id)\n",
    "await run_context.stop() # Stop processing messages in the background."
   ]
  },
  {
   "cell_type": "markdown",
   "metadata": {},
   "source": [
    "There is a convenience method\n",
    "{py:meth}`~agnext.core.AgentRuntime.register_and_get` that both registers an agent\n",
    "and gets its ID.\n",
    "\n",
    "```{note}\n",
    "Because the runtime manages the lifecycle of agents, a reference to an agent,\n",
    "whether it is {py:class}`~agnext.core.AgentId` or {py:class}`~agnext.core.AgentProxy`,\n",
    "is only used to communicate with the agent or retrieve its metadata (e.g., description).\n",
    "```"
   ]
  },
  {
   "cell_type": "markdown",
   "metadata": {},
   "source": [
    "## Running the Single-Threaded Agent Runtime\n",
    "\n",
    "The above code snippet uses `runtime.start()` to start a background task\n",
    "to process and deliver messages to recepients' message handlers.\n",
    "This is a feature of the\n",
    "local embedded runtime {py:class}`~agnext.application.SingleThreadedAgentRuntime`.\n",
    "\n",
    "To stop the background task immediately, use the `stop()` method:"
   ]
  },
  {
   "cell_type": "code",
   "execution_count": 6,
   "metadata": {},
   "outputs": [],
   "source": [
    "run_context = runtime.start()\n",
    "# ... Send messages, publish messages, etc.\n",
    "await run_context.stop() # This will return immediately but will not cancel\n",
    "# any in-progress message handling."
   ]
  },
  {
   "cell_type": "markdown",
   "metadata": {},
   "source": [
    "You can resume the background task by calling `start()` again.\n",
    "\n",
    "For batch scenarios such as running benchmarks for evaluating agents,\n",
    "you may want to wait for the background task to stop automatically when\n",
    "there are no unprocessed messages and no agent is handling messages --\n",
    "the batch may considered complete.\n",
    "You can achieve this by using the `stop_when_idle()` method:"
   ]
  },
  {
   "cell_type": "code",
   "execution_count": 7,
   "metadata": {},
   "outputs": [],
   "source": [
    "run_context = runtime.start()\n",
    "# ... Send messages, publish messages, etc.\n",
    "await run_context.stop_when_idle() # This will block until the runtime is idle."
   ]
  },
  {
   "cell_type": "markdown",
   "metadata": {},
   "source": [
    "You can also directly process messages one-by-one without a background task using:"
   ]
  },
  {
   "cell_type": "code",
   "execution_count": 8,
   "metadata": {},
   "outputs": [],
   "source": [
    "await runtime.process_next()"
   ]
  },
  {
   "cell_type": "markdown",
   "metadata": {},
   "source": [
    "Other runtime implementations will have their own ways of running the runtime."
   ]
  }
 ],
 "metadata": {
  "kernelspec": {
   "display_name": "agnext",
   "language": "python",
   "name": "python3"
  },
  "language_info": {
   "codemirror_mode": {
    "name": "ipython",
    "version": 3
   },
   "file_extension": ".py",
   "mimetype": "text/x-python",
   "name": "python",
   "nbconvert_exporter": "python",
   "pygments_lexer": "ipython3",
   "version": "3.11.9"
  }
 },
 "nbformat": 4,
 "nbformat_minor": 2
}
