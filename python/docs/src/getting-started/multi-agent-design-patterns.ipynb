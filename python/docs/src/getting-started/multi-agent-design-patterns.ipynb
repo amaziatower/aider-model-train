{
 "cells": [
  {
   "cell_type": "markdown",
   "metadata": {},
   "source": [
    "# Multi-Agent Design Patterns\n",
    "\n",
    "Agents can work together in a variety of ways to solve problems.\n",
    "Research works like [AutoGen](https://aka.ms/autogen-paper),\n",
    "[MetaGPT](https://arxiv.org/abs/2308.00352)\n",
    "and [ChatDev](https://arxiv.org/abs/2307.07924) have shown\n",
    "multi-agent systems out-performing single agent systems at complex tasks\n",
    "like software development.\n",
    "\n",
    "You can implement any multi-agent design pattern using AGNext agents, which\n",
    "communicate with each other using messages through the agent runtime.\n",
    "See [samples](https://github.com/microsoft/agnext/tree/main/python/samples#pattern-examples)\n",
    "for how to implement patterns like reflection and group chat.\n"
   ]
  }
 ],
 "metadata": {
  "language_info": {
   "name": "python"
  }
 },
 "nbformat": 4,
 "nbformat_minor": 2
}
