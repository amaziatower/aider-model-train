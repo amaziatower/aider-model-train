{
  "cells": [
    {
      "cell_type": "markdown",
      "metadata": {},
      "source": [
        "# Tool Use\n",
        "\n",
        "The `AgentChat` api provides a `ToolUseAssistantAgent` with presets for adding tools that the agent can call as part of it's response. \n",
        "\n",
        ":::{note}\n",
        "\n",
        "The example presented here is a work in progress 🚧. Also, tool uses here assumed the `model_client` used by the agent supports tool calling. \n",
        "::: "
      ]
    },
    {
      "cell_type": "code",
      "execution_count": 1,
      "metadata": {},
      "outputs": [],
      "source": [
        "from autogen_agentchat.agents import ToolUseAssistantAgent\n",
        "from autogen_agentchat.teams.group_chat import RoundRobinGroupChat\n",
        "from autogen_core.components.models import OpenAIChatCompletionClient\n",
        "from autogen_core.components.tools import FunctionTool"
      ]
    },
    {
      "cell_type": "markdown",
      "metadata": {},
      "source": [
        "In AgentChat, a Tool is a function wrapped in the `FunctionTool` class exported from `autogen_core.components.tools`.   "
      ]
    },
    {
      "cell_type": "code",
      "execution_count": 2,
      "metadata": {},
      "outputs": [],
      "source": [
        "async def get_weather(city: str) -> str:\n",
        "    return f\"The weather in {city} is 72 degrees and Sunny.\"\n",
        "\n",
        "\n",
        "get_weather_tool = FunctionTool(get_weather, description=\"Get the weather for a city\")"
      ]
    },
    {
      "cell_type": "markdown",
      "metadata": {},
      "source": [
        "Finally, agents that use tools are defined in the following manner. \n",
        "\n",
        "-  An agent is instantiated based on the  `ToolUseAssistantAgent` class in AgentChat. The agent is aware of the tools it can use by passing a `tools_schema` attribute to the class, which is passed to the `model_client` when the agent generates a response.\n",
        "-  An agent Team is defined that takes a list of `tools`.  Effectively, the `ToolUseAssistantAgent` can generate messages that call tools, and the team is responsible executing those tool calls and returning the results."
      ]
    },
    {
      "cell_type": "code",
      "execution_count": 3,
      "metadata": {},
      "outputs": [
        {
          "name": "stdout",
          "output_type": "stream",
          "text": [
            "\n",
            "--------------------------------------------------------------------------- \n",
            "\u001b[91m[2024-10-08T09:50:13.202461]:\u001b[0m\n",
            "\n",
            "What's the weather in New York?\n",
            "From: user\n",
            "--------------------------------------------------------------------------- \n",
            "\u001b[91m[2024-10-08T09:50:14.090696], Weather_Assistant:\u001b[0m\n",
            "\n",
            "[FunctionCall(id='call_wqkaIBdYjWklWG0GQkYz7FZ0', arguments='{\"city\":\"New York\"}', name='get_weather')]\n",
            "From: Weather_Assistant\n",
            "--------------------------------------------------------------------------- \n",
            "\u001b[91m[2024-10-08T09:50:14.092050], tool_agent_for_Weather_Assistant:\u001b[0m\n",
            "\n",
            "[FunctionExecutionResult(content='The weather in New York is 72 degrees and Sunny.', call_id='call_wqkaIBdYjWklWG0GQkYz7FZ0')]\n",
            "From: tool_agent_for_Weather_Assistant\n",
            "--------------------------------------------------------------------------- \n",
            "\u001b[91m[2024-10-08T09:50:14.714470], Weather_Assistant:\u001b[0m\n",
            "\n",
            "The weather in New York is 72 degrees and sunny. \n",
            "\n",
            "TERMINATE\n",
            "From: Weather_Assistant"
          ]
        }
      ],
      "source": [
        "assistant = ToolUseAssistantAgent(\n",
        "    \"Weather_Assistant\",\n",
        "    model_client=OpenAIChatCompletionClient(model=\"gpt-4o-mini\"),\n",
        "    registered_tools=[get_weather_tool],\n",
        ")\n",
        "team = RoundRobinGroupChat([assistant])\n",
        "result = await team.run(\"What's the weather in New York?\")\n",
        "# print(result)"
      ]
    },
    {
      "cell_type": "markdown",
      "metadata": {},
      "source": [
        "## Using Langchain Tools \n",
        "\n",
        "AutoGen also provides direct support for tools from LangChain via the `autogen_ext`  package.\n",
        "\n"
      ]
    },
    {
      "cell_type": "code",
      "execution_count": 4,
      "metadata": {},
      "outputs": [],
      "source": [
        "# pip install langchain, langchain-community, wikipedia , autogen-ext\n",
        "\n",
        "from autogen_ext.tools.langchain import LangChainToolAdapter\n",
        "from langchain.tools import WikipediaQueryRun\n",
        "from langchain_community.utilities import WikipediaAPIWrapper\n",
        "\n",
        "api_wrapper = WikipediaAPIWrapper(top_k_results=1, doc_content_chars_max=100)\n",
        "tool = WikipediaQueryRun(api_wrapper=api_wrapper)\n",
        "\n",
        "langchain_wikipedia_tool = LangChainToolAdapter(tool)"
      ]
    },
    {
      "cell_type": "code",
      "execution_count": 8,
      "metadata": {},
      "outputs": [
        {
          "name": "stdout",
          "output_type": "stream",
          "text": [
            "\n",
            "--------------------------------------------------------------------------- \n",
            "\u001b[91m[2024-10-08T09:51:36.869317]:\u001b[0m\n",
            "\n",
            "Who is the receipient of the 2023 Nobel Prize in Physics?\n",
            "From: user"
          ]
        },
        {
          "name": "stdout",
          "output_type": "stream",
          "text": [
            "\n",
            "--------------------------------------------------------------------------- \n",
            "\u001b[91m[2024-10-08T09:51:37.856066], WikiPedia_Assistant:\u001b[0m\n",
            "\n",
            "[FunctionCall(id='call_bdLqS1msbHCy5IMGYaata5vs', arguments='{\"query\":\"2023 Nobel Prize in Physics\"}', name='wikipedia')]\n",
            "From: WikiPedia_Assistant\n",
            "--------------------------------------------------------------------------- \n",
            "\u001b[91m[2024-10-08T09:51:38.518288], tool_agent_for_WikiPedia_Assistant:\u001b[0m\n",
            "\n",
            "[FunctionExecutionResult(content='Page: Nobel Prize in Physics\\nSummary: The Nobel Prize in Physics (Swedish: Nobelpriset i fysik) is a', call_id='call_bdLqS1msbHCy5IMGYaata5vs')]\n",
            "From: tool_agent_for_WikiPedia_Assistant\n",
            "--------------------------------------------------------------------------- \n",
            "\u001b[91m[2024-10-08T09:51:39.070911], WikiPedia_Assistant:\u001b[0m\n",
            "\n",
            "[FunctionCall(id='call_BFXGGeuBbOQ1LPb4f0NiNva2', arguments='{\"query\":\"2023 Nobel Prize in Physics recipients\"}', name='wikipedia')]\n",
            "From: WikiPedia_Assistant\n",
            "--------------------------------------------------------------------------- \n",
            "\u001b[91m[2024-10-08T09:51:39.727147], tool_agent_for_WikiPedia_Assistant:\u001b[0m\n",
            "\n",
            "[FunctionExecutionResult(content='Page: Nobel Prize in Physics\\nSummary: The Nobel Prize in Physics (Swedish: Nobelpriset i fysik) is a', call_id='call_BFXGGeuBbOQ1LPb4f0NiNva2')]\n",
            "From: tool_agent_for_WikiPedia_Assistant\n",
            "--------------------------------------------------------------------------- \n",
            "\u001b[91m[2024-10-08T09:51:40.746467], WikiPedia_Assistant:\u001b[0m\n",
            "\n",
            "[FunctionCall(id='call_iH2gkY5A2LiQTiy2eh86XpP5', arguments='{\"query\": \"2023 Nobel Prize in Physics winners\"}', name='wikipedia'), FunctionCall(id='call_rJXgJQiAKoD7yrymNJCsQA9N', arguments='{\"query\": \"Nobel Prize in Physics\"}', name='wikipedia')]\n",
            "From: WikiPedia_Assistant\n",
            "--------------------------------------------------------------------------- \n",
            "\u001b[91m[2024-10-08T09:51:41.469348], tool_agent_for_WikiPedia_Assistant:\u001b[0m\n",
            "\n",
            "[FunctionExecutionResult(content='Page: Nobel Prize in Physics\\nSummary: The Nobel Prize in Physics (Swedish: Nobelpriset i fysik) is a', call_id='call_iH2gkY5A2LiQTiy2eh86XpP5'), FunctionExecutionResult(content='Page: Nobel Prize in Physics\\nSummary: The Nobel Prize in Physics (Swedish: Nobelpriset i fysik) is a', call_id='call_rJXgJQiAKoD7yrymNJCsQA9N')]\n",
            "From: tool_agent_for_WikiPedia_Assistant\n",
            "--------------------------------------------------------------------------- \n",
            "\u001b[91m[2024-10-08T09:51:42.576718], WikiPedia_Assistant:\u001b[0m\n",
            "\n",
            "I couldn't find specific information about the recipients of the 2023 Nobel Prize in Physics. You might want to check a reliable news source or the official Nobel Prize website for the most accurate and up-to-date details. \n",
            "\n",
            "TERMINATE\n",
            "From: WikiPedia_Assistant"
          ]
        }
      ],
      "source": [
        "wikipedia_assistant = ToolUseAssistantAgent(\n",
        "    \"WikiPedia_Assistant\",\n",
        "    model_client=OpenAIChatCompletionClient(model=\"gpt-4o-mini\"),\n",
        "    registered_tools=[langchain_wikipedia_tool],\n",
        ")\n",
        "team = RoundRobinGroupChat([wikipedia_assistant])\n",
        "result = await team.run(\"Who was the first president of the United States?\")\n",
        "\n",
        "# print(result)"
      ]
    },
    {
      "cell_type": "code",
      "execution_count": null,
      "metadata": {},
      "outputs": [],
      "source": []
    }
  ],
  "metadata": {
    "kernelspec": {
      "display_name": "agnext",
      "language": "python",
      "name": "python3"
    },
    "language_info": {
      "codemirror_mode": {
        "name": "ipython",
        "version": 3
      },
      "file_extension": ".py",
      "mimetype": "text/x-python",
      "name": "python",
      "nbconvert_exporter": "python",
      "pygments_lexer": "ipython3",
      "version": "3.11.9"
    }
  },
  "nbformat": 4,
  "nbformat_minor": 2
}
