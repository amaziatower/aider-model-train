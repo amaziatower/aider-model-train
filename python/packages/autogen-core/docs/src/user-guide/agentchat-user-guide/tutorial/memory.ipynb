{
 "cells": [
  {
   "cell_type": "markdown",
   "metadata": {},
   "source": [
    "## Memory \n",
    "\n",
    "There are several use cases where it is valuable to maintain a _store_ of useful facts that can be intelligently added to the context of the agent just before a specific step. The typically use case here is a RAG pattern where a query is used to retrieve relevant information from a database that is then added to the agent's context.\n",
    "\n",
    "\n",
    "AgentChat provides a {py:class}`~autogen_agentchat.memory.Memory` protocol that can be extended to provide this functionality.  The key methods are `query`, `transform`,  `add`, `clear`, and `cleanup`. \n",
    "\n",
    "- `query`: retrieve relevant information from the memory store \n",
    "- `transform`: mutate an agent's internal `model_context` by adding the retrieved information (used in the {py:class}`~autogen_agentchat.agents.AssistantAgent` class) \n",
    "- `add`: add new entries to the memory store\n",
    "- `clear`: clear all entries from the memory store\n",
    "- `cleanup`: clean up any resources used by the memory store  \n",
    "\n",
    "\n",
    "## ListMemory Example\n",
    "\n",
    "{py:class}`~autogen_agentchat.memory.ListMemory` is provided as an example implementation of the {py:class}`~autogen_agentchat.memory.Memory` protocol. It is a simple list-based memory implementation that uses text similarity matching to retrieve relevant information from the memory store. The similarity score is calculated using the `SequenceMatcher` class from the `difflib` module. The similarity score is calculated between the query text and the content text of each memory entry.   \n",
    "\n",
    "In the following example, we will use ListMemory to similate a memory bank of user preferences and explore how it might be used in personalizing the agent's responses."
   ]
  },
  {
   "cell_type": "code",
   "execution_count": 2,
   "metadata": {},
   "outputs": [],
   "source": [
    "from autogen_agentchat.agents import AssistantAgent\n",
    "from autogen_agentchat.memory import ListMemory, MemoryContent, MemoryMimeType\n",
    "from autogen_agentchat.ui import Console\n",
    "from autogen_ext.models.openai import OpenAIChatCompletionClient"
   ]
  },
  {
   "cell_type": "code",
   "execution_count": 25,
   "metadata": {},
   "outputs": [],
   "source": [
    "# Initialize user memory\n",
    "user_memory = ListMemory()\n",
    "\n",
    "# Add user preferences to memory\n",
    "await user_memory.add(MemoryContent(content=\"The weather should be in metric units\", mime_type=MemoryMimeType.TEXT))\n",
    "\n",
    "await user_memory.add(MemoryContent(content=\"Meal recipe must be vegan\", mime_type=MemoryMimeType.TEXT))\n",
    "\n",
    "\n",
    "async def get_weather(city: str, units: str = \"imperial\") -> str:\n",
    "    if units == \"imperial\":\n",
    "        return f\"The weather in {city} is 73 degrees and Sunny.\"\n",
    "    elif units == \"metric\":\n",
    "        return f\"The weather in {city} is 23 degrees and Sunny.\"\n",
    "\n",
    "\n",
    "assistant_agent = AssistantAgent(\n",
    "    name=\"assistant_agent\",\n",
    "    model_client=OpenAIChatCompletionClient(\n",
    "        model=\"gpt-4o-2024-08-06\",\n",
    "    ),\n",
    "    tools=[get_weather],\n",
    "    memory=[user_memory],\n",
    ")"
   ]
  },
  {
   "cell_type": "code",
   "execution_count": 26,
   "metadata": {},
   "outputs": [
    {
     "name": "stdout",
     "output_type": "stream",
     "text": [
      "---------- user ----------\n",
      "What is the weather in New York?\n",
      "---------- assistant_agent ----------\n",
      "[FunctionCall(id='call_1TEayVrDcvLCtdyTlpSRHkZy', arguments='{\"city\":\"New York\",\"units\":\"metric\"}', name='get_weather')]\n",
      "[Prompt tokens: 128, Completion tokens: 20]\n",
      "---------- assistant_agent ----------\n",
      "[FunctionExecutionResult(content='The weather in New York is 23 degrees and Sunny.', call_id='call_1TEayVrDcvLCtdyTlpSRHkZy')]\n",
      "---------- assistant_agent ----------\n",
      "The weather in New York is 23 degrees and Sunny.\n",
      "---------- Summary ----------\n",
      "Number of messages: 4\n",
      "Finish reason: None\n",
      "Total prompt tokens: 128\n",
      "Total completion tokens: 20\n",
      "Duration: 0.62 seconds\n"
     ]
    },
    {
     "data": {
      "text/plain": [
       "TaskResult(messages=[TextMessage(source='user', models_usage=None, content='What is the weather in New York?', type='TextMessage'), ToolCallRequestEvent(source='assistant_agent', models_usage=RequestUsage(prompt_tokens=128, completion_tokens=20), content=[FunctionCall(id='call_1TEayVrDcvLCtdyTlpSRHkZy', arguments='{\"city\":\"New York\",\"units\":\"metric\"}', name='get_weather')], type='ToolCallRequestEvent'), ToolCallExecutionEvent(source='assistant_agent', models_usage=None, content=[FunctionExecutionResult(content='The weather in New York is 23 degrees and Sunny.', call_id='call_1TEayVrDcvLCtdyTlpSRHkZy')], type='ToolCallExecutionEvent'), ToolCallSummaryMessage(source='assistant_agent', models_usage=None, content='The weather in New York is 23 degrees and Sunny.', type='ToolCallSummaryMessage')], stop_reason=None)"
      ]
     },
     "execution_count": 26,
     "metadata": {},
     "output_type": "execute_result"
    }
   ],
   "source": [
    "# Run the agent with a task.\n",
    "stream = assistant_agent.run_stream(task=\"What is the weather in New York?\")\n",
    "await Console(stream)"
   ]
  },
  {
   "cell_type": "markdown",
   "metadata": {},
   "source": [
    "We can inspect that the `assistant_agent` model_context is actually updated with the retrieved memory entries.  The `transform` method is used to format the retrieved memory entries into a string that can be used by the agent.  In this case, we simply concatenate the content of each memory entry into a single string."
   ]
  },
  {
   "cell_type": "code",
   "execution_count": 29,
   "metadata": {},
   "outputs": [
    {
     "data": {
      "text/plain": [
       "[UserMessage(content='Write brief meal recipe with broth', source='user', type='UserMessage'),\n",
       " SystemMessage(content='\\n The following results were retrieved from memory for this task. You may choose to use them or not. :\\n1. Meal recipe must be vegan\\n', type='SystemMessage'),\n",
       " AssistantMessage(content=\"Here's a simple vegan recipe using broth:\\n\\n### Vegan Vegetable Broth Soup\\n\\n**Ingredients:**\\n- 4 cups vegetable broth\\n- 1 cup diced carrots\\n- 1 cup diced celery\\n- 1 cup diced potatoes\\n- 1 cup chopped kale\\n- 1 onion, diced\\n- 2 cloves garlic, minced\\n- 1 tablespoon olive oil\\n- Salt and pepper to taste\\n- Optional: 1 teaspoon dried herbs (thyme, oregano, or basil)\\n\\n**Instructions:**\\n\\n1. **Sauté the Vegetables:**\\n   - In a large pot, heat the olive oil over medium heat.\\n   - Add the onion and garlic, and sauté until the onion becomes translucent.\\n\\n2. **Add Vegetables and Broth:**\\n   - Add diced carrots, celery, and potatoes to the pot. Stir well.\\n   - Pour in the vegetable broth and bring it to a boil.\\n\\n3. **Simmer the Soup:**\\n   - Reduce the heat to a simmer. Cover the pot and let it simmer for about 20 minutes, or until the vegetables are tender.\\n\\n4. **Add Kale:**\\n   - Stir in the chopped kale and continue to simmer for an additional 5 minutes until the kale has wilted.\\n\\n5. **Season:**\\n   - Add salt, pepper, and optional dried herbs to taste.\\n\\n6. **Serve:**\\n   - Serve hot with a slice of whole-grain bread if desired.\\n\\nEnjoy your warm and nourishing vegan vegetable broth soup!\", source='assistant_agent', type='AssistantMessage')]"
      ]
     },
     "execution_count": 29,
     "metadata": {},
     "output_type": "execute_result"
    }
   ],
   "source": [
    "await assistant_agent._model_context.get_messages()"
   ]
  },
  {
   "cell_type": "markdown",
   "metadata": {},
   "source": [
    "We see above that the weather is returned in Centigrade as stated in the user preferences. \n",
    "\n",
    "Similarly, assuming we ask a separate question about generating a meal plan, the agent is able to retrieve relevant information from the memory store and provide a personalized response."
   ]
  },
  {
   "cell_type": "code",
   "execution_count": 28,
   "metadata": {},
   "outputs": [
    {
     "name": "stdout",
     "output_type": "stream",
     "text": [
      "---------- user ----------\n",
      "Write brief meal recipe with broth\n",
      "---------- assistant_agent ----------\n",
      "Here's a simple vegan recipe using broth:\n",
      "\n",
      "### Vegan Vegetable Broth Soup\n",
      "\n",
      "**Ingredients:**\n",
      "- 4 cups vegetable broth\n",
      "- 1 cup diced carrots\n",
      "- 1 cup diced celery\n",
      "- 1 cup diced potatoes\n",
      "- 1 cup chopped kale\n",
      "- 1 onion, diced\n",
      "- 2 cloves garlic, minced\n",
      "- 1 tablespoon olive oil\n",
      "- Salt and pepper to taste\n",
      "- Optional: 1 teaspoon dried herbs (thyme, oregano, or basil)\n",
      "\n",
      "**Instructions:**\n",
      "\n",
      "1. **Sauté the Vegetables:**\n",
      "   - In a large pot, heat the olive oil over medium heat.\n",
      "   - Add the onion and garlic, and sauté until the onion becomes translucent.\n",
      "\n",
      "2. **Add Vegetables and Broth:**\n",
      "   - Add diced carrots, celery, and potatoes to the pot. Stir well.\n",
      "   - Pour in the vegetable broth and bring it to a boil.\n",
      "\n",
      "3. **Simmer the Soup:**\n",
      "   - Reduce the heat to a simmer. Cover the pot and let it simmer for about 20 minutes, or until the vegetables are tender.\n",
      "\n",
      "4. **Add Kale:**\n",
      "   - Stir in the chopped kale and continue to simmer for an additional 5 minutes until the kale has wilted.\n",
      "\n",
      "5. **Season:**\n",
      "   - Add salt, pepper, and optional dried herbs to taste.\n",
      "\n",
      "6. **Serve:**\n",
      "   - Serve hot with a slice of whole-grain bread if desired.\n",
      "\n",
      "Enjoy your warm and nourishing vegan vegetable broth soup!\n",
      "[Prompt tokens: 124, Completion tokens: 309]\n",
      "---------- Summary ----------\n",
      "Number of messages: 2\n",
      "Finish reason: None\n",
      "Total prompt tokens: 124\n",
      "Total completion tokens: 309\n",
      "Duration: 4.45 seconds\n"
     ]
    },
    {
     "data": {
      "text/plain": [
       "TaskResult(messages=[TextMessage(source='user', models_usage=None, content='Write brief meal recipe with broth', type='TextMessage'), TextMessage(source='assistant_agent', models_usage=RequestUsage(prompt_tokens=124, completion_tokens=309), content=\"Here's a simple vegan recipe using broth:\\n\\n### Vegan Vegetable Broth Soup\\n\\n**Ingredients:**\\n- 4 cups vegetable broth\\n- 1 cup diced carrots\\n- 1 cup diced celery\\n- 1 cup diced potatoes\\n- 1 cup chopped kale\\n- 1 onion, diced\\n- 2 cloves garlic, minced\\n- 1 tablespoon olive oil\\n- Salt and pepper to taste\\n- Optional: 1 teaspoon dried herbs (thyme, oregano, or basil)\\n\\n**Instructions:**\\n\\n1. **Sauté the Vegetables:**\\n   - In a large pot, heat the olive oil over medium heat.\\n   - Add the onion and garlic, and sauté until the onion becomes translucent.\\n\\n2. **Add Vegetables and Broth:**\\n   - Add diced carrots, celery, and potatoes to the pot. Stir well.\\n   - Pour in the vegetable broth and bring it to a boil.\\n\\n3. **Simmer the Soup:**\\n   - Reduce the heat to a simmer. Cover the pot and let it simmer for about 20 minutes, or until the vegetables are tender.\\n\\n4. **Add Kale:**\\n   - Stir in the chopped kale and continue to simmer for an additional 5 minutes until the kale has wilted.\\n\\n5. **Season:**\\n   - Add salt, pepper, and optional dried herbs to taste.\\n\\n6. **Serve:**\\n   - Serve hot with a slice of whole-grain bread if desired.\\n\\nEnjoy your warm and nourishing vegan vegetable broth soup!\", type='TextMessage')], stop_reason=None)"
      ]
     },
     "execution_count": 28,
     "metadata": {},
     "output_type": "execute_result"
    }
   ],
   "source": [
    "stream = assistant_agent.run_stream(task=\"Write brief meal recipe with broth\")\n",
    "await Console(stream)"
   ]
  },
  {
   "cell_type": "markdown",
   "metadata": {},
   "source": [
    "## Custom Memory Stores (Vector DBs, etc.)\n",
    "\n",
    "You can build on the `Memory` protocol to implement more complex memory stores. For example, you could implement a custom memory store that uses a vector database to store and retrieve information, or a memory store that uses a machine learning model to generate personalized responses based on the user's preferences etc.\n",
    "\n",
    "Specifically, you will need to overload the  `query`, `transform`, and `add` methods to implement the desired functionality and pass the memory store to your agent.\n"
   ]
  },
  {
   "cell_type": "markdown",
   "metadata": {},
   "source": []
  }
 ],
 "metadata": {
  "kernelspec": {
   "display_name": "agnext",
   "language": "python",
   "name": "python3"
  },
  "language_info": {
   "codemirror_mode": {
    "name": "ipython",
    "version": 3
   },
   "file_extension": ".py",
   "mimetype": "text/x-python",
   "name": "python",
   "nbconvert_exporter": "python",
   "pygments_lexer": "ipython3",
   "version": "3.11.9"
  }
 },
 "nbformat": 4,
 "nbformat_minor": 2
}
